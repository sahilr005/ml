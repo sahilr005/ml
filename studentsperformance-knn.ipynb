{
 "cells": [
  {
   "cell_type": "code",
   "execution_count": 1,
   "id": "6fa1a61d",
   "metadata": {
    "_cell_guid": "b1076dfc-b9ad-4769-8c92-a6c4dae69d19",
    "_uuid": "8f2839f25d086af736a60e9eeb907d3b93b6e0e5",
    "execution": {
     "iopub.execute_input": "2022-08-22T11:23:35.385597Z",
     "iopub.status.busy": "2022-08-22T11:23:35.384924Z",
     "iopub.status.idle": "2022-08-22T11:23:36.607517Z",
     "shell.execute_reply": "2022-08-22T11:23:36.605655Z"
    },
    "papermill": {
     "duration": 1.237085,
     "end_time": "2022-08-22T11:23:36.611066",
     "exception": false,
     "start_time": "2022-08-22T11:23:35.373981",
     "status": "completed"
    },
    "tags": []
   },
   "outputs": [
    {
     "name": "stdout",
     "output_type": "stream",
     "text": [
      "/kaggle/input/students-performance-in-exams/StudentsPerformance.csv\n"
     ]
    }
   ],
   "source": [
    "import numpy as np # linear algebra\n",
    "import matplotlib.pyplot as plt\n",
    "import seaborn as sns\n",
    "import pandas as pd # data processing, CSV file I/O (e.g. pd.read_csv)\n",
    "\n",
    "import os\n",
    "for dirname, _, filenames in os.walk('/kaggle/input'):\n",
    "    for filename in filenames:\n",
    "        print(os.path.join(dirname, filename))"
   ]
  },
  {
   "cell_type": "code",
   "execution_count": 2,
   "id": "61f9afe7",
   "metadata": {
    "execution": {
     "iopub.execute_input": "2022-08-22T11:23:36.630781Z",
     "iopub.status.busy": "2022-08-22T11:23:36.630365Z",
     "iopub.status.idle": "2022-08-22T11:23:36.654600Z",
     "shell.execute_reply": "2022-08-22T11:23:36.653096Z"
    },
    "papermill": {
     "duration": 0.036455,
     "end_time": "2022-08-22T11:23:36.657339",
     "exception": false,
     "start_time": "2022-08-22T11:23:36.620884",
     "status": "completed"
    },
    "tags": []
   },
   "outputs": [],
   "source": [
    "data = pd.read_csv(\"/kaggle/input/students-performance-in-exams/StudentsPerformance.csv\")"
   ]
  },
  {
   "cell_type": "code",
   "execution_count": 3,
   "id": "8936444f",
   "metadata": {
    "execution": {
     "iopub.execute_input": "2022-08-22T11:23:36.674502Z",
     "iopub.status.busy": "2022-08-22T11:23:36.673984Z",
     "iopub.status.idle": "2022-08-22T11:23:36.699772Z",
     "shell.execute_reply": "2022-08-22T11:23:36.698527Z"
    },
    "papermill": {
     "duration": 0.037506,
     "end_time": "2022-08-22T11:23:36.702498",
     "exception": false,
     "start_time": "2022-08-22T11:23:36.664992",
     "status": "completed"
    },
    "tags": []
   },
   "outputs": [
    {
     "data": {
      "text/html": [
       "<div>\n",
       "<style scoped>\n",
       "    .dataframe tbody tr th:only-of-type {\n",
       "        vertical-align: middle;\n",
       "    }\n",
       "\n",
       "    .dataframe tbody tr th {\n",
       "        vertical-align: top;\n",
       "    }\n",
       "\n",
       "    .dataframe thead th {\n",
       "        text-align: right;\n",
       "    }\n",
       "</style>\n",
       "<table border=\"1\" class=\"dataframe\">\n",
       "  <thead>\n",
       "    <tr style=\"text-align: right;\">\n",
       "      <th></th>\n",
       "      <th>gender</th>\n",
       "      <th>race/ethnicity</th>\n",
       "      <th>parental level of education</th>\n",
       "      <th>lunch</th>\n",
       "      <th>test preparation course</th>\n",
       "      <th>math score</th>\n",
       "      <th>reading score</th>\n",
       "      <th>writing score</th>\n",
       "    </tr>\n",
       "  </thead>\n",
       "  <tbody>\n",
       "    <tr>\n",
       "      <th>0</th>\n",
       "      <td>female</td>\n",
       "      <td>group B</td>\n",
       "      <td>bachelor's degree</td>\n",
       "      <td>standard</td>\n",
       "      <td>none</td>\n",
       "      <td>72</td>\n",
       "      <td>72</td>\n",
       "      <td>74</td>\n",
       "    </tr>\n",
       "    <tr>\n",
       "      <th>1</th>\n",
       "      <td>female</td>\n",
       "      <td>group C</td>\n",
       "      <td>some college</td>\n",
       "      <td>standard</td>\n",
       "      <td>completed</td>\n",
       "      <td>69</td>\n",
       "      <td>90</td>\n",
       "      <td>88</td>\n",
       "    </tr>\n",
       "    <tr>\n",
       "      <th>2</th>\n",
       "      <td>female</td>\n",
       "      <td>group B</td>\n",
       "      <td>master's degree</td>\n",
       "      <td>standard</td>\n",
       "      <td>none</td>\n",
       "      <td>90</td>\n",
       "      <td>95</td>\n",
       "      <td>93</td>\n",
       "    </tr>\n",
       "    <tr>\n",
       "      <th>3</th>\n",
       "      <td>male</td>\n",
       "      <td>group A</td>\n",
       "      <td>associate's degree</td>\n",
       "      <td>free/reduced</td>\n",
       "      <td>none</td>\n",
       "      <td>47</td>\n",
       "      <td>57</td>\n",
       "      <td>44</td>\n",
       "    </tr>\n",
       "    <tr>\n",
       "      <th>4</th>\n",
       "      <td>male</td>\n",
       "      <td>group C</td>\n",
       "      <td>some college</td>\n",
       "      <td>standard</td>\n",
       "      <td>none</td>\n",
       "      <td>76</td>\n",
       "      <td>78</td>\n",
       "      <td>75</td>\n",
       "    </tr>\n",
       "  </tbody>\n",
       "</table>\n",
       "</div>"
      ],
      "text/plain": [
       "   gender race/ethnicity parental level of education         lunch  \\\n",
       "0  female        group B           bachelor's degree      standard   \n",
       "1  female        group C                some college      standard   \n",
       "2  female        group B             master's degree      standard   \n",
       "3    male        group A          associate's degree  free/reduced   \n",
       "4    male        group C                some college      standard   \n",
       "\n",
       "  test preparation course  math score  reading score  writing score  \n",
       "0                    none          72             72             74  \n",
       "1               completed          69             90             88  \n",
       "2                    none          90             95             93  \n",
       "3                    none          47             57             44  \n",
       "4                    none          76             78             75  "
      ]
     },
     "execution_count": 3,
     "metadata": {},
     "output_type": "execute_result"
    }
   ],
   "source": [
    "data.head()"
   ]
  },
  {
   "cell_type": "code",
   "execution_count": 4,
   "id": "9d3f1923",
   "metadata": {
    "execution": {
     "iopub.execute_input": "2022-08-22T11:23:36.721092Z",
     "iopub.status.busy": "2022-08-22T11:23:36.719793Z",
     "iopub.status.idle": "2022-08-22T11:23:36.753535Z",
     "shell.execute_reply": "2022-08-22T11:23:36.752275Z"
    },
    "papermill": {
     "duration": 0.045386,
     "end_time": "2022-08-22T11:23:36.756104",
     "exception": false,
     "start_time": "2022-08-22T11:23:36.710718",
     "status": "completed"
    },
    "tags": []
   },
   "outputs": [
    {
     "data": {
      "text/html": [
       "<div>\n",
       "<style scoped>\n",
       "    .dataframe tbody tr th:only-of-type {\n",
       "        vertical-align: middle;\n",
       "    }\n",
       "\n",
       "    .dataframe tbody tr th {\n",
       "        vertical-align: top;\n",
       "    }\n",
       "\n",
       "    .dataframe thead th {\n",
       "        text-align: right;\n",
       "    }\n",
       "</style>\n",
       "<table border=\"1\" class=\"dataframe\">\n",
       "  <thead>\n",
       "    <tr style=\"text-align: right;\">\n",
       "      <th></th>\n",
       "      <th>math score</th>\n",
       "      <th>reading score</th>\n",
       "      <th>writing score</th>\n",
       "    </tr>\n",
       "  </thead>\n",
       "  <tbody>\n",
       "    <tr>\n",
       "      <th>count</th>\n",
       "      <td>1000.00000</td>\n",
       "      <td>1000.000000</td>\n",
       "      <td>1000.000000</td>\n",
       "    </tr>\n",
       "    <tr>\n",
       "      <th>mean</th>\n",
       "      <td>66.08900</td>\n",
       "      <td>69.169000</td>\n",
       "      <td>68.054000</td>\n",
       "    </tr>\n",
       "    <tr>\n",
       "      <th>std</th>\n",
       "      <td>15.16308</td>\n",
       "      <td>14.600192</td>\n",
       "      <td>15.195657</td>\n",
       "    </tr>\n",
       "    <tr>\n",
       "      <th>min</th>\n",
       "      <td>0.00000</td>\n",
       "      <td>17.000000</td>\n",
       "      <td>10.000000</td>\n",
       "    </tr>\n",
       "    <tr>\n",
       "      <th>25%</th>\n",
       "      <td>57.00000</td>\n",
       "      <td>59.000000</td>\n",
       "      <td>57.750000</td>\n",
       "    </tr>\n",
       "    <tr>\n",
       "      <th>50%</th>\n",
       "      <td>66.00000</td>\n",
       "      <td>70.000000</td>\n",
       "      <td>69.000000</td>\n",
       "    </tr>\n",
       "    <tr>\n",
       "      <th>75%</th>\n",
       "      <td>77.00000</td>\n",
       "      <td>79.000000</td>\n",
       "      <td>79.000000</td>\n",
       "    </tr>\n",
       "    <tr>\n",
       "      <th>max</th>\n",
       "      <td>100.00000</td>\n",
       "      <td>100.000000</td>\n",
       "      <td>100.000000</td>\n",
       "    </tr>\n",
       "  </tbody>\n",
       "</table>\n",
       "</div>"
      ],
      "text/plain": [
       "       math score  reading score  writing score\n",
       "count  1000.00000    1000.000000    1000.000000\n",
       "mean     66.08900      69.169000      68.054000\n",
       "std      15.16308      14.600192      15.195657\n",
       "min       0.00000      17.000000      10.000000\n",
       "25%      57.00000      59.000000      57.750000\n",
       "50%      66.00000      70.000000      69.000000\n",
       "75%      77.00000      79.000000      79.000000\n",
       "max     100.00000     100.000000     100.000000"
      ]
     },
     "execution_count": 4,
     "metadata": {},
     "output_type": "execute_result"
    }
   ],
   "source": [
    "data.describe()"
   ]
  },
  {
   "cell_type": "code",
   "execution_count": 5,
   "id": "83bf3715",
   "metadata": {
    "execution": {
     "iopub.execute_input": "2022-08-22T11:23:36.774357Z",
     "iopub.status.busy": "2022-08-22T11:23:36.773606Z",
     "iopub.status.idle": "2022-08-22T11:23:36.782672Z",
     "shell.execute_reply": "2022-08-22T11:23:36.781657Z"
    },
    "papermill": {
     "duration": 0.021252,
     "end_time": "2022-08-22T11:23:36.785482",
     "exception": false,
     "start_time": "2022-08-22T11:23:36.764230",
     "status": "completed"
    },
    "tags": []
   },
   "outputs": [
    {
     "data": {
      "text/plain": [
       "gender                         0\n",
       "race/ethnicity                 0\n",
       "parental level of education    0\n",
       "lunch                          0\n",
       "test preparation course        0\n",
       "math score                     0\n",
       "reading score                  0\n",
       "writing score                  0\n",
       "dtype: int64"
      ]
     },
     "execution_count": 5,
     "metadata": {},
     "output_type": "execute_result"
    }
   ],
   "source": [
    "data.isnull().sum()"
   ]
  },
  {
   "cell_type": "code",
   "execution_count": 6,
   "id": "0a2b8efa",
   "metadata": {
    "execution": {
     "iopub.execute_input": "2022-08-22T11:23:36.810320Z",
     "iopub.status.busy": "2022-08-22T11:23:36.809590Z",
     "iopub.status.idle": "2022-08-22T11:23:36.823340Z",
     "shell.execute_reply": "2022-08-22T11:23:36.822279Z"
    },
    "papermill": {
     "duration": 0.028243,
     "end_time": "2022-08-22T11:23:36.826059",
     "exception": false,
     "start_time": "2022-08-22T11:23:36.797816",
     "status": "completed"
    },
    "tags": []
   },
   "outputs": [
    {
     "data": {
      "text/html": [
       "<div>\n",
       "<style scoped>\n",
       "    .dataframe tbody tr th:only-of-type {\n",
       "        vertical-align: middle;\n",
       "    }\n",
       "\n",
       "    .dataframe tbody tr th {\n",
       "        vertical-align: top;\n",
       "    }\n",
       "\n",
       "    .dataframe thead th {\n",
       "        text-align: right;\n",
       "    }\n",
       "</style>\n",
       "<table border=\"1\" class=\"dataframe\">\n",
       "  <thead>\n",
       "    <tr style=\"text-align: right;\">\n",
       "      <th></th>\n",
       "      <th>math score</th>\n",
       "      <th>reading score</th>\n",
       "      <th>writing score</th>\n",
       "    </tr>\n",
       "  </thead>\n",
       "  <tbody>\n",
       "    <tr>\n",
       "      <th>0</th>\n",
       "      <td>72</td>\n",
       "      <td>72</td>\n",
       "      <td>74</td>\n",
       "    </tr>\n",
       "    <tr>\n",
       "      <th>1</th>\n",
       "      <td>69</td>\n",
       "      <td>90</td>\n",
       "      <td>88</td>\n",
       "    </tr>\n",
       "  </tbody>\n",
       "</table>\n",
       "</div>"
      ],
      "text/plain": [
       "   math score  reading score  writing score\n",
       "0          72             72             74\n",
       "1          69             90             88"
      ]
     },
     "execution_count": 6,
     "metadata": {},
     "output_type": "execute_result"
    }
   ],
   "source": [
    "test_score = data[[\"math score\",\"reading score\",\"writing score\"]]\n",
    "test_score.head(2)"
   ]
  },
  {
   "cell_type": "code",
   "execution_count": 7,
   "id": "9851528b",
   "metadata": {
    "execution": {
     "iopub.execute_input": "2022-08-22T11:23:36.843891Z",
     "iopub.status.busy": "2022-08-22T11:23:36.843457Z",
     "iopub.status.idle": "2022-08-22T11:23:37.163606Z",
     "shell.execute_reply": "2022-08-22T11:23:37.162268Z"
    },
    "papermill": {
     "duration": 0.332063,
     "end_time": "2022-08-22T11:23:37.166333",
     "exception": false,
     "start_time": "2022-08-22T11:23:36.834270",
     "status": "completed"
    },
    "tags": []
   },
   "outputs": [
    {
     "data": {
      "text/plain": [
       "<AxesSubplot:>"
      ]
     },
     "execution_count": 7,
     "metadata": {},
     "output_type": "execute_result"
    },
    {
     "data": {
      "image/png": "[encoded data removed]",
      "text/plain": [
       "<Figure size 432x288 with 1 Axes>"
      ]
     },
     "metadata": {
      "needs_background": "light"
     },
     "output_type": "display_data"
    }
   ],
   "source": [
    "sns.barplot(data=test_score)"
   ]
  },
  {
   "cell_type": "code",
   "execution_count": 8,
   "id": "97d46460",
   "metadata": {
    "execution": {
     "iopub.execute_input": "2022-08-22T11:23:37.185736Z",
     "iopub.status.busy": "2022-08-22T11:23:37.184656Z",
     "iopub.status.idle": "2022-08-22T11:23:37.194165Z",
     "shell.execute_reply": "2022-08-22T11:23:37.193165Z"
    },
    "papermill": {
     "duration": 0.02205,
     "end_time": "2022-08-22T11:23:37.196865",
     "exception": false,
     "start_time": "2022-08-22T11:23:37.174815",
     "status": "completed"
    },
    "tags": []
   },
   "outputs": [
    {
     "data": {
      "text/plain": [
       "standard        645\n",
       "free/reduced    355\n",
       "Name: lunch, dtype: int64"
      ]
     },
     "execution_count": 8,
     "metadata": {},
     "output_type": "execute_result"
    }
   ],
   "source": [
    "data[\"lunch\"].value_counts()"
   ]
  },
  {
   "cell_type": "code",
   "execution_count": 9,
   "id": "c736bf35",
   "metadata": {
    "execution": {
     "iopub.execute_input": "2022-08-22T11:23:37.217490Z",
     "iopub.status.busy": "2022-08-22T11:23:37.216643Z",
     "iopub.status.idle": "2022-08-22T11:23:37.224376Z",
     "shell.execute_reply": "2022-08-22T11:23:37.222309Z"
    },
    "papermill": {
     "duration": 0.02212,
     "end_time": "2022-08-22T11:23:37.228662",
     "exception": false,
     "start_time": "2022-08-22T11:23:37.206542",
     "status": "completed"
    },
    "tags": []
   },
   "outputs": [],
   "source": [
    "lunch= pd.get_dummies(data[\"lunch\"])"
   ]
  },
  {
   "cell_type": "code",
   "execution_count": 10,
   "id": "4d7678a4",
   "metadata": {
    "execution": {
     "iopub.execute_input": "2022-08-22T11:23:37.248435Z",
     "iopub.status.busy": "2022-08-22T11:23:37.247369Z",
     "iopub.status.idle": "2022-08-22T11:23:37.255956Z",
     "shell.execute_reply": "2022-08-22T11:23:37.254869Z"
    },
    "papermill": {
     "duration": 0.020659,
     "end_time": "2022-08-22T11:23:37.258256",
     "exception": false,
     "start_time": "2022-08-22T11:23:37.237597",
     "status": "completed"
    },
    "tags": []
   },
   "outputs": [
    {
     "data": {
      "text/plain": [
       "some college          226\n",
       "associate's degree    222\n",
       "high school           196\n",
       "some high school      179\n",
       "bachelor's degree     118\n",
       "master's degree        59\n",
       "Name: parental level of education, dtype: int64"
      ]
     },
     "execution_count": 10,
     "metadata": {},
     "output_type": "execute_result"
    }
   ],
   "source": [
    "data[\"parental level of education\"].value_counts()"
   ]
  },
  {
   "cell_type": "code",
   "execution_count": 11,
   "id": "fa1429b0",
   "metadata": {
    "execution": {
     "iopub.execute_input": "2022-08-22T11:23:37.277329Z",
     "iopub.status.busy": "2022-08-22T11:23:37.276922Z",
     "iopub.status.idle": "2022-08-22T11:23:37.422249Z",
     "shell.execute_reply": "2022-08-22T11:23:37.421106Z"
    },
    "papermill": {
     "duration": 0.158047,
     "end_time": "2022-08-22T11:23:37.425080",
     "exception": false,
     "start_time": "2022-08-22T11:23:37.267033",
     "status": "completed"
    },
    "tags": []
   },
   "outputs": [],
   "source": [
    "from sklearn.preprocessing import LabelEncoder\n",
    "labelEncoder = LabelEncoder()\n",
    "data[\"parental level of education\"] = labelEncoder.fit_transform(data[\"parental level of education\"])\n",
    "data[\"gender\"] = labelEncoder.fit_transform(data[\"gender\"])\n",
    "data[\"race/ethnicity\"] = labelEncoder.fit_transform(data[\"race/ethnicity\"])\n",
    "data[\"test preparation course\"] = labelEncoder.fit_transform(data[\"test preparation course\"])"
   ]
  },
  {
   "cell_type": "code",
   "execution_count": 12,
   "id": "1c4b51b6",
   "metadata": {
    "execution": {
     "iopub.execute_input": "2022-08-22T11:23:37.444171Z",
     "iopub.status.busy": "2022-08-22T11:23:37.443758Z",
     "iopub.status.idle": "2022-08-22T11:23:37.456666Z",
     "shell.execute_reply": "2022-08-22T11:23:37.455585Z"
    },
    "papermill": {
     "duration": 0.025362,
     "end_time": "2022-08-22T11:23:37.459214",
     "exception": false,
     "start_time": "2022-08-22T11:23:37.433852",
     "status": "completed"
    },
    "tags": []
   },
   "outputs": [
    {
     "data": {
      "text/html": [
       "<div>\n",
       "<style scoped>\n",
       "    .dataframe tbody tr th:only-of-type {\n",
       "        vertical-align: middle;\n",
       "    }\n",
       "\n",
       "    .dataframe tbody tr th {\n",
       "        vertical-align: top;\n",
       "    }\n",
       "\n",
       "    .dataframe thead th {\n",
       "        text-align: right;\n",
       "    }\n",
       "</style>\n",
       "<table border=\"1\" class=\"dataframe\">\n",
       "  <thead>\n",
       "    <tr style=\"text-align: right;\">\n",
       "      <th></th>\n",
       "      <th>gender</th>\n",
       "      <th>race/ethnicity</th>\n",
       "      <th>parental level of education</th>\n",
       "      <th>lunch</th>\n",
       "      <th>test preparation course</th>\n",
       "      <th>math score</th>\n",
       "      <th>reading score</th>\n",
       "      <th>writing score</th>\n",
       "    </tr>\n",
       "  </thead>\n",
       "  <tbody>\n",
       "    <tr>\n",
       "      <th>0</th>\n",
       "      <td>0</td>\n",
       "      <td>1</td>\n",
       "      <td>1</td>\n",
       "      <td>standard</td>\n",
       "      <td>1</td>\n",
       "      <td>72</td>\n",
       "      <td>72</td>\n",
       "      <td>74</td>\n",
       "    </tr>\n",
       "    <tr>\n",
       "      <th>1</th>\n",
       "      <td>0</td>\n",
       "      <td>2</td>\n",
       "      <td>4</td>\n",
       "      <td>standard</td>\n",
       "      <td>0</td>\n",
       "      <td>69</td>\n",
       "      <td>90</td>\n",
       "      <td>88</td>\n",
       "    </tr>\n",
       "    <tr>\n",
       "      <th>2</th>\n",
       "      <td>0</td>\n",
       "      <td>1</td>\n",
       "      <td>3</td>\n",
       "      <td>standard</td>\n",
       "      <td>1</td>\n",
       "      <td>90</td>\n",
       "      <td>95</td>\n",
       "      <td>93</td>\n",
       "    </tr>\n",
       "  </tbody>\n",
       "</table>\n",
       "</div>"
      ],
      "text/plain": [
       "   gender  race/ethnicity  parental level of education     lunch  \\\n",
       "0       0               1                            1  standard   \n",
       "1       0               2                            4  standard   \n",
       "2       0               1                            3  standard   \n",
       "\n",
       "   test preparation course  math score  reading score  writing score  \n",
       "0                        1          72             72             74  \n",
       "1                        0          69             90             88  \n",
       "2                        1          90             95             93  "
      ]
     },
     "execution_count": 12,
     "metadata": {},
     "output_type": "execute_result"
    }
   ],
   "source": [
    "data.head(3)"
   ]
  },
  {
   "cell_type": "code",
   "execution_count": 13,
   "id": "6b0c55a8",
   "metadata": {
    "execution": {
     "iopub.execute_input": "2022-08-22T11:23:37.478923Z",
     "iopub.status.busy": "2022-08-22T11:23:37.478434Z",
     "iopub.status.idle": "2022-08-22T11:23:37.500487Z",
     "shell.execute_reply": "2022-08-22T11:23:37.499536Z"
    },
    "papermill": {
     "duration": 0.035038,
     "end_time": "2022-08-22T11:23:37.503110",
     "exception": false,
     "start_time": "2022-08-22T11:23:37.468072",
     "status": "completed"
    },
    "tags": []
   },
   "outputs": [
    {
     "data": {
      "text/html": [
       "<div>\n",
       "<style scoped>\n",
       "    .dataframe tbody tr th:only-of-type {\n",
       "        vertical-align: middle;\n",
       "    }\n",
       "\n",
       "    .dataframe tbody tr th {\n",
       "        vertical-align: top;\n",
       "    }\n",
       "\n",
       "    .dataframe thead th {\n",
       "        text-align: right;\n",
       "    }\n",
       "</style>\n",
       "<table border=\"1\" class=\"dataframe\">\n",
       "  <thead>\n",
       "    <tr style=\"text-align: right;\">\n",
       "      <th></th>\n",
       "      <th>gender</th>\n",
       "      <th>race/ethnicity</th>\n",
       "      <th>parental level of education</th>\n",
       "      <th>lunch</th>\n",
       "      <th>test preparation course</th>\n",
       "      <th>math score</th>\n",
       "      <th>reading score</th>\n",
       "      <th>writing score</th>\n",
       "      <th>free/reduced</th>\n",
       "      <th>standard</th>\n",
       "    </tr>\n",
       "  </thead>\n",
       "  <tbody>\n",
       "    <tr>\n",
       "      <th>0</th>\n",
       "      <td>0</td>\n",
       "      <td>1</td>\n",
       "      <td>1</td>\n",
       "      <td>standard</td>\n",
       "      <td>1</td>\n",
       "      <td>72</td>\n",
       "      <td>72</td>\n",
       "      <td>74</td>\n",
       "      <td>0</td>\n",
       "      <td>1</td>\n",
       "    </tr>\n",
       "    <tr>\n",
       "      <th>1</th>\n",
       "      <td>0</td>\n",
       "      <td>2</td>\n",
       "      <td>4</td>\n",
       "      <td>standard</td>\n",
       "      <td>0</td>\n",
       "      <td>69</td>\n",
       "      <td>90</td>\n",
       "      <td>88</td>\n",
       "      <td>0</td>\n",
       "      <td>1</td>\n",
       "    </tr>\n",
       "    <tr>\n",
       "      <th>2</th>\n",
       "      <td>0</td>\n",
       "      <td>1</td>\n",
       "      <td>3</td>\n",
       "      <td>standard</td>\n",
       "      <td>1</td>\n",
       "      <td>90</td>\n",
       "      <td>95</td>\n",
       "      <td>93</td>\n",
       "      <td>0</td>\n",
       "      <td>1</td>\n",
       "    </tr>\n",
       "    <tr>\n",
       "      <th>3</th>\n",
       "      <td>1</td>\n",
       "      <td>0</td>\n",
       "      <td>0</td>\n",
       "      <td>free/reduced</td>\n",
       "      <td>1</td>\n",
       "      <td>47</td>\n",
       "      <td>57</td>\n",
       "      <td>44</td>\n",
       "      <td>1</td>\n",
       "      <td>0</td>\n",
       "    </tr>\n",
       "    <tr>\n",
       "      <th>4</th>\n",
       "      <td>1</td>\n",
       "      <td>2</td>\n",
       "      <td>4</td>\n",
       "      <td>standard</td>\n",
       "      <td>1</td>\n",
       "      <td>76</td>\n",
       "      <td>78</td>\n",
       "      <td>75</td>\n",
       "      <td>0</td>\n",
       "      <td>1</td>\n",
       "    </tr>\n",
       "    <tr>\n",
       "      <th>...</th>\n",
       "      <td>...</td>\n",
       "      <td>...</td>\n",
       "      <td>...</td>\n",
       "      <td>...</td>\n",
       "      <td>...</td>\n",
       "      <td>...</td>\n",
       "      <td>...</td>\n",
       "      <td>...</td>\n",
       "      <td>...</td>\n",
       "      <td>...</td>\n",
       "    </tr>\n",
       "    <tr>\n",
       "      <th>995</th>\n",
       "      <td>0</td>\n",
       "      <td>4</td>\n",
       "      <td>3</td>\n",
       "      <td>standard</td>\n",
       "      <td>0</td>\n",
       "      <td>88</td>\n",
       "      <td>99</td>\n",
       "      <td>95</td>\n",
       "      <td>0</td>\n",
       "      <td>1</td>\n",
       "    </tr>\n",
       "    <tr>\n",
       "      <th>996</th>\n",
       "      <td>1</td>\n",
       "      <td>2</td>\n",
       "      <td>2</td>\n",
       "      <td>free/reduced</td>\n",
       "      <td>1</td>\n",
       "      <td>62</td>\n",
       "      <td>55</td>\n",
       "      <td>55</td>\n",
       "      <td>1</td>\n",
       "      <td>0</td>\n",
       "    </tr>\n",
       "    <tr>\n",
       "      <th>997</th>\n",
       "      <td>0</td>\n",
       "      <td>2</td>\n",
       "      <td>2</td>\n",
       "      <td>free/reduced</td>\n",
       "      <td>0</td>\n",
       "      <td>59</td>\n",
       "      <td>71</td>\n",
       "      <td>65</td>\n",
       "      <td>1</td>\n",
       "      <td>0</td>\n",
       "    </tr>\n",
       "    <tr>\n",
       "      <th>998</th>\n",
       "      <td>0</td>\n",
       "      <td>3</td>\n",
       "      <td>4</td>\n",
       "      <td>standard</td>\n",
       "      <td>0</td>\n",
       "      <td>68</td>\n",
       "      <td>78</td>\n",
       "      <td>77</td>\n",
       "      <td>0</td>\n",
       "      <td>1</td>\n",
       "    </tr>\n",
       "    <tr>\n",
       "      <th>999</th>\n",
       "      <td>0</td>\n",
       "      <td>3</td>\n",
       "      <td>4</td>\n",
       "      <td>free/reduced</td>\n",
       "      <td>1</td>\n",
       "      <td>77</td>\n",
       "      <td>86</td>\n",
       "      <td>86</td>\n",
       "      <td>1</td>\n",
       "      <td>0</td>\n",
       "    </tr>\n",
       "  </tbody>\n",
       "</table>\n",
       "<p>1000 rows × 10 columns</p>\n",
       "</div>"
      ],
      "text/plain": [
       "     gender  race/ethnicity  parental level of education         lunch  \\\n",
       "0         0               1                            1      standard   \n",
       "1         0               2                            4      standard   \n",
       "2         0               1                            3      standard   \n",
       "3         1               0                            0  free/reduced   \n",
       "4         1               2                            4      standard   \n",
       "..      ...             ...                          ...           ...   \n",
       "995       0               4                            3      standard   \n",
       "996       1               2                            2  free/reduced   \n",
       "997       0               2                            2  free/reduced   \n",
       "998       0               3                            4      standard   \n",
       "999       0               3                            4  free/reduced   \n",
       "\n",
       "     test preparation course  math score  reading score  writing score  \\\n",
       "0                          1          72             72             74   \n",
       "1                          0          69             90             88   \n",
       "2                          1          90             95             93   \n",
       "3                          1          47             57             44   \n",
       "4                          1          76             78             75   \n",
       "..                       ...         ...            ...            ...   \n",
       "995                        0          88             99             95   \n",
       "996                        1          62             55             55   \n",
       "997                        0          59             71             65   \n",
       "998                        0          68             78             77   \n",
       "999                        1          77             86             86   \n",
       "\n",
       "     free/reduced  standard  \n",
       "0               0         1  \n",
       "1               0         1  \n",
       "2               0         1  \n",
       "3               1         0  \n",
       "4               0         1  \n",
       "..            ...       ...  \n",
       "995             0         1  \n",
       "996             1         0  \n",
       "997             1         0  \n",
       "998             0         1  \n",
       "999             1         0  \n",
       "\n",
       "[1000 rows x 10 columns]"
      ]
     },
     "execution_count": 13,
     "metadata": {},
     "output_type": "execute_result"
    }
   ],
   "source": [
    "pd.concat([data,lunch],axis=1)"
   ]
  },
  {
   "cell_type": "code",
   "execution_count": 14,
   "id": "5d140d5c",
   "metadata": {
    "execution": {
     "iopub.execute_input": "2022-08-22T11:23:37.524879Z",
     "iopub.status.busy": "2022-08-22T11:23:37.524046Z",
     "iopub.status.idle": "2022-08-22T11:23:37.531506Z",
     "shell.execute_reply": "2022-08-22T11:23:37.530269Z"
    },
    "papermill": {
     "duration": 0.021021,
     "end_time": "2022-08-22T11:23:37.534224",
     "exception": false,
     "start_time": "2022-08-22T11:23:37.513203",
     "status": "completed"
    },
    "tags": []
   },
   "outputs": [],
   "source": [
    "data.drop(\"lunch\",axis=1,inplace=True)"
   ]
  },
  {
   "cell_type": "code",
   "execution_count": 15,
   "id": "59f73417",
   "metadata": {
    "execution": {
     "iopub.execute_input": "2022-08-22T11:23:37.555893Z",
     "iopub.status.busy": "2022-08-22T11:23:37.554876Z",
     "iopub.status.idle": "2022-08-22T11:23:38.109543Z",
     "shell.execute_reply": "2022-08-22T11:23:38.108259Z"
    },
    "papermill": {
     "duration": 0.568352,
     "end_time": "2022-08-22T11:23:38.112127",
     "exception": false,
     "start_time": "2022-08-22T11:23:37.543775",
     "status": "completed"
    },
    "tags": []
   },
   "outputs": [
    {
     "data": {
      "text/plain": [
       "<AxesSubplot:>"
      ]
     },
     "execution_count": 15,
     "metadata": {},
     "output_type": "execute_result"
    },
    {
     "data": {
      "image/png": "[encoded data removed]",
      "text/plain": [
       "<Figure size 1440x576 with 2 Axes>"
      ]
     },
     "metadata": {
      "needs_background": "light"
     },
     "output_type": "display_data"
    }
   ],
   "source": [
    "plt.figure(figsize=(20,8))\n",
    "sns.heatmap(data.corr(),annot=True)"
   ]
  },
  {
   "cell_type": "code",
   "execution_count": 16,
   "id": "5a5d4f4c",
   "metadata": {
    "execution": {
     "iopub.execute_input": "2022-08-22T11:23:38.135116Z",
     "iopub.status.busy": "2022-08-22T11:23:38.134716Z",
     "iopub.status.idle": "2022-08-22T11:23:38.141441Z",
     "shell.execute_reply": "2022-08-22T11:23:38.140032Z"
    },
    "papermill": {
     "duration": 0.021513,
     "end_time": "2022-08-22T11:23:38.143924",
     "exception": false,
     "start_time": "2022-08-22T11:23:38.122411",
     "status": "completed"
    },
    "tags": []
   },
   "outputs": [],
   "source": [
    "x = data.drop(test_score,axis=1)\n",
    "y = test_score"
   ]
  },
  {
   "cell_type": "code",
   "execution_count": 17,
   "id": "7ca9083b",
   "metadata": {
    "execution": {
     "iopub.execute_input": "2022-08-22T11:23:38.167445Z",
     "iopub.status.busy": "2022-08-22T11:23:38.167048Z",
     "iopub.status.idle": "2022-08-22T11:23:38.172767Z",
     "shell.execute_reply": "2022-08-22T11:23:38.171522Z"
    },
    "papermill": {
     "duration": 0.021075,
     "end_time": "2022-08-22T11:23:38.176360",
     "exception": false,
     "start_time": "2022-08-22T11:23:38.155285",
     "status": "completed"
    },
    "tags": []
   },
   "outputs": [
    {
     "name": "stdout",
     "output_type": "stream",
     "text": [
      "(1000, 4)\n",
      "(1000, 3)\n"
     ]
    }
   ],
   "source": [
    "print(x.shape)\n",
    "print(y.shape)"
   ]
  },
  {
   "cell_type": "code",
   "execution_count": 18,
   "id": "3bb818d3",
   "metadata": {
    "execution": {
     "iopub.execute_input": "2022-08-22T11:23:38.201432Z",
     "iopub.status.busy": "2022-08-22T11:23:38.201055Z",
     "iopub.status.idle": "2022-08-22T11:23:38.301737Z",
     "shell.execute_reply": "2022-08-22T11:23:38.300131Z"
    },
    "papermill": {
     "duration": 0.116629,
     "end_time": "2022-08-22T11:23:38.304423",
     "exception": false,
     "start_time": "2022-08-22T11:23:38.187794",
     "status": "completed"
    },
    "tags": []
   },
   "outputs": [
    {
     "name": "stdout",
     "output_type": "stream",
     "text": [
      "(1000, 10) (1000,)\n"
     ]
    }
   ],
   "source": [
    "from sklearn.datasets import make_classification\n",
    "X, y = make_classification(n_samples=1000, n_features=10, n_informative=5, n_redundant=5, n_classes=3, random_state=1)\n",
    "print(X.shape, y.shape)"
   ]
  },
  {
   "cell_type": "code",
   "execution_count": 19,
   "id": "67510310",
   "metadata": {
    "execution": {
     "iopub.execute_input": "2022-08-22T11:23:38.326912Z",
     "iopub.status.busy": "2022-08-22T11:23:38.326451Z",
     "iopub.status.idle": "2022-08-22T11:23:38.397477Z",
     "shell.execute_reply": "2022-08-22T11:23:38.396167Z"
    },
    "papermill": {
     "duration": 0.085822,
     "end_time": "2022-08-22T11:23:38.400487",
     "exception": false,
     "start_time": "2022-08-22T11:23:38.314665",
     "status": "completed"
    },
    "tags": []
   },
   "outputs": [],
   "source": [
    "from sklearn.model_selection import train_test_split\n",
    "x_train,x_test, y_train,y_test =  train_test_split(X,y,random_state=1)\n",
    "# x_train,x_test, y_train,y_test =  train_test_split(x,y,random_state=1)"
   ]
  },
  {
   "cell_type": "code",
   "execution_count": 20,
   "id": "f4b58f23",
   "metadata": {
    "execution": {
     "iopub.execute_input": "2022-08-22T11:23:38.423279Z",
     "iopub.status.busy": "2022-08-22T11:23:38.422879Z",
     "iopub.status.idle": "2022-08-22T11:23:38.527961Z",
     "shell.execute_reply": "2022-08-22T11:23:38.527093Z"
    },
    "papermill": {
     "duration": 0.119224,
     "end_time": "2022-08-22T11:23:38.530271",
     "exception": false,
     "start_time": "2022-08-22T11:23:38.411047",
     "status": "completed"
    },
    "tags": []
   },
   "outputs": [
    {
     "data": {
      "text/plain": [
       "0.7013333333333334"
      ]
     },
     "execution_count": 20,
     "metadata": {},
     "output_type": "execute_result"
    }
   ],
   "source": [
    "from sklearn.linear_model import LogisticRegression\n",
    "lr = LogisticRegression(multi_class='multinomial', solver='lbfgs')\n",
    "lr.fit(x_train,y_train)\n",
    "lr.score(x_train,y_train)"
   ]
  },
  {
   "cell_type": "code",
   "execution_count": 21,
   "id": "e5298afb",
   "metadata": {
    "execution": {
     "iopub.execute_input": "2022-08-22T11:23:38.553264Z",
     "iopub.status.busy": "2022-08-22T11:23:38.552172Z",
     "iopub.status.idle": "2022-08-22T11:23:38.614922Z",
     "shell.execute_reply": "2022-08-22T11:23:38.613561Z"
    },
    "papermill": {
     "duration": 0.07701,
     "end_time": "2022-08-22T11:23:38.617725",
     "exception": false,
     "start_time": "2022-08-22T11:23:38.540715",
     "status": "completed"
    },
    "tags": []
   },
   "outputs": [],
   "source": [
    "from sklearn.metrics import classification_report ,confusion_matrix\n",
    "from sklearn.neighbors import KNeighborsClassifier"
   ]
  },
  {
   "cell_type": "code",
   "execution_count": 22,
   "id": "614d88f9",
   "metadata": {
    "execution": {
     "iopub.execute_input": "2022-08-22T11:23:38.641683Z",
     "iopub.status.busy": "2022-08-22T11:23:38.640479Z",
     "iopub.status.idle": "2022-08-22T11:23:39.384420Z",
     "shell.execute_reply": "2022-08-22T11:23:39.382553Z"
    },
    "papermill": {
     "duration": 0.758942,
     "end_time": "2022-08-22T11:23:39.387470",
     "exception": false,
     "start_time": "2022-08-22T11:23:38.628528",
     "status": "completed"
    },
    "tags": []
   },
   "outputs": [
    {
     "name": "stdout",
     "output_type": "stream",
     "text": [
      "K value :  1 Train Score  1.0 Test Score 0.812\n",
      "K value :  2 Train Score  0.904 Test Score 0.812\n",
      "K value :  3 Train Score  0.9253333333333333 Test Score 0.84\n",
      "K value :  4 Train Score  0.8866666666666667 Test Score 0.844\n",
      "K value :  5 Train Score  0.9053333333333333 Test Score 0.86\n",
      "K value :  6 Train Score  0.8853333333333333 Test Score 0.848\n",
      "K value :  7 Train Score  0.8973333333333333 Test Score 0.864\n",
      "K value :  8 Train Score  0.8773333333333333 Test Score 0.852\n",
      "K value :  9 Train Score  0.8986666666666666 Test Score 0.848\n",
      "K value :  10 Train Score  0.892 Test Score 0.852\n"
     ]
    }
   ],
   "source": [
    "score = []\n",
    "error = []\n",
    "for k in range(1,11):\n",
    "    knn = KNeighborsClassifier(n_neighbors=k)\n",
    "    knn.fit(x_train,y_train)\n",
    "    pred = knn.predict(x_test)\n",
    "    error.append(np.mean(pred != y_test))\n",
    "    score.append(knn.score(x_train,y_train))\n",
    "    print(\"K value : \", k ,\"Train Score \", knn.score(x_train,y_train) , \"Test Score\",knn.score(x_test,y_test))"
   ]
  },
  {
   "cell_type": "code",
   "execution_count": 23,
   "id": "c6a02afb",
   "metadata": {
    "execution": {
     "iopub.execute_input": "2022-08-22T11:23:39.414399Z",
     "iopub.status.busy": "2022-08-22T11:23:39.413988Z",
     "iopub.status.idle": "2022-08-22T11:23:39.652644Z",
     "shell.execute_reply": "2022-08-22T11:23:39.651406Z"
    },
    "papermill": {
     "duration": 0.255164,
     "end_time": "2022-08-22T11:23:39.655304",
     "exception": false,
     "start_time": "2022-08-22T11:23:39.400140",
     "status": "completed"
    },
    "tags": []
   },
   "outputs": [
    {
     "data": {
      "text/plain": [
       "Text(0, 0.5, 'Error Rate')"
      ]
     },
     "execution_count": 23,
     "metadata": {},
     "output_type": "execute_result"
    },
    {
     "data": {
      "image/png": "[encoded data removed]",
      "text/plain": [
       "<Figure size 720x432 with 1 Axes>"
      ]
     },
     "metadata": {
      "needs_background": "light"
     },
     "output_type": "display_data"
    }
   ],
   "source": [
    "plt.figure(figsize=(10,6))\n",
    "plt.plot(range(1,11),error,color = 'blue', marker='o',markerfacecolor='black', markersize=10)\n",
    "plt.title('Error Rate vs. K Value')\n",
    "plt.xlabel('K')\n",
    "plt.ylabel('Error Rate')"
   ]
  },
  {
   "cell_type": "code",
   "execution_count": null,
   "id": "27e2b735",
   "metadata": {
    "papermill": {
     "duration": 0.011855,
     "end_time": "2022-08-22T11:23:39.679167",
     "exception": false,
     "start_time": "2022-08-22T11:23:39.667312",
     "status": "completed"
    },
    "tags": []
   },
   "outputs": [],
   "source": []
  },
  {
   "cell_type": "code",
   "execution_count": 24,
   "id": "58144e4e",
   "metadata": {
    "execution": {
     "iopub.execute_input": "2022-08-22T11:23:39.704725Z",
     "iopub.status.busy": "2022-08-22T11:23:39.704308Z",
     "iopub.status.idle": "2022-08-22T11:23:39.728596Z",
     "shell.execute_reply": "2022-08-22T11:23:39.726922Z"
    },
    "papermill": {
     "duration": 0.040301,
     "end_time": "2022-08-22T11:23:39.731312",
     "exception": false,
     "start_time": "2022-08-22T11:23:39.691011",
     "status": "completed"
    },
    "tags": []
   },
   "outputs": [
    {
     "name": "stdout",
     "output_type": "stream",
     "text": [
      "              precision    recall  f1-score   support\n",
      "\n",
      "           0       0.78      0.89      0.83        83\n",
      "           1       0.88      0.85      0.86        74\n",
      "           2       0.89      0.80      0.84        93\n",
      "\n",
      "    accuracy                           0.84       250\n",
      "   macro avg       0.85      0.85      0.85       250\n",
      "weighted avg       0.85      0.84      0.84       250\n",
      "\n"
     ]
    }
   ],
   "source": [
    "knn = KNeighborsClassifier(n_neighbors=4)\n",
    "knn.fit(x_train,y_train)\n",
    "pred = knn.predict(x_test)\n",
    "\n",
    "print(classification_report(y_test,pred))"
   ]
  },
  {
   "cell_type": "code",
   "execution_count": 25,
   "id": "f61fb8f2",
   "metadata": {
    "execution": {
     "iopub.execute_input": "2022-08-22T11:23:39.756501Z",
     "iopub.status.busy": "2022-08-22T11:23:39.756021Z",
     "iopub.status.idle": "2022-08-22T11:23:39.769039Z",
     "shell.execute_reply": "2022-08-22T11:23:39.767707Z"
    },
    "papermill": {
     "duration": 0.02888,
     "end_time": "2022-08-22T11:23:39.772049",
     "exception": false,
     "start_time": "2022-08-22T11:23:39.743169",
     "status": "completed"
    },
    "tags": []
   },
   "outputs": [
    {
     "data": {
      "text/html": [
       "<div>\n",
       "<style scoped>\n",
       "    .dataframe tbody tr th:only-of-type {\n",
       "        vertical-align: middle;\n",
       "    }\n",
       "\n",
       "    .dataframe tbody tr th {\n",
       "        vertical-align: top;\n",
       "    }\n",
       "\n",
       "    .dataframe thead th {\n",
       "        text-align: right;\n",
       "    }\n",
       "</style>\n",
       "<table border=\"1\" class=\"dataframe\">\n",
       "  <thead>\n",
       "    <tr style=\"text-align: right;\">\n",
       "      <th></th>\n",
       "      <th>gender</th>\n",
       "      <th>race/ethnicity</th>\n",
       "      <th>parental level of education</th>\n",
       "      <th>test preparation course</th>\n",
       "      <th>math score</th>\n",
       "      <th>reading score</th>\n",
       "      <th>writing score</th>\n",
       "    </tr>\n",
       "  </thead>\n",
       "  <tbody>\n",
       "    <tr>\n",
       "      <th>0</th>\n",
       "      <td>0</td>\n",
       "      <td>1</td>\n",
       "      <td>1</td>\n",
       "      <td>1</td>\n",
       "      <td>72</td>\n",
       "      <td>72</td>\n",
       "      <td>74</td>\n",
       "    </tr>\n",
       "  </tbody>\n",
       "</table>\n",
       "</div>"
      ],
      "text/plain": [
       "   gender  race/ethnicity  parental level of education  \\\n",
       "0       0               1                            1   \n",
       "\n",
       "   test preparation course  math score  reading score  writing score  \n",
       "0                        1          72             72             74  "
      ]
     },
     "execution_count": 25,
     "metadata": {},
     "output_type": "execute_result"
    }
   ],
   "source": [
    "data.head(1)"
   ]
  },
  {
   "cell_type": "code",
   "execution_count": 26,
   "id": "7256e48d",
   "metadata": {
    "execution": {
     "iopub.execute_input": "2022-08-22T11:23:39.796803Z",
     "iopub.status.busy": "2022-08-22T11:23:39.796359Z",
     "iopub.status.idle": "2022-08-22T11:23:39.802803Z",
     "shell.execute_reply": "2022-08-22T11:23:39.801598Z"
    },
    "papermill": {
     "duration": 0.022113,
     "end_time": "2022-08-22T11:23:39.805481",
     "exception": false,
     "start_time": "2022-08-22T11:23:39.783368",
     "status": "completed"
    },
    "tags": []
   },
   "outputs": [
    {
     "name": "stdout",
     "output_type": "stream",
     "text": [
      "[[ 0.42899985 -0.70220585 -1.04944805  1.00355721 -0.90091704  0.45523399\n",
      "  -1.56829774  0.94687119 -1.75750933 -0.66636339]]\n"
     ]
    }
   ],
   "source": [
    "print(x_test[:1])"
   ]
  },
  {
   "cell_type": "code",
   "execution_count": 27,
   "id": "b7b5bed7",
   "metadata": {
    "execution": {
     "iopub.execute_input": "2022-08-22T11:23:39.829825Z",
     "iopub.status.busy": "2022-08-22T11:23:39.829422Z",
     "iopub.status.idle": "2022-08-22T11:23:39.837901Z",
     "shell.execute_reply": "2022-08-22T11:23:39.836982Z"
    },
    "papermill": {
     "duration": 0.024081,
     "end_time": "2022-08-22T11:23:39.840799",
     "exception": false,
     "start_time": "2022-08-22T11:23:39.816718",
     "status": "completed"
    },
    "tags": []
   },
   "outputs": [
    {
     "data": {
      "text/plain": [
       "array([2])"
      ]
     },
     "execution_count": 27,
     "metadata": {},
     "output_type": "execute_result"
    }
   ],
   "source": [
    "knn.predict([[0,1,1,1,7,2,0,2,0,4]])"
   ]
  },
  {
   "cell_type": "code",
   "execution_count": 28,
   "id": "cb4158d2",
   "metadata": {
    "execution": {
     "iopub.execute_input": "2022-08-22T11:23:39.865439Z",
     "iopub.status.busy": "2022-08-22T11:23:39.865016Z",
     "iopub.status.idle": "2022-08-22T11:23:39.874245Z",
     "shell.execute_reply": "2022-08-22T11:23:39.873000Z"
    },
    "papermill": {
     "duration": 0.024368,
     "end_time": "2022-08-22T11:23:39.876666",
     "exception": false,
     "start_time": "2022-08-22T11:23:39.852298",
     "status": "completed"
    },
    "tags": []
   },
   "outputs": [
    {
     "data": {
      "text/plain": [
       "array([1, 2, 0, 2, 1, 2, 1, 1, 2, 1, 0, 0, 0, 2, 2, 0, 1, 2, 1, 1, 2, 0,\n",
       "       2, 1, 1, 1, 2, 1, 1, 1, 1, 1, 0, 2, 1, 0, 2, 1, 0, 1, 1, 2, 2, 0,\n",
       "       2, 1, 1, 0, 2, 2, 0, 0, 2, 0, 2, 0, 1, 1, 1, 0, 2, 2, 2, 1, 2, 2,\n",
       "       0, 2, 2, 0, 0, 0, 2, 0, 1, 1, 2, 2, 1, 2, 2, 2, 0, 1, 2, 2, 0, 0,\n",
       "       1, 1, 1, 0, 2, 0, 0, 2, 0, 0, 0, 0, 1, 2, 0, 1, 2, 1, 2, 0, 1, 2,\n",
       "       1, 1, 2, 0, 0, 0, 2, 0, 0, 0, 0, 2, 2, 0, 2, 0, 0, 0, 1, 1, 1, 1,\n",
       "       2, 0, 0, 1, 0, 1, 1, 0, 0, 2, 1, 1, 2, 1, 2, 0, 1, 2, 2, 2, 0, 2,\n",
       "       2, 1, 2, 0, 1, 2, 0, 0, 2, 2, 2, 0, 2, 0, 2, 1, 2, 0, 2, 1, 1, 0,\n",
       "       1, 2, 1, 1, 2, 0, 0, 0, 2, 0, 1, 2, 0, 0, 0, 0, 2, 0, 2, 1, 2, 0,\n",
       "       0, 1, 0, 2, 1, 0, 1, 0, 0, 0, 1, 1, 0, 0, 2, 2, 1, 0, 0, 0, 1, 2,\n",
       "       0, 1, 0, 2, 0, 0, 2, 0, 0, 0, 1, 2, 2, 1, 0, 2, 0, 0, 0, 2, 0, 2,\n",
       "       1, 1, 0, 2, 0, 0, 2, 0])"
      ]
     },
     "execution_count": 28,
     "metadata": {},
     "output_type": "execute_result"
    }
   ],
   "source": [
    "pred"
   ]
  },
  {
   "cell_type": "code",
   "execution_count": null,
   "id": "b2c06288",
   "metadata": {
    "papermill": {
     "duration": 0.011138,
     "end_time": "2022-08-22T11:23:39.899338",
     "exception": false,
     "start_time": "2022-08-22T11:23:39.888200",
     "status": "completed"
    },
    "tags": []
   },
   "outputs": [],
   "source": []
  }
 ],
 "metadata": {
  "kernelspec": {
   "display_name": "Python 3",
   "language": "python",
   "name": "python3"
  },
  "language_info": {
   "codemirror_mode": {
    "name": "ipython",
    "version": 3
   },
   "file_extension": ".py",
   "mimetype": "text/x-python",
   "name": "python",
   "nbconvert_exporter": "python",
   "pygments_lexer": "ipython3",
   "version": "3.7.12"
  },
  "papermill": {
   "default_parameters": {},
   "duration": 14.972583,
   "end_time": "2022-08-22T11:23:40.733910",
   "environment_variables": {},
   "exception": null,
   "input_path": "__notebook__.ipynb",
   "output_path": "__notebook__.ipynb",
   "parameters": {},
   "start_time": "2022-08-22T11:23:25.761327",
   "version": "2.3.4"
  }
 },
 "nbformat": 4,
 "nbformat_minor": 5
}
