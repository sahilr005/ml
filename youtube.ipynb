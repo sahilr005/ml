{
 "cells": [
  {
   "cell_type": "code",
   "execution_count": 1,
   "id": "8c3fc2c1",
   "metadata": {
    "_cell_guid": "b1076dfc-b9ad-4769-8c92-a6c4dae69d19",
    "_uuid": "8f2839f25d086af736a60e9eeb907d3b93b6e0e5",
    "execution": {
     "iopub.execute_input": "2022-08-31T10:59:05.860020Z",
     "iopub.status.busy": "2022-08-31T10:59:05.858975Z",
     "iopub.status.idle": "2022-08-31T10:59:07.424334Z",
     "shell.execute_reply": "2022-08-31T10:59:07.422809Z"
    },
    "papermill": {
     "duration": 1.578948,
     "end_time": "2022-08-31T10:59:07.427131",
     "exception": false,
     "start_time": "2022-08-31T10:59:05.848183",
     "status": "completed"
    },
    "tags": []
   },
   "outputs": [
    {
     "name": "stdout",
     "output_type": "stream",
     "text": [
      "/kaggle/input/youtube-statistics/videos-stats.csv\n",
      "/kaggle/input/youtube-statistics/comments.csv\n"
     ]
    }
   ],
   "source": [
    "import numpy as np # linear algebra\n",
    "import pandas as pd # data processing, CSV file I/O (e.g. pd.read_csv)\n",
    "from sklearn.preprocessing import MinMaxScaler # For Normalie values\n",
    "import seaborn as sns\n",
    "import matplotlib.pyplot as plt\n",
    "import os\n",
    "for dirname, _, filenames in os.walk('/kaggle/input'):\n",
    "    for filename in filenames:\n",
    "        print(os.path.join(dirname, filename))"
   ]
  },
  {
   "cell_type": "code",
   "execution_count": 2,
   "id": "ba33fc4c",
   "metadata": {
    "execution": {
     "iopub.execute_input": "2022-08-31T10:59:07.444856Z",
     "iopub.status.busy": "2022-08-31T10:59:07.444384Z",
     "iopub.status.idle": "2022-08-31T10:59:07.615484Z",
     "shell.execute_reply": "2022-08-31T10:59:07.614431Z"
    },
    "papermill": {
     "duration": 0.183333,
     "end_time": "2022-08-31T10:59:07.618456",
     "exception": false,
     "start_time": "2022-08-31T10:59:07.435123",
     "status": "completed"
    },
    "tags": []
   },
   "outputs": [],
   "source": [
    "data = pd.read_csv(\"/kaggle/input/youtube-statistics/videos-stats.csv\")\n",
    "comm = pd.read_csv(\"/kaggle/input/youtube-statistics/comments.csv\")"
   ]
  },
  {
   "cell_type": "code",
   "execution_count": 3,
   "id": "20b051fb",
   "metadata": {
    "execution": {
     "iopub.execute_input": "2022-08-31T10:59:07.638137Z",
     "iopub.status.busy": "2022-08-31T10:59:07.637644Z",
     "iopub.status.idle": "2022-08-31T10:59:07.667842Z",
     "shell.execute_reply": "2022-08-31T10:59:07.666741Z"
    },
    "papermill": {
     "duration": 0.042991,
     "end_time": "2022-08-31T10:59:07.670402",
     "exception": false,
     "start_time": "2022-08-31T10:59:07.627411",
     "status": "completed"
    },
    "tags": []
   },
   "outputs": [
    {
     "data": {
      "text/html": [
       "<div>\n",
       "<style scoped>\n",
       "    .dataframe tbody tr th:only-of-type {\n",
       "        vertical-align: middle;\n",
       "    }\n",
       "\n",
       "    .dataframe tbody tr th {\n",
       "        vertical-align: top;\n",
       "    }\n",
       "\n",
       "    .dataframe thead th {\n",
       "        text-align: right;\n",
       "    }\n",
       "</style>\n",
       "<table border=\"1\" class=\"dataframe\">\n",
       "  <thead>\n",
       "    <tr style=\"text-align: right;\">\n",
       "      <th></th>\n",
       "      <th>Unnamed: 0</th>\n",
       "      <th>Title</th>\n",
       "      <th>Video ID</th>\n",
       "      <th>Published At</th>\n",
       "      <th>Keyword</th>\n",
       "      <th>Likes</th>\n",
       "      <th>Comments</th>\n",
       "      <th>Views</th>\n",
       "    </tr>\n",
       "  </thead>\n",
       "  <tbody>\n",
       "    <tr>\n",
       "      <th>0</th>\n",
       "      <td>0</td>\n",
       "      <td>Apple Pay Is Killing the Physical Wallet After...</td>\n",
       "      <td>wAZZ-UWGVHI</td>\n",
       "      <td>2022-08-23</td>\n",
       "      <td>tech</td>\n",
       "      <td>3407.0</td>\n",
       "      <td>672.0</td>\n",
       "      <td>135612.0</td>\n",
       "    </tr>\n",
       "    <tr>\n",
       "      <th>1</th>\n",
       "      <td>1</td>\n",
       "      <td>The most EXPENSIVE thing I own.</td>\n",
       "      <td>b3x28s61q3c</td>\n",
       "      <td>2022-08-24</td>\n",
       "      <td>tech</td>\n",
       "      <td>76779.0</td>\n",
       "      <td>4306.0</td>\n",
       "      <td>1758063.0</td>\n",
       "    </tr>\n",
       "    <tr>\n",
       "      <th>2</th>\n",
       "      <td>2</td>\n",
       "      <td>My New House Gaming Setup is SICK!</td>\n",
       "      <td>4mgePWWCAmA</td>\n",
       "      <td>2022-08-23</td>\n",
       "      <td>tech</td>\n",
       "      <td>63825.0</td>\n",
       "      <td>3338.0</td>\n",
       "      <td>1564007.0</td>\n",
       "    </tr>\n",
       "    <tr>\n",
       "      <th>3</th>\n",
       "      <td>3</td>\n",
       "      <td>Petrol Vs Liquid Nitrogen | Freezing Experimen...</td>\n",
       "      <td>kXiYSI7H2b0</td>\n",
       "      <td>2022-08-23</td>\n",
       "      <td>tech</td>\n",
       "      <td>71566.0</td>\n",
       "      <td>1426.0</td>\n",
       "      <td>922918.0</td>\n",
       "    </tr>\n",
       "    <tr>\n",
       "      <th>4</th>\n",
       "      <td>4</td>\n",
       "      <td>Best Back to School Tech 2022!</td>\n",
       "      <td>ErMwWXQxHp0</td>\n",
       "      <td>2022-08-08</td>\n",
       "      <td>tech</td>\n",
       "      <td>96513.0</td>\n",
       "      <td>5155.0</td>\n",
       "      <td>1855644.0</td>\n",
       "    </tr>\n",
       "  </tbody>\n",
       "</table>\n",
       "</div>"
      ],
      "text/plain": [
       "   Unnamed: 0                                              Title     Video ID  \\\n",
       "0           0  Apple Pay Is Killing the Physical Wallet After...  wAZZ-UWGVHI   \n",
       "1           1                    The most EXPENSIVE thing I own.  b3x28s61q3c   \n",
       "2           2                 My New House Gaming Setup is SICK!  4mgePWWCAmA   \n",
       "3           3  Petrol Vs Liquid Nitrogen | Freezing Experimen...  kXiYSI7H2b0   \n",
       "4           4                     Best Back to School Tech 2022!  ErMwWXQxHp0   \n",
       "\n",
       "  Published At Keyword    Likes  Comments      Views  \n",
       "0   2022-08-23    tech   3407.0     672.0   135612.0  \n",
       "1   2022-08-24    tech  76779.0    4306.0  1758063.0  \n",
       "2   2022-08-23    tech  63825.0    3338.0  1564007.0  \n",
       "3   2022-08-23    tech  71566.0    1426.0   922918.0  \n",
       "4   2022-08-08    tech  96513.0    5155.0  1855644.0  "
      ]
     },
     "execution_count": 3,
     "metadata": {},
     "output_type": "execute_result"
    }
   ],
   "source": [
    "data.head()"
   ]
  },
  {
   "cell_type": "code",
   "execution_count": 4,
   "id": "141dce53",
   "metadata": {
    "execution": {
     "iopub.execute_input": "2022-08-31T10:59:07.690257Z",
     "iopub.status.busy": "2022-08-31T10:59:07.689764Z",
     "iopub.status.idle": "2022-08-31T10:59:07.707768Z",
     "shell.execute_reply": "2022-08-31T10:59:07.706165Z"
    },
    "papermill": {
     "duration": 0.030843,
     "end_time": "2022-08-31T10:59:07.710267",
     "exception": false,
     "start_time": "2022-08-31T10:59:07.679424",
     "status": "completed"
    },
    "tags": []
   },
   "outputs": [
    {
     "data": {
      "text/html": [
       "<div>\n",
       "<style scoped>\n",
       "    .dataframe tbody tr th:only-of-type {\n",
       "        vertical-align: middle;\n",
       "    }\n",
       "\n",
       "    .dataframe tbody tr th {\n",
       "        vertical-align: top;\n",
       "    }\n",
       "\n",
       "    .dataframe thead th {\n",
       "        text-align: right;\n",
       "    }\n",
       "</style>\n",
       "<table border=\"1\" class=\"dataframe\">\n",
       "  <thead>\n",
       "    <tr style=\"text-align: right;\">\n",
       "      <th></th>\n",
       "      <th>Unnamed: 0</th>\n",
       "      <th>Video ID</th>\n",
       "      <th>Comment</th>\n",
       "      <th>Likes</th>\n",
       "      <th>Sentiment</th>\n",
       "    </tr>\n",
       "  </thead>\n",
       "  <tbody>\n",
       "    <tr>\n",
       "      <th>0</th>\n",
       "      <td>0</td>\n",
       "      <td>wAZZ-UWGVHI</td>\n",
       "      <td>Let's not forget that Apple Pay in 2014 requir...</td>\n",
       "      <td>95.0</td>\n",
       "      <td>1.0</td>\n",
       "    </tr>\n",
       "    <tr>\n",
       "      <th>1</th>\n",
       "      <td>1</td>\n",
       "      <td>wAZZ-UWGVHI</td>\n",
       "      <td>Here in NZ 50% of retailers don’t even have co...</td>\n",
       "      <td>19.0</td>\n",
       "      <td>0.0</td>\n",
       "    </tr>\n",
       "    <tr>\n",
       "      <th>2</th>\n",
       "      <td>2</td>\n",
       "      <td>wAZZ-UWGVHI</td>\n",
       "      <td>I will forever acknowledge this channel with t...</td>\n",
       "      <td>161.0</td>\n",
       "      <td>2.0</td>\n",
       "    </tr>\n",
       "    <tr>\n",
       "      <th>3</th>\n",
       "      <td>3</td>\n",
       "      <td>wAZZ-UWGVHI</td>\n",
       "      <td>Whenever I go to a place that doesn’t take App...</td>\n",
       "      <td>8.0</td>\n",
       "      <td>0.0</td>\n",
       "    </tr>\n",
       "    <tr>\n",
       "      <th>4</th>\n",
       "      <td>4</td>\n",
       "      <td>wAZZ-UWGVHI</td>\n",
       "      <td>Apple Pay is so convenient, secure, and easy t...</td>\n",
       "      <td>34.0</td>\n",
       "      <td>2.0</td>\n",
       "    </tr>\n",
       "  </tbody>\n",
       "</table>\n",
       "</div>"
      ],
      "text/plain": [
       "   Unnamed: 0     Video ID                                            Comment  \\\n",
       "0           0  wAZZ-UWGVHI  Let's not forget that Apple Pay in 2014 requir...   \n",
       "1           1  wAZZ-UWGVHI  Here in NZ 50% of retailers don’t even have co...   \n",
       "2           2  wAZZ-UWGVHI  I will forever acknowledge this channel with t...   \n",
       "3           3  wAZZ-UWGVHI  Whenever I go to a place that doesn’t take App...   \n",
       "4           4  wAZZ-UWGVHI  Apple Pay is so convenient, secure, and easy t...   \n",
       "\n",
       "   Likes  Sentiment  \n",
       "0   95.0        1.0  \n",
       "1   19.0        0.0  \n",
       "2  161.0        2.0  \n",
       "3    8.0        0.0  \n",
       "4   34.0        2.0  "
      ]
     },
     "execution_count": 4,
     "metadata": {},
     "output_type": "execute_result"
    }
   ],
   "source": [
    "comm.head()"
   ]
  },
  {
   "cell_type": "code",
   "execution_count": 5,
   "id": "ea472934",
   "metadata": {
    "execution": {
     "iopub.execute_input": "2022-08-31T10:59:07.729599Z",
     "iopub.status.busy": "2022-08-31T10:59:07.729066Z",
     "iopub.status.idle": "2022-08-31T10:59:07.743816Z",
     "shell.execute_reply": "2022-08-31T10:59:07.742431Z"
    },
    "papermill": {
     "duration": 0.027527,
     "end_time": "2022-08-31T10:59:07.746511",
     "exception": false,
     "start_time": "2022-08-31T10:59:07.718984",
     "status": "completed"
    },
    "tags": []
   },
   "outputs": [],
   "source": [
    "data.drop([\"Unnamed: 0\"],axis=1,inplace=True)"
   ]
  },
  {
   "cell_type": "code",
   "execution_count": 6,
   "id": "ac22fc58",
   "metadata": {
    "execution": {
     "iopub.execute_input": "2022-08-31T10:59:07.766724Z",
     "iopub.status.busy": "2022-08-31T10:59:07.765891Z",
     "iopub.status.idle": "2022-08-31T10:59:07.775862Z",
     "shell.execute_reply": "2022-08-31T10:59:07.773908Z"
    },
    "papermill": {
     "duration": 0.024239,
     "end_time": "2022-08-31T10:59:07.780119",
     "exception": false,
     "start_time": "2022-08-31T10:59:07.755880",
     "status": "completed"
    },
    "tags": []
   },
   "outputs": [],
   "source": [
    "comm.drop([\"Unnamed: 0\"],axis=1,inplace=True)"
   ]
  },
  {
   "cell_type": "code",
   "execution_count": 7,
   "id": "7b2f775f",
   "metadata": {
    "execution": {
     "iopub.execute_input": "2022-08-31T10:59:07.800699Z",
     "iopub.status.busy": "2022-08-31T10:59:07.800162Z",
     "iopub.status.idle": "2022-08-31T10:59:07.840834Z",
     "shell.execute_reply": "2022-08-31T10:59:07.838879Z"
    },
    "papermill": {
     "duration": 0.054698,
     "end_time": "2022-08-31T10:59:07.844492",
     "exception": false,
     "start_time": "2022-08-31T10:59:07.789794",
     "status": "completed"
    },
    "tags": []
   },
   "outputs": [
    {
     "data": {
      "text/plain": [
       "(0, 148)"
      ]
     },
     "execution_count": 7,
     "metadata": {},
     "output_type": "execute_result"
    }
   ],
   "source": [
    "data.duplicated().sum() , comm.duplicated().sum()\n"
   ]
  },
  {
   "cell_type": "code",
   "execution_count": 8,
   "id": "bf9b7a70",
   "metadata": {
    "execution": {
     "iopub.execute_input": "2022-08-31T10:59:07.868168Z",
     "iopub.status.busy": "2022-08-31T10:59:07.866187Z",
     "iopub.status.idle": "2022-08-31T10:59:07.891262Z",
     "shell.execute_reply": "2022-08-31T10:59:07.889416Z"
    },
    "papermill": {
     "duration": 0.040019,
     "end_time": "2022-08-31T10:59:07.894902",
     "exception": false,
     "start_time": "2022-08-31T10:59:07.854883",
     "status": "completed"
    },
    "tags": []
   },
   "outputs": [],
   "source": [
    "comm.drop_duplicates(inplace=True)"
   ]
  },
  {
   "cell_type": "code",
   "execution_count": 9,
   "id": "fda62176",
   "metadata": {
    "execution": {
     "iopub.execute_input": "2022-08-31T10:59:07.916033Z",
     "iopub.status.busy": "2022-08-31T10:59:07.915143Z",
     "iopub.status.idle": "2022-08-31T10:59:07.942618Z",
     "shell.execute_reply": "2022-08-31T10:59:07.940844Z"
    },
    "papermill": {
     "duration": 0.041661,
     "end_time": "2022-08-31T10:59:07.946088",
     "exception": false,
     "start_time": "2022-08-31T10:59:07.904427",
     "status": "completed"
    },
    "tags": []
   },
   "outputs": [],
   "source": [
    "data2 = pd.merge(left=data,right=comm,on=\"Video ID\")"
   ]
  },
  {
   "cell_type": "code",
   "execution_count": 10,
   "id": "4e25e52b",
   "metadata": {
    "execution": {
     "iopub.execute_input": "2022-08-31T10:59:07.965633Z",
     "iopub.status.busy": "2022-08-31T10:59:07.965171Z",
     "iopub.status.idle": "2022-08-31T10:59:07.991537Z",
     "shell.execute_reply": "2022-08-31T10:59:07.990178Z"
    },
    "papermill": {
     "duration": 0.038985,
     "end_time": "2022-08-31T10:59:07.994282",
     "exception": false,
     "start_time": "2022-08-31T10:59:07.955297",
     "status": "completed"
    },
    "tags": []
   },
   "outputs": [
    {
     "data": {
      "text/html": [
       "<div>\n",
       "<style scoped>\n",
       "    .dataframe tbody tr th:only-of-type {\n",
       "        vertical-align: middle;\n",
       "    }\n",
       "\n",
       "    .dataframe tbody tr th {\n",
       "        vertical-align: top;\n",
       "    }\n",
       "\n",
       "    .dataframe thead th {\n",
       "        text-align: right;\n",
       "    }\n",
       "</style>\n",
       "<table border=\"1\" class=\"dataframe\">\n",
       "  <thead>\n",
       "    <tr style=\"text-align: right;\">\n",
       "      <th></th>\n",
       "      <th>Title</th>\n",
       "      <th>Video ID</th>\n",
       "      <th>Published At</th>\n",
       "      <th>Keyword</th>\n",
       "      <th>Likes_x</th>\n",
       "      <th>Comments</th>\n",
       "      <th>Views</th>\n",
       "      <th>Comment</th>\n",
       "      <th>Likes_y</th>\n",
       "      <th>Sentiment</th>\n",
       "    </tr>\n",
       "  </thead>\n",
       "  <tbody>\n",
       "    <tr>\n",
       "      <th>3755</th>\n",
       "      <td>Raoul Pal Update: Time Is Running Out &amp;amp; Cr...</td>\n",
       "      <td>rwUuug2dzk0</td>\n",
       "      <td>2022-08-24</td>\n",
       "      <td>crypto</td>\n",
       "      <td>66.0</td>\n",
       "      <td>105.0</td>\n",
       "      <td>1616.0</td>\n",
       "      <td>@Perry omg!! I use to set a reminder that alwa...</td>\n",
       "      <td>0.0</td>\n",
       "      <td>2.0</td>\n",
       "    </tr>\n",
       "    <tr>\n",
       "      <th>4337</th>\n",
       "      <td>INSANE WIN on Cubes 2 Slot! (Bonus Buy)</td>\n",
       "      <td>mvhz2HTGf3k</td>\n",
       "      <td>2022-08-02</td>\n",
       "      <td>cubes</td>\n",
       "      <td>150.0</td>\n",
       "      <td>14.0</td>\n",
       "      <td>10146.0</td>\n",
       "      <td>Fisrt</td>\n",
       "      <td>0.0</td>\n",
       "      <td>1.0</td>\n",
       "    </tr>\n",
       "    <tr>\n",
       "      <th>1534</th>\n",
       "      <td>All Sports Golf Battle 2 | Dude Perfect</td>\n",
       "      <td>-RmUADCWI4A</td>\n",
       "      <td>2017-12-04</td>\n",
       "      <td>sports</td>\n",
       "      <td>867074.0</td>\n",
       "      <td>43024.0</td>\n",
       "      <td>106014469.0</td>\n",
       "      <td>Videos never disappoint</td>\n",
       "      <td>4.0</td>\n",
       "      <td>2.0</td>\n",
       "    </tr>\n",
       "  </tbody>\n",
       "</table>\n",
       "</div>"
      ],
      "text/plain": [
       "                                                  Title     Video ID  \\\n",
       "3755  Raoul Pal Update: Time Is Running Out &amp; Cr...  rwUuug2dzk0   \n",
       "4337            INSANE WIN on Cubes 2 Slot! (Bonus Buy)  mvhz2HTGf3k   \n",
       "1534            All Sports Golf Battle 2 | Dude Perfect  -RmUADCWI4A   \n",
       "\n",
       "     Published At Keyword   Likes_x  Comments        Views  \\\n",
       "3755   2022-08-24  crypto      66.0     105.0       1616.0   \n",
       "4337   2022-08-02   cubes     150.0      14.0      10146.0   \n",
       "1534   2017-12-04  sports  867074.0   43024.0  106014469.0   \n",
       "\n",
       "                                                Comment  Likes_y  Sentiment  \n",
       "3755  @Perry omg!! I use to set a reminder that alwa...      0.0        2.0  \n",
       "4337                                              Fisrt      0.0        1.0  \n",
       "1534                            Videos never disappoint      4.0        2.0  "
      ]
     },
     "execution_count": 10,
     "metadata": {},
     "output_type": "execute_result"
    }
   ],
   "source": [
    "data2.sample(3)"
   ]
  },
  {
   "cell_type": "code",
   "execution_count": 11,
   "id": "e9f39ca2",
   "metadata": {
    "execution": {
     "iopub.execute_input": "2022-08-31T10:59:08.016151Z",
     "iopub.status.busy": "2022-08-31T10:59:08.015673Z",
     "iopub.status.idle": "2022-08-31T10:59:08.029213Z",
     "shell.execute_reply": "2022-08-31T10:59:08.027712Z"
    },
    "papermill": {
     "duration": 0.028756,
     "end_time": "2022-08-31T10:59:08.032606",
     "exception": false,
     "start_time": "2022-08-31T10:59:08.003850",
     "status": "completed"
    },
    "tags": []
   },
   "outputs": [
    {
     "data": {
      "text/plain": [
       "2.0    11401\n",
       "1.0     4646\n",
       "0.0     2340\n",
       "Name: Sentiment, dtype: int64"
      ]
     },
     "execution_count": 11,
     "metadata": {},
     "output_type": "execute_result"
    }
   ],
   "source": [
    "data2[\"Sentiment\"].value_counts()"
   ]
  },
  {
   "cell_type": "code",
   "execution_count": 12,
   "id": "cae04ed5",
   "metadata": {
    "execution": {
     "iopub.execute_input": "2022-08-31T10:59:08.052343Z",
     "iopub.status.busy": "2022-08-31T10:59:08.051924Z",
     "iopub.status.idle": "2022-08-31T10:59:08.065234Z",
     "shell.execute_reply": "2022-08-31T10:59:08.063812Z"
    },
    "papermill": {
     "duration": 0.026278,
     "end_time": "2022-08-31T10:59:08.068068",
     "exception": false,
     "start_time": "2022-08-31T10:59:08.041790",
     "status": "completed"
    },
    "tags": []
   },
   "outputs": [
    {
     "data": {
      "text/plain": [
       "Sentiment    1.000000\n",
       "Likes_x      0.019256\n",
       "Views        0.009925\n",
       "Comments     0.007544\n",
       "Likes_y     -0.028018\n",
       "Name: Sentiment, dtype: float64"
      ]
     },
     "execution_count": 12,
     "metadata": {},
     "output_type": "execute_result"
    }
   ],
   "source": [
    "data2.corr()[\"Sentiment\"].sort_values(ascending=False)"
   ]
  },
  {
   "cell_type": "code",
   "execution_count": 13,
   "id": "58b99bb0",
   "metadata": {
    "execution": {
     "iopub.execute_input": "2022-08-31T10:59:08.090224Z",
     "iopub.status.busy": "2022-08-31T10:59:08.089789Z",
     "iopub.status.idle": "2022-08-31T10:59:08.467331Z",
     "shell.execute_reply": "2022-08-31T10:59:08.465271Z"
    },
    "papermill": {
     "duration": 0.393795,
     "end_time": "2022-08-31T10:59:08.472003",
     "exception": false,
     "start_time": "2022-08-31T10:59:08.078208",
     "status": "completed"
    },
    "tags": []
   },
   "outputs": [
    {
     "data": {
      "text/plain": [
       "<AxesSubplot:>"
      ]
     },
     "execution_count": 13,
     "metadata": {},
     "output_type": "execute_result"
    },
    {
     "data": {
      "image/png": "[encoded data removed]",
      "text/plain": [
       "<Figure size 432x288 with 1 Axes>"
      ]
     },
     "metadata": {
      "needs_background": "light"
     },
     "output_type": "display_data"
    }
   ],
   "source": [
    "sns.boxplot(data=data2)"
   ]
  },
  {
   "cell_type": "code",
   "execution_count": 14,
   "id": "4d2073df",
   "metadata": {
    "execution": {
     "iopub.execute_input": "2022-08-31T10:59:08.495828Z",
     "iopub.status.busy": "2022-08-31T10:59:08.495339Z",
     "iopub.status.idle": "2022-08-31T10:59:08.891412Z",
     "shell.execute_reply": "2022-08-31T10:59:08.889994Z"
    },
    "papermill": {
     "duration": 0.412039,
     "end_time": "2022-08-31T10:59:08.894245",
     "exception": false,
     "start_time": "2022-08-31T10:59:08.482206",
     "status": "completed"
    },
    "tags": []
   },
   "outputs": [
    {
     "data": {
      "text/plain": [
       "<AxesSubplot:xlabel='Views', ylabel='Likes_x'>"
      ]
     },
     "execution_count": 14,
     "metadata": {},
     "output_type": "execute_result"
    },
    {
     "data": {
      "image/png": "[encoded data removed]",
      "text/plain": [
       "<Figure size 432x288 with 1 Axes>"
      ]
     },
     "metadata": {
      "needs_background": "light"
     },
     "output_type": "display_data"
    }
   ],
   "source": [
    "sns.scatterplot(x=data2[\"Views\"],y=data2[\"Likes_x\"])"
   ]
  },
  {
   "cell_type": "code",
   "execution_count": 15,
   "id": "707f3c13",
   "metadata": {
    "execution": {
     "iopub.execute_input": "2022-08-31T10:59:08.919537Z",
     "iopub.status.busy": "2022-08-31T10:59:08.919051Z",
     "iopub.status.idle": "2022-08-31T10:59:10.892464Z",
     "shell.execute_reply": "2022-08-31T10:59:10.890836Z"
    },
    "papermill": {
     "duration": 1.991613,
     "end_time": "2022-08-31T10:59:10.895509",
     "exception": false,
     "start_time": "2022-08-31T10:59:08.903896",
     "status": "completed"
    },
    "tags": []
   },
   "outputs": [
    {
     "data": {
      "image/png": "[encoded data removed]",
      "text/plain": [
       "<Figure size 1440x504 with 1 Axes>"
      ]
     },
     "metadata": {
      "needs_background": "light"
     },
     "output_type": "display_data"
    }
   ],
   "source": [
    "plt.figure(figsize=(20,7))\n",
    "sns.barplot(x=\"Keyword\",y=\"Views\",data=data2.sort_values(by=\"Views\",ascending=False))\n",
    "plt.xticks(rotation=90)\n",
    "plt.show()"
   ]
  },
  {
   "cell_type": "code",
   "execution_count": 16,
   "id": "f3c1ac3e",
   "metadata": {
    "execution": {
     "iopub.execute_input": "2022-08-31T10:59:10.920381Z",
     "iopub.status.busy": "2022-08-31T10:59:10.919682Z",
     "iopub.status.idle": "2022-08-31T10:59:10.929118Z",
     "shell.execute_reply": "2022-08-31T10:59:10.927948Z"
    },
    "papermill": {
     "duration": 0.024811,
     "end_time": "2022-08-31T10:59:10.931978",
     "exception": false,
     "start_time": "2022-08-31T10:59:10.907167",
     "status": "completed"
    },
    "tags": []
   },
   "outputs": [
    {
     "data": {
      "text/plain": [
       "reaction            507\n",
       "tutorial            501\n",
       "game development    500\n",
       "physics             500\n",
       "asmr                500\n",
       "trolling            500\n",
       "cubes               499\n",
       "interview           499\n",
       "cnn                 497\n",
       "history             496\n",
       "machine learning    495\n",
       "marvel              492\n",
       "data science        492\n",
       "sat                 490\n",
       "mrbeast             489\n",
       "xbox                488\n",
       "minecraft           486\n",
       "nintendo            480\n",
       "how-to              479\n",
       "food                479\n",
       "computer science    475\n",
       "tech                473\n",
       "biology             470\n",
       "sports              465\n",
       "business            458\n",
       "crypto              457\n",
       "chess               457\n",
       "mukbang             450\n",
       "google              444\n",
       "literature          441\n",
       "bed                 435\n",
       "music               429\n",
       "movies              428\n",
       "apple               419\n",
       "gaming              407\n",
       "lofi                384\n",
       "animals             370\n",
       "news                364\n",
       "finance             319\n",
       "education           240\n",
       "mathchemistry       133\n",
       "Name: Keyword, dtype: int64"
      ]
     },
     "execution_count": 16,
     "metadata": {},
     "output_type": "execute_result"
    }
   ],
   "source": [
    "data2[\"Keyword\"].value_counts()"
   ]
  },
  {
   "cell_type": "code",
   "execution_count": 17,
   "id": "701e274e",
   "metadata": {
    "execution": {
     "iopub.execute_input": "2022-08-31T10:59:10.955467Z",
     "iopub.status.busy": "2022-08-31T10:59:10.954658Z",
     "iopub.status.idle": "2022-08-31T10:59:12.782877Z",
     "shell.execute_reply": "2022-08-31T10:59:12.781401Z"
    },
    "papermill": {
     "duration": 1.84321,
     "end_time": "2022-08-31T10:59:12.785628",
     "exception": false,
     "start_time": "2022-08-31T10:59:10.942418",
     "status": "completed"
    },
    "tags": []
   },
   "outputs": [
    {
     "data": {
      "image/png": "[encoded data removed]",
      "text/plain": [
       "<Figure size 1440x504 with 1 Axes>"
      ]
     },
     "metadata": {
      "needs_background": "light"
     },
     "output_type": "display_data"
    }
   ],
   "source": [
    "plt.figure(figsize=(20,7))\n",
    "sns.barplot(x=\"Keyword\",y=\"Comments\",data=data2.sort_values(by=\"Comments\",ascending=False))\n",
    "plt.xticks(rotation=90)\n",
    "plt.show()"
   ]
  },
  {
   "cell_type": "code",
   "execution_count": 18,
   "id": "18e7a51d",
   "metadata": {
    "execution": {
     "iopub.execute_input": "2022-08-31T10:59:12.812400Z",
     "iopub.status.busy": "2022-08-31T10:59:12.811900Z",
     "iopub.status.idle": "2022-08-31T10:59:12.832838Z",
     "shell.execute_reply": "2022-08-31T10:59:12.830847Z"
    },
    "papermill": {
     "duration": 0.039387,
     "end_time": "2022-08-31T10:59:12.836287",
     "exception": false,
     "start_time": "2022-08-31T10:59:12.796900",
     "status": "completed"
    },
    "tags": []
   },
   "outputs": [
    {
     "data": {
      "text/plain": [
       "5379                                 0:01 melhor parte kk\n",
       "5383    i remember when this first came out and i kept...\n",
       "5381                                   Really Enjoyed it!\n",
       "5380    I listened to this before and now I’m listenin...\n",
       "5378    22/08/2022. Nostalgia de Respeito e Maravilhos...\n",
       "Name: Comment, dtype: object"
      ]
     },
     "execution_count": 18,
     "metadata": {},
     "output_type": "execute_result"
    }
   ],
   "source": [
    "data2.sort_values(by=\"Comments\",ascending=False)[\"Comment\"].head()"
   ]
  },
  {
   "cell_type": "code",
   "execution_count": 19,
   "id": "736a9801",
   "metadata": {
    "execution": {
     "iopub.execute_input": "2022-08-31T10:59:12.867859Z",
     "iopub.status.busy": "2022-08-31T10:59:12.867336Z",
     "iopub.status.idle": "2022-08-31T10:59:12.905874Z",
     "shell.execute_reply": "2022-08-31T10:59:12.904438Z"
    },
    "papermill": {
     "duration": 0.057536,
     "end_time": "2022-08-31T10:59:12.909053",
     "exception": false,
     "start_time": "2022-08-31T10:59:12.851517",
     "status": "completed"
    },
    "tags": []
   },
   "outputs": [
    {
     "data": {
      "text/html": [
       "<div>\n",
       "<style scoped>\n",
       "    .dataframe tbody tr th:only-of-type {\n",
       "        vertical-align: middle;\n",
       "    }\n",
       "\n",
       "    .dataframe tbody tr th {\n",
       "        vertical-align: top;\n",
       "    }\n",
       "\n",
       "    .dataframe thead th {\n",
       "        text-align: right;\n",
       "    }\n",
       "</style>\n",
       "<table border=\"1\" class=\"dataframe\">\n",
       "  <thead>\n",
       "    <tr style=\"text-align: right;\">\n",
       "      <th></th>\n",
       "      <th>Likes_x</th>\n",
       "      <th>Comments</th>\n",
       "      <th>Views</th>\n",
       "      <th>Likes_y</th>\n",
       "      <th>Sentiment</th>\n",
       "    </tr>\n",
       "  </thead>\n",
       "  <tbody>\n",
       "    <tr>\n",
       "      <th>count</th>\n",
       "      <td>1.836700e+04</td>\n",
       "      <td>18367.000000</td>\n",
       "      <td>1.836700e+04</td>\n",
       "      <td>18387.000000</td>\n",
       "      <td>18387.000000</td>\n",
       "    </tr>\n",
       "    <tr>\n",
       "      <th>mean</th>\n",
       "      <td>1.758958e+05</td>\n",
       "      <td>8115.041651</td>\n",
       "      <td>1.184928e+07</td>\n",
       "      <td>1051.613423</td>\n",
       "      <td>1.492794</td>\n",
       "    </tr>\n",
       "    <tr>\n",
       "      <th>std</th>\n",
       "      <td>8.089415e+05</td>\n",
       "      <td>38402.575655</td>\n",
       "      <td>1.096406e+08</td>\n",
       "      <td>10678.606026</td>\n",
       "      <td>0.710284</td>\n",
       "    </tr>\n",
       "    <tr>\n",
       "      <th>min</th>\n",
       "      <td>-1.000000e+00</td>\n",
       "      <td>-1.000000</td>\n",
       "      <td>2.500000e+01</td>\n",
       "      <td>0.000000</td>\n",
       "      <td>0.000000</td>\n",
       "    </tr>\n",
       "    <tr>\n",
       "      <th>25%</th>\n",
       "      <td>2.923000e+03</td>\n",
       "      <td>219.000000</td>\n",
       "      <td>9.363300e+04</td>\n",
       "      <td>5.000000</td>\n",
       "      <td>1.000000</td>\n",
       "    </tr>\n",
       "    <tr>\n",
       "      <th>50%</th>\n",
       "      <td>1.542500e+04</td>\n",
       "      <td>864.000000</td>\n",
       "      <td>6.137570e+05</td>\n",
       "      <td>29.000000</td>\n",
       "      <td>2.000000</td>\n",
       "    </tr>\n",
       "    <tr>\n",
       "      <th>75%</th>\n",
       "      <td>6.200900e+04</td>\n",
       "      <td>3491.000000</td>\n",
       "      <td>2.872679e+06</td>\n",
       "      <td>192.000000</td>\n",
       "      <td>2.000000</td>\n",
       "    </tr>\n",
       "    <tr>\n",
       "      <th>max</th>\n",
       "      <td>1.644556e+07</td>\n",
       "      <td>732818.000000</td>\n",
       "      <td>4.034122e+09</td>\n",
       "      <td>891372.000000</td>\n",
       "      <td>2.000000</td>\n",
       "    </tr>\n",
       "  </tbody>\n",
       "</table>\n",
       "</div>"
      ],
      "text/plain": [
       "            Likes_x       Comments         Views        Likes_y     Sentiment\n",
       "count  1.836700e+04   18367.000000  1.836700e+04   18387.000000  18387.000000\n",
       "mean   1.758958e+05    8115.041651  1.184928e+07    1051.613423      1.492794\n",
       "std    8.089415e+05   38402.575655  1.096406e+08   10678.606026      0.710284\n",
       "min   -1.000000e+00      -1.000000  2.500000e+01       0.000000      0.000000\n",
       "25%    2.923000e+03     219.000000  9.363300e+04       5.000000      1.000000\n",
       "50%    1.542500e+04     864.000000  6.137570e+05      29.000000      2.000000\n",
       "75%    6.200900e+04    3491.000000  2.872679e+06     192.000000      2.000000\n",
       "max    1.644556e+07  732818.000000  4.034122e+09  891372.000000      2.000000"
      ]
     },
     "execution_count": 19,
     "metadata": {},
     "output_type": "execute_result"
    }
   ],
   "source": [
    "data2.describe()"
   ]
  },
  {
   "cell_type": "code",
   "execution_count": 20,
   "id": "92853ea6",
   "metadata": {
    "execution": {
     "iopub.execute_input": "2022-08-31T10:59:12.941036Z",
     "iopub.status.busy": "2022-08-31T10:59:12.940568Z",
     "iopub.status.idle": "2022-08-31T10:59:12.960815Z",
     "shell.execute_reply": "2022-08-31T10:59:12.958207Z"
    },
    "papermill": {
     "duration": 0.042012,
     "end_time": "2022-08-31T10:59:12.964881",
     "exception": false,
     "start_time": "2022-08-31T10:59:12.922869",
     "status": "completed"
    },
    "tags": []
   },
   "outputs": [],
   "source": [
    "scale = MinMaxScaler()\n",
    "data2[[\"Likes_x\",\"Comments\",\"Views\",\"Likes_y\",\"Sentiment\"]]= scale.fit_transform(data2[[\"Likes_x\",\"Comments\",\"Views\",\"Likes_y\",\"Sentiment\"]])"
   ]
  },
  {
   "cell_type": "code",
   "execution_count": 21,
   "id": "75321f48",
   "metadata": {
    "execution": {
     "iopub.execute_input": "2022-08-31T10:59:12.994407Z",
     "iopub.status.busy": "2022-08-31T10:59:12.993491Z",
     "iopub.status.idle": "2022-08-31T10:59:13.013849Z",
     "shell.execute_reply": "2022-08-31T10:59:13.011711Z"
    },
    "papermill": {
     "duration": 0.037881,
     "end_time": "2022-08-31T10:59:13.016970",
     "exception": false,
     "start_time": "2022-08-31T10:59:12.979089",
     "status": "completed"
    },
    "tags": []
   },
   "outputs": [
    {
     "data": {
      "text/html": [
       "<div>\n",
       "<style scoped>\n",
       "    .dataframe tbody tr th:only-of-type {\n",
       "        vertical-align: middle;\n",
       "    }\n",
       "\n",
       "    .dataframe tbody tr th {\n",
       "        vertical-align: top;\n",
       "    }\n",
       "\n",
       "    .dataframe thead th {\n",
       "        text-align: right;\n",
       "    }\n",
       "</style>\n",
       "<table border=\"1\" class=\"dataframe\">\n",
       "  <thead>\n",
       "    <tr style=\"text-align: right;\">\n",
       "      <th></th>\n",
       "      <th>Title</th>\n",
       "      <th>Video ID</th>\n",
       "      <th>Published At</th>\n",
       "      <th>Keyword</th>\n",
       "      <th>Likes_x</th>\n",
       "      <th>Comments</th>\n",
       "      <th>Views</th>\n",
       "      <th>Comment</th>\n",
       "      <th>Likes_y</th>\n",
       "      <th>Sentiment</th>\n",
       "    </tr>\n",
       "  </thead>\n",
       "  <tbody>\n",
       "    <tr>\n",
       "      <th>0</th>\n",
       "      <td>Apple Pay Is Killing the Physical Wallet After...</td>\n",
       "      <td>wAZZ-UWGVHI</td>\n",
       "      <td>2022-08-23</td>\n",
       "      <td>tech</td>\n",
       "      <td>0.000207</td>\n",
       "      <td>0.000918</td>\n",
       "      <td>0.000034</td>\n",
       "      <td>Let's not forget that Apple Pay in 2014 requir...</td>\n",
       "      <td>0.000107</td>\n",
       "      <td>0.5</td>\n",
       "    </tr>\n",
       "    <tr>\n",
       "      <th>1</th>\n",
       "      <td>Apple Pay Is Killing the Physical Wallet After...</td>\n",
       "      <td>wAZZ-UWGVHI</td>\n",
       "      <td>2022-08-23</td>\n",
       "      <td>tech</td>\n",
       "      <td>0.000207</td>\n",
       "      <td>0.000918</td>\n",
       "      <td>0.000034</td>\n",
       "      <td>Here in NZ 50% of retailers don’t even have co...</td>\n",
       "      <td>0.000021</td>\n",
       "      <td>0.0</td>\n",
       "    </tr>\n",
       "    <tr>\n",
       "      <th>2</th>\n",
       "      <td>Apple Pay Is Killing the Physical Wallet After...</td>\n",
       "      <td>wAZZ-UWGVHI</td>\n",
       "      <td>2022-08-23</td>\n",
       "      <td>tech</td>\n",
       "      <td>0.000207</td>\n",
       "      <td>0.000918</td>\n",
       "      <td>0.000034</td>\n",
       "      <td>I will forever acknowledge this channel with t...</td>\n",
       "      <td>0.000181</td>\n",
       "      <td>1.0</td>\n",
       "    </tr>\n",
       "    <tr>\n",
       "      <th>3</th>\n",
       "      <td>Apple Pay Is Killing the Physical Wallet After...</td>\n",
       "      <td>wAZZ-UWGVHI</td>\n",
       "      <td>2022-08-23</td>\n",
       "      <td>tech</td>\n",
       "      <td>0.000207</td>\n",
       "      <td>0.000918</td>\n",
       "      <td>0.000034</td>\n",
       "      <td>Whenever I go to a place that doesn’t take App...</td>\n",
       "      <td>0.000009</td>\n",
       "      <td>0.0</td>\n",
       "    </tr>\n",
       "    <tr>\n",
       "      <th>4</th>\n",
       "      <td>Apple Pay Is Killing the Physical Wallet After...</td>\n",
       "      <td>wAZZ-UWGVHI</td>\n",
       "      <td>2022-08-23</td>\n",
       "      <td>tech</td>\n",
       "      <td>0.000207</td>\n",
       "      <td>0.000918</td>\n",
       "      <td>0.000034</td>\n",
       "      <td>Apple Pay is so convenient, secure, and easy t...</td>\n",
       "      <td>0.000038</td>\n",
       "      <td>1.0</td>\n",
       "    </tr>\n",
       "  </tbody>\n",
       "</table>\n",
       "</div>"
      ],
      "text/plain": [
       "                                               Title     Video ID  \\\n",
       "0  Apple Pay Is Killing the Physical Wallet After...  wAZZ-UWGVHI   \n",
       "1  Apple Pay Is Killing the Physical Wallet After...  wAZZ-UWGVHI   \n",
       "2  Apple Pay Is Killing the Physical Wallet After...  wAZZ-UWGVHI   \n",
       "3  Apple Pay Is Killing the Physical Wallet After...  wAZZ-UWGVHI   \n",
       "4  Apple Pay Is Killing the Physical Wallet After...  wAZZ-UWGVHI   \n",
       "\n",
       "  Published At Keyword   Likes_x  Comments     Views  \\\n",
       "0   2022-08-23    tech  0.000207  0.000918  0.000034   \n",
       "1   2022-08-23    tech  0.000207  0.000918  0.000034   \n",
       "2   2022-08-23    tech  0.000207  0.000918  0.000034   \n",
       "3   2022-08-23    tech  0.000207  0.000918  0.000034   \n",
       "4   2022-08-23    tech  0.000207  0.000918  0.000034   \n",
       "\n",
       "                                             Comment   Likes_y  Sentiment  \n",
       "0  Let's not forget that Apple Pay in 2014 requir...  0.000107        0.5  \n",
       "1  Here in NZ 50% of retailers don’t even have co...  0.000021        0.0  \n",
       "2  I will forever acknowledge this channel with t...  0.000181        1.0  \n",
       "3  Whenever I go to a place that doesn’t take App...  0.000009        0.0  \n",
       "4  Apple Pay is so convenient, secure, and easy t...  0.000038        1.0  "
      ]
     },
     "execution_count": 21,
     "metadata": {},
     "output_type": "execute_result"
    }
   ],
   "source": [
    "data2.head()"
   ]
  },
  {
   "cell_type": "code",
   "execution_count": 22,
   "id": "d37aa17e",
   "metadata": {
    "execution": {
     "iopub.execute_input": "2022-08-31T10:59:13.048519Z",
     "iopub.status.busy": "2022-08-31T10:59:13.047225Z",
     "iopub.status.idle": "2022-08-31T10:59:13.085916Z",
     "shell.execute_reply": "2022-08-31T10:59:13.084448Z"
    },
    "papermill": {
     "duration": 0.056866,
     "end_time": "2022-08-31T10:59:13.088638",
     "exception": false,
     "start_time": "2022-08-31T10:59:13.031772",
     "status": "completed"
    },
    "tags": []
   },
   "outputs": [
    {
     "data": {
      "text/html": [
       "<div>\n",
       "<style scoped>\n",
       "    .dataframe tbody tr th:only-of-type {\n",
       "        vertical-align: middle;\n",
       "    }\n",
       "\n",
       "    .dataframe tbody tr th {\n",
       "        vertical-align: top;\n",
       "    }\n",
       "\n",
       "    .dataframe thead th {\n",
       "        text-align: right;\n",
       "    }\n",
       "</style>\n",
       "<table border=\"1\" class=\"dataframe\">\n",
       "  <thead>\n",
       "    <tr style=\"text-align: right;\">\n",
       "      <th></th>\n",
       "      <th>Likes_x</th>\n",
       "      <th>Comments</th>\n",
       "      <th>Views</th>\n",
       "      <th>Likes_y</th>\n",
       "      <th>Sentiment</th>\n",
       "    </tr>\n",
       "  </thead>\n",
       "  <tbody>\n",
       "    <tr>\n",
       "      <th>count</th>\n",
       "      <td>18367.000000</td>\n",
       "      <td>18367.000000</td>\n",
       "      <td>18367.000000</td>\n",
       "      <td>18387.000000</td>\n",
       "      <td>18387.000000</td>\n",
       "    </tr>\n",
       "    <tr>\n",
       "      <th>mean</th>\n",
       "      <td>0.010696</td>\n",
       "      <td>0.011075</td>\n",
       "      <td>0.002937</td>\n",
       "      <td>0.001180</td>\n",
       "      <td>0.746397</td>\n",
       "    </tr>\n",
       "    <tr>\n",
       "      <th>std</th>\n",
       "      <td>0.049189</td>\n",
       "      <td>0.052404</td>\n",
       "      <td>0.027178</td>\n",
       "      <td>0.011980</td>\n",
       "      <td>0.355142</td>\n",
       "    </tr>\n",
       "    <tr>\n",
       "      <th>min</th>\n",
       "      <td>0.000000</td>\n",
       "      <td>0.000000</td>\n",
       "      <td>0.000000</td>\n",
       "      <td>0.000000</td>\n",
       "      <td>0.000000</td>\n",
       "    </tr>\n",
       "    <tr>\n",
       "      <th>25%</th>\n",
       "      <td>0.000178</td>\n",
       "      <td>0.000300</td>\n",
       "      <td>0.000023</td>\n",
       "      <td>0.000006</td>\n",
       "      <td>0.500000</td>\n",
       "    </tr>\n",
       "    <tr>\n",
       "      <th>50%</th>\n",
       "      <td>0.000938</td>\n",
       "      <td>0.001180</td>\n",
       "      <td>0.000152</td>\n",
       "      <td>0.000033</td>\n",
       "      <td>1.000000</td>\n",
       "    </tr>\n",
       "    <tr>\n",
       "      <th>75%</th>\n",
       "      <td>0.003771</td>\n",
       "      <td>0.004765</td>\n",
       "      <td>0.000712</td>\n",
       "      <td>0.000215</td>\n",
       "      <td>1.000000</td>\n",
       "    </tr>\n",
       "    <tr>\n",
       "      <th>max</th>\n",
       "      <td>1.000000</td>\n",
       "      <td>1.000000</td>\n",
       "      <td>1.000000</td>\n",
       "      <td>1.000000</td>\n",
       "      <td>1.000000</td>\n",
       "    </tr>\n",
       "  </tbody>\n",
       "</table>\n",
       "</div>"
      ],
      "text/plain": [
       "            Likes_x      Comments         Views       Likes_y     Sentiment\n",
       "count  18367.000000  18367.000000  18367.000000  18387.000000  18387.000000\n",
       "mean       0.010696      0.011075      0.002937      0.001180      0.746397\n",
       "std        0.049189      0.052404      0.027178      0.011980      0.355142\n",
       "min        0.000000      0.000000      0.000000      0.000000      0.000000\n",
       "25%        0.000178      0.000300      0.000023      0.000006      0.500000\n",
       "50%        0.000938      0.001180      0.000152      0.000033      1.000000\n",
       "75%        0.003771      0.004765      0.000712      0.000215      1.000000\n",
       "max        1.000000      1.000000      1.000000      1.000000      1.000000"
      ]
     },
     "execution_count": 22,
     "metadata": {},
     "output_type": "execute_result"
    }
   ],
   "source": [
    "data2.describe()"
   ]
  },
  {
   "cell_type": "code",
   "execution_count": 23,
   "id": "8ff00fdc",
   "metadata": {
    "execution": {
     "iopub.execute_input": "2022-08-31T10:59:13.115357Z",
     "iopub.status.busy": "2022-08-31T10:59:13.114554Z",
     "iopub.status.idle": "2022-08-31T10:59:13.121070Z",
     "shell.execute_reply": "2022-08-31T10:59:13.120096Z"
    },
    "papermill": {
     "duration": 0.022984,
     "end_time": "2022-08-31T10:59:13.124031",
     "exception": false,
     "start_time": "2022-08-31T10:59:13.101047",
     "status": "completed"
    },
    "tags": []
   },
   "outputs": [
    {
     "data": {
      "text/plain": [
       "(18387, 10)"
      ]
     },
     "execution_count": 23,
     "metadata": {},
     "output_type": "execute_result"
    }
   ],
   "source": [
    "data2.shape"
   ]
  },
  {
   "cell_type": "code",
   "execution_count": 24,
   "id": "efd970c1",
   "metadata": {
    "execution": {
     "iopub.execute_input": "2022-08-31T10:59:13.153947Z",
     "iopub.status.busy": "2022-08-31T10:59:13.153472Z",
     "iopub.status.idle": "2022-08-31T10:59:13.170268Z",
     "shell.execute_reply": "2022-08-31T10:59:13.168168Z"
    },
    "papermill": {
     "duration": 0.034953,
     "end_time": "2022-08-31T10:59:13.173186",
     "exception": false,
     "start_time": "2022-08-31T10:59:13.138233",
     "status": "completed"
    },
    "tags": []
   },
   "outputs": [
    {
     "data": {
      "text/plain": [
       "2022-08-24    2722\n",
       "2022-08-23    1742\n",
       "2022-08-22     366\n",
       "2022-08-20     361\n",
       "2022-08-21     347\n",
       "Name: Published At, dtype: int64"
      ]
     },
     "execution_count": 24,
     "metadata": {},
     "output_type": "execute_result"
    }
   ],
   "source": [
    "# Max video Upload date\n",
    "data2[\"Published At\"].value_counts().sort_values(ascending=False).head()"
   ]
  },
  {
   "cell_type": "code",
   "execution_count": 25,
   "id": "7363fb0d",
   "metadata": {
    "execution": {
     "iopub.execute_input": "2022-08-31T10:59:13.203767Z",
     "iopub.status.busy": "2022-08-31T10:59:13.202191Z",
     "iopub.status.idle": "2022-08-31T10:59:13.213700Z",
     "shell.execute_reply": "2022-08-31T10:59:13.212417Z"
    },
    "papermill": {
     "duration": 0.028991,
     "end_time": "2022-08-31T10:59:13.216326",
     "exception": false,
     "start_time": "2022-08-31T10:59:13.187335",
     "status": "completed"
    },
    "tags": []
   },
   "outputs": [
    {
     "data": {
      "text/plain": [
       "1456270.0    2\n",
       "95826.0      2\n",
       "14537.0      2\n",
       "51885.0      2\n",
       "1564007.0    2\n",
       "Name: Views, dtype: int64"
      ]
     },
     "execution_count": 25,
     "metadata": {},
     "output_type": "execute_result"
    }
   ],
   "source": [
    "# Max View data\n",
    "data[\"Views\"].value_counts().sort_values(ascending=False).head()"
   ]
  },
  {
   "cell_type": "code",
   "execution_count": 26,
   "id": "edd697b3",
   "metadata": {
    "execution": {
     "iopub.execute_input": "2022-08-31T10:59:13.245205Z",
     "iopub.status.busy": "2022-08-31T10:59:13.244212Z",
     "iopub.status.idle": "2022-08-31T10:59:13.258710Z",
     "shell.execute_reply": "2022-08-31T10:59:13.257214Z"
    },
    "papermill": {
     "duration": 0.032686,
     "end_time": "2022-08-31T10:59:13.261658",
     "exception": false,
     "start_time": "2022-08-31T10:59:13.228972",
     "status": "completed"
    },
    "tags": []
   },
   "outputs": [
    {
     "data": {
      "text/plain": [
       "0        Apple Pay Is Killing the Physical Wallet After...\n",
       "1        Apple Pay Is Killing the Physical Wallet After...\n",
       "2        Apple Pay Is Killing the Physical Wallet After...\n",
       "3        Apple Pay Is Killing the Physical Wallet After...\n",
       "4        Apple Pay Is Killing the Physical Wallet After...\n",
       "                               ...                        \n",
       "18382                     Don&#39;t learn machine learning\n",
       "18383                     Don&#39;t learn machine learning\n",
       "18384                     Don&#39;t learn machine learning\n",
       "18385                     Don&#39;t learn machine learning\n",
       "18386                     Don&#39;t learn machine learning\n",
       "Name: Title, Length: 18387, dtype: object"
      ]
     },
     "execution_count": 26,
     "metadata": {},
     "output_type": "execute_result"
    }
   ],
   "source": [
    "data2[\"Title\"]"
   ]
  },
  {
   "cell_type": "code",
   "execution_count": 27,
   "id": "549d2749",
   "metadata": {
    "execution": {
     "iopub.execute_input": "2022-08-31T10:59:13.290854Z",
     "iopub.status.busy": "2022-08-31T10:59:13.290156Z",
     "iopub.status.idle": "2022-08-31T10:59:13.314938Z",
     "shell.execute_reply": "2022-08-31T10:59:13.313363Z"
    },
    "papermill": {
     "duration": 0.04222,
     "end_time": "2022-08-31T10:59:13.317768",
     "exception": false,
     "start_time": "2022-08-31T10:59:13.275548",
     "status": "completed"
    },
    "tags": []
   },
   "outputs": [
    {
     "data": {
      "text/plain": [
       "Title                                                                                                Views   \n",
       "BLACKPINK - ‘Pink Venom’ DANCE PRACTICE VIDEO                                                        0.005909    36\n",
       "ASMR Gaming 😴 Fortnite 1 Kill = 1 Trigger Relaxing Mouth Sounds 🎮🎧 Controller Sounds + Whispering 💤  0.000004    22\n",
       "20 Minecraft Block Facts You Maybe Didn&#39;t Know                                                   0.000298    22\n",
       "🚨 DÉPÊCHEZ-VOUS 🚨 Ces PROMOS disparaissent bientôt du PS Store, Xbox Store, Nintendo eShop...        0.000003    20\n",
       "How to Solve a Rubik&#39;s Cube | WIRED                                                              0.007413    20\n",
       "Name: Views, dtype: int64"
      ]
     },
     "execution_count": 27,
     "metadata": {},
     "output_type": "execute_result"
    }
   ],
   "source": [
    "# Max Views video Title\n",
    "data2.groupby(\"Title\")[\"Views\"].value_counts().sort_values(ascending=False).head()"
   ]
  },
  {
   "cell_type": "code",
   "execution_count": 28,
   "id": "3c7636cc",
   "metadata": {
    "execution": {
     "iopub.execute_input": "2022-08-31T10:59:13.346286Z",
     "iopub.status.busy": "2022-08-31T10:59:13.345794Z",
     "iopub.status.idle": "2022-08-31T10:59:13.370984Z",
     "shell.execute_reply": "2022-08-31T10:59:13.369366Z"
    },
    "papermill": {
     "duration": 0.04265,
     "end_time": "2022-08-31T10:59:13.374404",
     "exception": false,
     "start_time": "2022-08-31T10:59:13.331754",
     "status": "completed"
    },
    "tags": []
   },
   "outputs": [
    {
     "data": {
      "text/html": [
       "<div>\n",
       "<style scoped>\n",
       "    .dataframe tbody tr th:only-of-type {\n",
       "        vertical-align: middle;\n",
       "    }\n",
       "\n",
       "    .dataframe tbody tr th {\n",
       "        vertical-align: top;\n",
       "    }\n",
       "\n",
       "    .dataframe thead th {\n",
       "        text-align: right;\n",
       "    }\n",
       "</style>\n",
       "<table border=\"1\" class=\"dataframe\">\n",
       "  <thead>\n",
       "    <tr style=\"text-align: right;\">\n",
       "      <th></th>\n",
       "      <th>Title</th>\n",
       "      <th>Video ID</th>\n",
       "      <th>Published At</th>\n",
       "      <th>Keyword</th>\n",
       "      <th>Likes_x</th>\n",
       "      <th>Comments</th>\n",
       "      <th>Views</th>\n",
       "      <th>Comment</th>\n",
       "      <th>Likes_y</th>\n",
       "      <th>Sentiment</th>\n",
       "    </tr>\n",
       "  </thead>\n",
       "  <tbody>\n",
       "    <tr>\n",
       "      <th>0</th>\n",
       "      <td>Apple Pay Is Killing the Physical Wallet After...</td>\n",
       "      <td>wAZZ-UWGVHI</td>\n",
       "      <td>2022-08-23</td>\n",
       "      <td>tech</td>\n",
       "      <td>0.000207</td>\n",
       "      <td>0.000918</td>\n",
       "      <td>0.000034</td>\n",
       "      <td>Let's not forget that Apple Pay in 2014 requir...</td>\n",
       "      <td>0.000107</td>\n",
       "      <td>0.5</td>\n",
       "    </tr>\n",
       "    <tr>\n",
       "      <th>1</th>\n",
       "      <td>Apple Pay Is Killing the Physical Wallet After...</td>\n",
       "      <td>wAZZ-UWGVHI</td>\n",
       "      <td>2022-08-23</td>\n",
       "      <td>tech</td>\n",
       "      <td>0.000207</td>\n",
       "      <td>0.000918</td>\n",
       "      <td>0.000034</td>\n",
       "      <td>Here in NZ 50% of retailers don’t even have co...</td>\n",
       "      <td>0.000021</td>\n",
       "      <td>0.0</td>\n",
       "    </tr>\n",
       "  </tbody>\n",
       "</table>\n",
       "</div>"
      ],
      "text/plain": [
       "                                               Title     Video ID  \\\n",
       "0  Apple Pay Is Killing the Physical Wallet After...  wAZZ-UWGVHI   \n",
       "1  Apple Pay Is Killing the Physical Wallet After...  wAZZ-UWGVHI   \n",
       "\n",
       "  Published At Keyword   Likes_x  Comments     Views  \\\n",
       "0   2022-08-23    tech  0.000207  0.000918  0.000034   \n",
       "1   2022-08-23    tech  0.000207  0.000918  0.000034   \n",
       "\n",
       "                                             Comment   Likes_y  Sentiment  \n",
       "0  Let's not forget that Apple Pay in 2014 requir...  0.000107        0.5  \n",
       "1  Here in NZ 50% of retailers don’t even have co...  0.000021        0.0  "
      ]
     },
     "execution_count": 28,
     "metadata": {},
     "output_type": "execute_result"
    }
   ],
   "source": [
    "data2.head(2)"
   ]
  },
  {
   "cell_type": "code",
   "execution_count": 29,
   "id": "5cda0b5a",
   "metadata": {
    "execution": {
     "iopub.execute_input": "2022-08-31T10:59:13.406517Z",
     "iopub.status.busy": "2022-08-31T10:59:13.405997Z",
     "iopub.status.idle": "2022-08-31T10:59:13.412995Z",
     "shell.execute_reply": "2022-08-31T10:59:13.411006Z"
    },
    "papermill": {
     "duration": 0.028046,
     "end_time": "2022-08-31T10:59:13.416431",
     "exception": false,
     "start_time": "2022-08-31T10:59:13.388385",
     "status": "completed"
    },
    "tags": []
   },
   "outputs": [],
   "source": [
    "# for i in data2.columns:\n",
    "#     print(i.dtype)"
   ]
  },
  {
   "cell_type": "code",
   "execution_count": null,
   "id": "7964246a",
   "metadata": {
    "papermill": {
     "duration": 0.016348,
     "end_time": "2022-08-31T10:59:13.446622",
     "exception": false,
     "start_time": "2022-08-31T10:59:13.430274",
     "status": "completed"
    },
    "tags": []
   },
   "outputs": [],
   "source": []
  }
 ],
 "metadata": {
  "kernelspec": {
   "display_name": "Python 3",
   "language": "python",
   "name": "python3"
  },
  "language_info": {
   "codemirror_mode": {
    "name": "ipython",
    "version": 3
   },
   "file_extension": ".py",
   "mimetype": "text/x-python",
   "name": "python",
   "nbconvert_exporter": "python",
   "pygments_lexer": "ipython3",
   "version": "3.7.12"
  },
  "papermill": {
   "default_parameters": {},
   "duration": 19.989043,
   "end_time": "2022-08-31T10:59:14.391253",
   "environment_variables": {},
   "exception": null,
   "input_path": "__notebook__.ipynb",
   "output_path": "__notebook__.ipynb",
   "parameters": {},
   "start_time": "2022-08-31T10:58:54.402210",
   "version": "2.3.4"
  }
 },
 "nbformat": 4,
 "nbformat_minor": 5
}
