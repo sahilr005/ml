{
 "cells": [
  {
   "cell_type": "code",
   "execution_count": 1,
   "id": "3c424814",
   "metadata": {
    "_cell_guid": "b1076dfc-b9ad-4769-8c92-a6c4dae69d19",
    "_uuid": "8f2839f25d086af736a60e9eeb907d3b93b6e0e5",
    "execution": {
     "iopub.execute_input": "2022-08-31T10:59:12.887178Z",
     "iopub.status.busy": "2022-08-31T10:59:12.886427Z",
     "iopub.status.idle": "2022-08-31T10:59:14.339764Z",
     "shell.execute_reply": "2022-08-31T10:59:14.338096Z"
    },
    "papermill": {
     "duration": 1.468118,
     "end_time": "2022-08-31T10:59:14.343104",
     "exception": false,
     "start_time": "2022-08-31T10:59:12.874986",
     "status": "completed"
    },
    "tags": []
   },
   "outputs": [
    {
     "name": "stdout",
     "output_type": "stream",
     "text": [
      "/kaggle/input/youtube-statistics/videos-stats.csv\n",
      "/kaggle/input/youtube-statistics/comments.csv\n"
     ]
    }
   ],
   "source": [
    "import numpy as np # linear algebra\n",
    "import pandas as pd # data processing, CSV file I/O (e.g. pd.read_csv)\n",
    "from sklearn.preprocessing import MinMaxScaler # For Normalie values\n",
    "import seaborn as sns\n",
    "import matplotlib.pyplot as plt\n",
    "import os\n",
    "for dirname, _, filenames in os.walk('/kaggle/input'):\n",
    "    for filename in filenames:\n",
    "        print(os.path.join(dirname, filename))"
   ]
  },
  {
   "cell_type": "code",
   "execution_count": 2,
   "id": "ebcc38ac",
   "metadata": {
    "execution": {
     "iopub.execute_input": "2022-08-31T10:59:14.361926Z",
     "iopub.status.busy": "2022-08-31T10:59:14.360839Z",
     "iopub.status.idle": "2022-08-31T10:59:14.526440Z",
     "shell.execute_reply": "2022-08-31T10:59:14.525161Z"
    },
    "papermill": {
     "duration": 0.177871,
     "end_time": "2022-08-31T10:59:14.529662",
     "exception": false,
     "start_time": "2022-08-31T10:59:14.351791",
     "status": "completed"
    },
    "tags": []
   },
   "outputs": [],
   "source": [
    "data = pd.read_csv(\"/kaggle/input/youtube-statistics/videos-stats.csv\")\n",
    "comm = pd.read_csv(\"/kaggle/input/youtube-statistics/comments.csv\")"
   ]
  },
  {
   "cell_type": "code",
   "execution_count": 3,
   "id": "3bfb1251",
   "metadata": {
    "execution": {
     "iopub.execute_input": "2022-08-31T10:59:14.546840Z",
     "iopub.status.busy": "2022-08-31T10:59:14.546404Z",
     "iopub.status.idle": "2022-08-31T10:59:14.575857Z",
     "shell.execute_reply": "2022-08-31T10:59:14.574320Z"
    },
    "papermill": {
     "duration": 0.041746,
     "end_time": "2022-08-31T10:59:14.579137",
     "exception": false,
     "start_time": "2022-08-31T10:59:14.537391",
     "status": "completed"
    },
    "tags": []
   },
   "outputs": [
    {
     "data": {
      "text/html": [
       "<div>\n",
       "<style scoped>\n",
       "    .dataframe tbody tr th:only-of-type {\n",
       "        vertical-align: middle;\n",
       "    }\n",
       "\n",
       "    .dataframe tbody tr th {\n",
       "        vertical-align: top;\n",
       "    }\n",
       "\n",
       "    .dataframe thead th {\n",
       "        text-align: right;\n",
       "    }\n",
       "</style>\n",
       "<table border=\"1\" class=\"dataframe\">\n",
       "  <thead>\n",
       "    <tr style=\"text-align: right;\">\n",
       "      <th></th>\n",
       "      <th>Unnamed: 0</th>\n",
       "      <th>Title</th>\n",
       "      <th>Video ID</th>\n",
       "      <th>Published At</th>\n",
       "      <th>Keyword</th>\n",
       "      <th>Likes</th>\n",
       "      <th>Comments</th>\n",
       "      <th>Views</th>\n",
       "    </tr>\n",
       "  </thead>\n",
       "  <tbody>\n",
       "    <tr>\n",
       "      <th>0</th>\n",
       "      <td>0</td>\n",
       "      <td>Apple Pay Is Killing the Physical Wallet After...</td>\n",
       "      <td>wAZZ-UWGVHI</td>\n",
       "      <td>2022-08-23</td>\n",
       "      <td>tech</td>\n",
       "      <td>3407.0</td>\n",
       "      <td>672.0</td>\n",
       "      <td>135612.0</td>\n",
       "    </tr>\n",
       "    <tr>\n",
       "      <th>1</th>\n",
       "      <td>1</td>\n",
       "      <td>The most EXPENSIVE thing I own.</td>\n",
       "      <td>b3x28s61q3c</td>\n",
       "      <td>2022-08-24</td>\n",
       "      <td>tech</td>\n",
       "      <td>76779.0</td>\n",
       "      <td>4306.0</td>\n",
       "      <td>1758063.0</td>\n",
       "    </tr>\n",
       "    <tr>\n",
       "      <th>2</th>\n",
       "      <td>2</td>\n",
       "      <td>My New House Gaming Setup is SICK!</td>\n",
       "      <td>4mgePWWCAmA</td>\n",
       "      <td>2022-08-23</td>\n",
       "      <td>tech</td>\n",
       "      <td>63825.0</td>\n",
       "      <td>3338.0</td>\n",
       "      <td>1564007.0</td>\n",
       "    </tr>\n",
       "    <tr>\n",
       "      <th>3</th>\n",
       "      <td>3</td>\n",
       "      <td>Petrol Vs Liquid Nitrogen | Freezing Experimen...</td>\n",
       "      <td>kXiYSI7H2b0</td>\n",
       "      <td>2022-08-23</td>\n",
       "      <td>tech</td>\n",
       "      <td>71566.0</td>\n",
       "      <td>1426.0</td>\n",
       "      <td>922918.0</td>\n",
       "    </tr>\n",
       "    <tr>\n",
       "      <th>4</th>\n",
       "      <td>4</td>\n",
       "      <td>Best Back to School Tech 2022!</td>\n",
       "      <td>ErMwWXQxHp0</td>\n",
       "      <td>2022-08-08</td>\n",
       "      <td>tech</td>\n",
       "      <td>96513.0</td>\n",
       "      <td>5155.0</td>\n",
       "      <td>1855644.0</td>\n",
       "    </tr>\n",
       "  </tbody>\n",
       "</table>\n",
       "</div>"
      ],
      "text/plain": [
       "   Unnamed: 0                                              Title     Video ID  \\\n",
       "0           0  Apple Pay Is Killing the Physical Wallet After...  wAZZ-UWGVHI   \n",
       "1           1                    The most EXPENSIVE thing I own.  b3x28s61q3c   \n",
       "2           2                 My New House Gaming Setup is SICK!  4mgePWWCAmA   \n",
       "3           3  Petrol Vs Liquid Nitrogen | Freezing Experimen...  kXiYSI7H2b0   \n",
       "4           4                     Best Back to School Tech 2022!  ErMwWXQxHp0   \n",
       "\n",
       "  Published At Keyword    Likes  Comments      Views  \n",
       "0   2022-08-23    tech   3407.0     672.0   135612.0  \n",
       "1   2022-08-24    tech  76779.0    4306.0  1758063.0  \n",
       "2   2022-08-23    tech  63825.0    3338.0  1564007.0  \n",
       "3   2022-08-23    tech  71566.0    1426.0   922918.0  \n",
       "4   2022-08-08    tech  96513.0    5155.0  1855644.0  "
      ]
     },
     "execution_count": 3,
     "metadata": {},
     "output_type": "execute_result"
    }
   ],
   "source": [
    "data.head()"
   ]
  },
  {
   "cell_type": "code",
   "execution_count": 4,
   "id": "78a70cc9",
   "metadata": {
    "execution": {
     "iopub.execute_input": "2022-08-31T10:59:14.598036Z",
     "iopub.status.busy": "2022-08-31T10:59:14.597225Z",
     "iopub.status.idle": "2022-08-31T10:59:14.612106Z",
     "shell.execute_reply": "2022-08-31T10:59:14.610677Z"
    },
    "papermill": {
     "duration": 0.026738,
     "end_time": "2022-08-31T10:59:14.614498",
     "exception": false,
     "start_time": "2022-08-31T10:59:14.587760",
     "status": "completed"
    },
    "tags": []
   },
   "outputs": [
    {
     "data": {
      "text/html": [
       "<div>\n",
       "<style scoped>\n",
       "    .dataframe tbody tr th:only-of-type {\n",
       "        vertical-align: middle;\n",
       "    }\n",
       "\n",
       "    .dataframe tbody tr th {\n",
       "        vertical-align: top;\n",
       "    }\n",
       "\n",
       "    .dataframe thead th {\n",
       "        text-align: right;\n",
       "    }\n",
       "</style>\n",
       "<table border=\"1\" class=\"dataframe\">\n",
       "  <thead>\n",
       "    <tr style=\"text-align: right;\">\n",
       "      <th></th>\n",
       "      <th>Unnamed: 0</th>\n",
       "      <th>Video ID</th>\n",
       "      <th>Comment</th>\n",
       "      <th>Likes</th>\n",
       "      <th>Sentiment</th>\n",
       "    </tr>\n",
       "  </thead>\n",
       "  <tbody>\n",
       "    <tr>\n",
       "      <th>0</th>\n",
       "      <td>0</td>\n",
       "      <td>wAZZ-UWGVHI</td>\n",
       "      <td>Let's not forget that Apple Pay in 2014 requir...</td>\n",
       "      <td>95.0</td>\n",
       "      <td>1.0</td>\n",
       "    </tr>\n",
       "    <tr>\n",
       "      <th>1</th>\n",
       "      <td>1</td>\n",
       "      <td>wAZZ-UWGVHI</td>\n",
       "      <td>Here in NZ 50% of retailers don’t even have co...</td>\n",
       "      <td>19.0</td>\n",
       "      <td>0.0</td>\n",
       "    </tr>\n",
       "    <tr>\n",
       "      <th>2</th>\n",
       "      <td>2</td>\n",
       "      <td>wAZZ-UWGVHI</td>\n",
       "      <td>I will forever acknowledge this channel with t...</td>\n",
       "      <td>161.0</td>\n",
       "      <td>2.0</td>\n",
       "    </tr>\n",
       "    <tr>\n",
       "      <th>3</th>\n",
       "      <td>3</td>\n",
       "      <td>wAZZ-UWGVHI</td>\n",
       "      <td>Whenever I go to a place that doesn’t take App...</td>\n",
       "      <td>8.0</td>\n",
       "      <td>0.0</td>\n",
       "    </tr>\n",
       "    <tr>\n",
       "      <th>4</th>\n",
       "      <td>4</td>\n",
       "      <td>wAZZ-UWGVHI</td>\n",
       "      <td>Apple Pay is so convenient, secure, and easy t...</td>\n",
       "      <td>34.0</td>\n",
       "      <td>2.0</td>\n",
       "    </tr>\n",
       "  </tbody>\n",
       "</table>\n",
       "</div>"
      ],
      "text/plain": [
       "   Unnamed: 0     Video ID                                            Comment  \\\n",
       "0           0  wAZZ-UWGVHI  Let's not forget that Apple Pay in 2014 requir...   \n",
       "1           1  wAZZ-UWGVHI  Here in NZ 50% of retailers don’t even have co...   \n",
       "2           2  wAZZ-UWGVHI  I will forever acknowledge this channel with t...   \n",
       "3           3  wAZZ-UWGVHI  Whenever I go to a place that doesn’t take App...   \n",
       "4           4  wAZZ-UWGVHI  Apple Pay is so convenient, secure, and easy t...   \n",
       "\n",
       "   Likes  Sentiment  \n",
       "0   95.0        1.0  \n",
       "1   19.0        0.0  \n",
       "2  161.0        2.0  \n",
       "3    8.0        0.0  \n",
       "4   34.0        2.0  "
      ]
     },
     "execution_count": 4,
     "metadata": {},
     "output_type": "execute_result"
    }
   ],
   "source": [
    "comm.head()"
   ]
  },
  {
   "cell_type": "code",
   "execution_count": 5,
   "id": "d3b1a35c",
   "metadata": {
    "execution": {
     "iopub.execute_input": "2022-08-31T10:59:14.632201Z",
     "iopub.status.busy": "2022-08-31T10:59:14.631757Z",
     "iopub.status.idle": "2022-08-31T10:59:14.645476Z",
     "shell.execute_reply": "2022-08-31T10:59:14.644447Z"
    },
    "papermill": {
     "duration": 0.025255,
     "end_time": "2022-08-31T10:59:14.647835",
     "exception": false,
     "start_time": "2022-08-31T10:59:14.622580",
     "status": "completed"
    },
    "tags": []
   },
   "outputs": [],
   "source": [
    "data.drop([\"Unnamed: 0\"],axis=1,inplace=True)"
   ]
  },
  {
   "cell_type": "code",
   "execution_count": 6,
   "id": "9b5c8053",
   "metadata": {
    "execution": {
     "iopub.execute_input": "2022-08-31T10:59:14.665970Z",
     "iopub.status.busy": "2022-08-31T10:59:14.665498Z",
     "iopub.status.idle": "2022-08-31T10:59:14.674156Z",
     "shell.execute_reply": "2022-08-31T10:59:14.673232Z"
    },
    "papermill": {
     "duration": 0.020517,
     "end_time": "2022-08-31T10:59:14.676457",
     "exception": false,
     "start_time": "2022-08-31T10:59:14.655940",
     "status": "completed"
    },
    "tags": []
   },
   "outputs": [],
   "source": [
    "comm.drop([\"Unnamed: 0\"],axis=1,inplace=True)"
   ]
  },
  {
   "cell_type": "code",
   "execution_count": 7,
   "id": "fe83fbcb",
   "metadata": {
    "execution": {
     "iopub.execute_input": "2022-08-31T10:59:14.694314Z",
     "iopub.status.busy": "2022-08-31T10:59:14.693851Z",
     "iopub.status.idle": "2022-08-31T10:59:14.727465Z",
     "shell.execute_reply": "2022-08-31T10:59:14.726006Z"
    },
    "papermill": {
     "duration": 0.046065,
     "end_time": "2022-08-31T10:59:14.730422",
     "exception": false,
     "start_time": "2022-08-31T10:59:14.684357",
     "status": "completed"
    },
    "tags": []
   },
   "outputs": [
    {
     "data": {
      "text/plain": [
       "(0, 148)"
      ]
     },
     "execution_count": 7,
     "metadata": {},
     "output_type": "execute_result"
    }
   ],
   "source": [
    "data.duplicated().sum() , comm.duplicated().sum()\n"
   ]
  },
  {
   "cell_type": "code",
   "execution_count": 8,
   "id": "e0a09533",
   "metadata": {
    "execution": {
     "iopub.execute_input": "2022-08-31T10:59:14.749259Z",
     "iopub.status.busy": "2022-08-31T10:59:14.748771Z",
     "iopub.status.idle": "2022-08-31T10:59:14.766628Z",
     "shell.execute_reply": "2022-08-31T10:59:14.765136Z"
    },
    "papermill": {
     "duration": 0.031018,
     "end_time": "2022-08-31T10:59:14.769884",
     "exception": false,
     "start_time": "2022-08-31T10:59:14.738866",
     "status": "completed"
    },
    "tags": []
   },
   "outputs": [],
   "source": [
    "comm.drop_duplicates(inplace=True)"
   ]
  },
  {
   "cell_type": "code",
   "execution_count": 9,
   "id": "e9f590f4",
   "metadata": {
    "execution": {
     "iopub.execute_input": "2022-08-31T10:59:14.790016Z",
     "iopub.status.busy": "2022-08-31T10:59:14.788539Z",
     "iopub.status.idle": "2022-08-31T10:59:14.812740Z",
     "shell.execute_reply": "2022-08-31T10:59:14.811274Z"
    },
    "papermill": {
     "duration": 0.037446,
     "end_time": "2022-08-31T10:59:14.815616",
     "exception": false,
     "start_time": "2022-08-31T10:59:14.778170",
     "status": "completed"
    },
    "tags": []
   },
   "outputs": [],
   "source": [
    "data2 = pd.merge(left=data,right=comm,on=\"Video ID\")"
   ]
  },
  {
   "cell_type": "code",
   "execution_count": 10,
   "id": "8bac575f",
   "metadata": {
    "execution": {
     "iopub.execute_input": "2022-08-31T10:59:14.833534Z",
     "iopub.status.busy": "2022-08-31T10:59:14.833112Z",
     "iopub.status.idle": "2022-08-31T10:59:14.857982Z",
     "shell.execute_reply": "2022-08-31T10:59:14.856618Z"
    },
    "papermill": {
     "duration": 0.036891,
     "end_time": "2022-08-31T10:59:14.860690",
     "exception": false,
     "start_time": "2022-08-31T10:59:14.823799",
     "status": "completed"
    },
    "tags": []
   },
   "outputs": [
    {
     "data": {
      "text/html": [
       "<div>\n",
       "<style scoped>\n",
       "    .dataframe tbody tr th:only-of-type {\n",
       "        vertical-align: middle;\n",
       "    }\n",
       "\n",
       "    .dataframe tbody tr th {\n",
       "        vertical-align: top;\n",
       "    }\n",
       "\n",
       "    .dataframe thead th {\n",
       "        text-align: right;\n",
       "    }\n",
       "</style>\n",
       "<table border=\"1\" class=\"dataframe\">\n",
       "  <thead>\n",
       "    <tr style=\"text-align: right;\">\n",
       "      <th></th>\n",
       "      <th>Title</th>\n",
       "      <th>Video ID</th>\n",
       "      <th>Published At</th>\n",
       "      <th>Keyword</th>\n",
       "      <th>Likes_x</th>\n",
       "      <th>Comments</th>\n",
       "      <th>Views</th>\n",
       "      <th>Comment</th>\n",
       "      <th>Likes_y</th>\n",
       "      <th>Sentiment</th>\n",
       "    </tr>\n",
       "  </thead>\n",
       "  <tbody>\n",
       "    <tr>\n",
       "      <th>18336</th>\n",
       "      <td>Complete Roadmap for Machine Learning | ML Roa...</td>\n",
       "      <td>T4MLrtOKPjY</td>\n",
       "      <td>2021-05-11</td>\n",
       "      <td>machine learning</td>\n",
       "      <td>9615.0</td>\n",
       "      <td>648.0</td>\n",
       "      <td>319957.0</td>\n",
       "      <td>This channel is such a blessing and a goldmine...</td>\n",
       "      <td>55.0</td>\n",
       "      <td>2.0</td>\n",
       "    </tr>\n",
       "    <tr>\n",
       "      <th>4128</th>\n",
       "      <td>Blue Rubik’s Cube 🔵</td>\n",
       "      <td>C_8BN_CL2tw</td>\n",
       "      <td>2022-04-07</td>\n",
       "      <td>cubes</td>\n",
       "      <td>228332.0</td>\n",
       "      <td>689.0</td>\n",
       "      <td>6329576.0</td>\n",
       "      <td>Join the 100K Giveaway: https://youtu.be/m-NXU...</td>\n",
       "      <td>131.0</td>\n",
       "      <td>1.0</td>\n",
       "    </tr>\n",
       "    <tr>\n",
       "      <th>2879</th>\n",
       "      <td>Reacting to people following my wolf cut tutorial</td>\n",
       "      <td>3yYU1BOrSo8</td>\n",
       "      <td>2022-01-30</td>\n",
       "      <td>tutorial</td>\n",
       "      <td>216934.0</td>\n",
       "      <td>4192.0</td>\n",
       "      <td>5656681.0</td>\n",
       "      <td>Brad's wolf haircut tute was super helpful. i ...</td>\n",
       "      <td>149.0</td>\n",
       "      <td>2.0</td>\n",
       "    </tr>\n",
       "  </tbody>\n",
       "</table>\n",
       "</div>"
      ],
      "text/plain": [
       "                                                   Title     Video ID  \\\n",
       "18336  Complete Roadmap for Machine Learning | ML Roa...  T4MLrtOKPjY   \n",
       "4128                                 Blue Rubik’s Cube 🔵  C_8BN_CL2tw   \n",
       "2879   Reacting to people following my wolf cut tutorial  3yYU1BOrSo8   \n",
       "\n",
       "      Published At           Keyword   Likes_x  Comments      Views  \\\n",
       "18336   2021-05-11  machine learning    9615.0     648.0   319957.0   \n",
       "4128    2022-04-07             cubes  228332.0     689.0  6329576.0   \n",
       "2879    2022-01-30          tutorial  216934.0    4192.0  5656681.0   \n",
       "\n",
       "                                                 Comment  Likes_y  Sentiment  \n",
       "18336  This channel is such a blessing and a goldmine...     55.0        2.0  \n",
       "4128   Join the 100K Giveaway: https://youtu.be/m-NXU...    131.0        1.0  \n",
       "2879   Brad's wolf haircut tute was super helpful. i ...    149.0        2.0  "
      ]
     },
     "execution_count": 10,
     "metadata": {},
     "output_type": "execute_result"
    }
   ],
   "source": [
    "data2.sample(3)"
   ]
  },
  {
   "cell_type": "code",
   "execution_count": 11,
   "id": "038edb1d",
   "metadata": {
    "execution": {
     "iopub.execute_input": "2022-08-31T10:59:14.879527Z",
     "iopub.status.busy": "2022-08-31T10:59:14.879148Z",
     "iopub.status.idle": "2022-08-31T10:59:14.891202Z",
     "shell.execute_reply": "2022-08-31T10:59:14.889992Z"
    },
    "papermill": {
     "duration": 0.024213,
     "end_time": "2022-08-31T10:59:14.893707",
     "exception": false,
     "start_time": "2022-08-31T10:59:14.869494",
     "status": "completed"
    },
    "tags": []
   },
   "outputs": [
    {
     "data": {
      "text/plain": [
       "2.0    11401\n",
       "1.0     4646\n",
       "0.0     2340\n",
       "Name: Sentiment, dtype: int64"
      ]
     },
     "execution_count": 11,
     "metadata": {},
     "output_type": "execute_result"
    }
   ],
   "source": [
    "data2[\"Sentiment\"].value_counts()"
   ]
  },
  {
   "cell_type": "code",
   "execution_count": 12,
   "id": "d55fc8b7",
   "metadata": {
    "execution": {
     "iopub.execute_input": "2022-08-31T10:59:14.912730Z",
     "iopub.status.busy": "2022-08-31T10:59:14.912249Z",
     "iopub.status.idle": "2022-08-31T10:59:14.925402Z",
     "shell.execute_reply": "2022-08-31T10:59:14.924266Z"
    },
    "papermill": {
     "duration": 0.025702,
     "end_time": "2022-08-31T10:59:14.927870",
     "exception": false,
     "start_time": "2022-08-31T10:59:14.902168",
     "status": "completed"
    },
    "tags": []
   },
   "outputs": [
    {
     "data": {
      "text/plain": [
       "Sentiment    1.000000\n",
       "Likes_x      0.019256\n",
       "Views        0.009925\n",
       "Comments     0.007544\n",
       "Likes_y     -0.028018\n",
       "Name: Sentiment, dtype: float64"
      ]
     },
     "execution_count": 12,
     "metadata": {},
     "output_type": "execute_result"
    }
   ],
   "source": [
    "data2.corr()[\"Sentiment\"].sort_values(ascending=False)"
   ]
  },
  {
   "cell_type": "code",
   "execution_count": 13,
   "id": "b8d9c949",
   "metadata": {
    "execution": {
     "iopub.execute_input": "2022-08-31T10:59:14.946955Z",
     "iopub.status.busy": "2022-08-31T10:59:14.946505Z",
     "iopub.status.idle": "2022-08-31T10:59:15.310190Z",
     "shell.execute_reply": "2022-08-31T10:59:15.308800Z"
    },
    "papermill": {
     "duration": 0.376341,
     "end_time": "2022-08-31T10:59:15.312726",
     "exception": false,
     "start_time": "2022-08-31T10:59:14.936385",
     "status": "completed"
    },
    "tags": []
   },
   "outputs": [
    {
     "data": {
      "text/plain": [
       "<AxesSubplot:>"
      ]
     },
     "execution_count": 13,
     "metadata": {},
     "output_type": "execute_result"
    },
    {
     "data": {
      "image/png": "[encoded data removed]",
      "text/plain": [
       "<Figure size 432x288 with 1 Axes>"
      ]
     },
     "metadata": {
      "needs_background": "light"
     },
     "output_type": "display_data"
    }
   ],
   "source": [
    "sns.boxplot(data=data2)"
   ]
  },
  {
   "cell_type": "code",
   "execution_count": 14,
   "id": "6e1a910f",
   "metadata": {
    "execution": {
     "iopub.execute_input": "2022-08-31T10:59:15.333252Z",
     "iopub.status.busy": "2022-08-31T10:59:15.331949Z",
     "iopub.status.idle": "2022-08-31T10:59:15.651698Z",
     "shell.execute_reply": "2022-08-31T10:59:15.650899Z"
    },
    "papermill": {
     "duration": 0.332271,
     "end_time": "2022-08-31T10:59:15.654011",
     "exception": false,
     "start_time": "2022-08-31T10:59:15.321740",
     "status": "completed"
    },
    "tags": []
   },
   "outputs": [
    {
     "data": {
      "text/plain": [
       "<AxesSubplot:xlabel='Views', ylabel='Likes_x'>"
      ]
     },
     "execution_count": 14,
     "metadata": {},
     "output_type": "execute_result"
    },
    {
     "data": {
      "image/png": "[encoded data removed]",
      "text/plain": [
       "<Figure size 432x288 with 1 Axes>"
      ]
     },
     "metadata": {
      "needs_background": "light"
     },
     "output_type": "display_data"
    }
   ],
   "source": [
    "sns.scatterplot(x=data2[\"Views\"],y=data2[\"Likes_x\"])"
   ]
  },
  {
   "cell_type": "code",
   "execution_count": 15,
   "id": "8437bd6c",
   "metadata": {
    "execution": {
     "iopub.execute_input": "2022-08-31T10:59:15.675821Z",
     "iopub.status.busy": "2022-08-31T10:59:15.675231Z",
     "iopub.status.idle": "2022-08-31T10:59:17.390322Z",
     "shell.execute_reply": "2022-08-31T10:59:17.389496Z"
    },
    "papermill": {
     "duration": 1.729151,
     "end_time": "2022-08-31T10:59:17.392931",
     "exception": false,
     "start_time": "2022-08-31T10:59:15.663780",
     "status": "completed"
    },
    "tags": []
   },
   "outputs": [
    {
     "data": {
      "image/png": "[encoded data removed]",
      "text/plain": [
       "<Figure size 1440x504 with 1 Axes>"
      ]
     },
     "metadata": {
      "needs_background": "light"
     },
     "output_type": "display_data"
    }
   ],
   "source": [
    "plt.figure(figsize=(20,7))\n",
    "sns.barplot(x=\"Keyword\",y=\"Views\",data=data2.sort_values(by=\"Views\",ascending=False))\n",
    "plt.xticks(rotation=90)\n",
    "plt.show()"
   ]
  },
  {
   "cell_type": "code",
   "execution_count": 16,
   "id": "343bb065",
   "metadata": {
    "execution": {
     "iopub.execute_input": "2022-08-31T10:59:17.416155Z",
     "iopub.status.busy": "2022-08-31T10:59:17.414908Z",
     "iopub.status.idle": "2022-08-31T10:59:17.425182Z",
     "shell.execute_reply": "2022-08-31T10:59:17.424325Z"
    },
    "papermill": {
     "duration": 0.02394,
     "end_time": "2022-08-31T10:59:17.427440",
     "exception": false,
     "start_time": "2022-08-31T10:59:17.403500",
     "status": "completed"
    },
    "tags": []
   },
   "outputs": [
    {
     "data": {
      "text/plain": [
       "reaction            507\n",
       "tutorial            501\n",
       "game development    500\n",
       "physics             500\n",
       "asmr                500\n",
       "trolling            500\n",
       "cubes               499\n",
       "interview           499\n",
       "cnn                 497\n",
       "history             496\n",
       "machine learning    495\n",
       "marvel              492\n",
       "data science        492\n",
       "sat                 490\n",
       "mrbeast             489\n",
       "xbox                488\n",
       "minecraft           486\n",
       "nintendo            480\n",
       "how-to              479\n",
       "food                479\n",
       "computer science    475\n",
       "tech                473\n",
       "biology             470\n",
       "sports              465\n",
       "business            458\n",
       "crypto              457\n",
       "chess               457\n",
       "mukbang             450\n",
       "google              444\n",
       "literature          441\n",
       "bed                 435\n",
       "music               429\n",
       "movies              428\n",
       "apple               419\n",
       "gaming              407\n",
       "lofi                384\n",
       "animals             370\n",
       "news                364\n",
       "finance             319\n",
       "education           240\n",
       "mathchemistry       133\n",
       "Name: Keyword, dtype: int64"
      ]
     },
     "execution_count": 16,
     "metadata": {},
     "output_type": "execute_result"
    }
   ],
   "source": [
    "data2[\"Keyword\"].value_counts()"
   ]
  },
  {
   "cell_type": "code",
   "execution_count": 17,
   "id": "71bd7522",
   "metadata": {
    "execution": {
     "iopub.execute_input": "2022-08-31T10:59:17.450205Z",
     "iopub.status.busy": "2022-08-31T10:59:17.449785Z",
     "iopub.status.idle": "2022-08-31T10:59:19.058984Z",
     "shell.execute_reply": "2022-08-31T10:59:19.058109Z"
    },
    "papermill": {
     "duration": 1.623451,
     "end_time": "2022-08-31T10:59:19.061429",
     "exception": false,
     "start_time": "2022-08-31T10:59:17.437978",
     "status": "completed"
    },
    "tags": []
   },
   "outputs": [
    {
     "data": {
      "image/png": "[encoded data removed]",
      "text/plain": [
       "<Figure size 1440x504 with 1 Axes>"
      ]
     },
     "metadata": {
      "needs_background": "light"
     },
     "output_type": "display_data"
    }
   ],
   "source": [
    "plt.figure(figsize=(20,7))\n",
    "sns.barplot(x=\"Keyword\",y=\"Comments\",data=data2.sort_values(by=\"Comments\",ascending=False))\n",
    "plt.xticks(rotation=90)\n",
    "plt.show()"
   ]
  },
  {
   "cell_type": "code",
   "execution_count": 18,
   "id": "06630ff2",
   "metadata": {
    "execution": {
     "iopub.execute_input": "2022-08-31T10:59:19.087405Z",
     "iopub.status.busy": "2022-08-31T10:59:19.086959Z",
     "iopub.status.idle": "2022-08-31T10:59:19.100666Z",
     "shell.execute_reply": "2022-08-31T10:59:19.099340Z"
    },
    "papermill": {
     "duration": 0.030234,
     "end_time": "2022-08-31T10:59:19.103802",
     "exception": false,
     "start_time": "2022-08-31T10:59:19.073568",
     "status": "completed"
    },
    "tags": []
   },
   "outputs": [
    {
     "data": {
      "text/plain": [
       "5379                                 0:01 melhor parte kk\n",
       "5383    i remember when this first came out and i kept...\n",
       "5381                                   Really Enjoyed it!\n",
       "5380    I listened to this before and now I’m listenin...\n",
       "5378    22/08/2022. Nostalgia de Respeito e Maravilhos...\n",
       "Name: Comment, dtype: object"
      ]
     },
     "execution_count": 18,
     "metadata": {},
     "output_type": "execute_result"
    }
   ],
   "source": [
    "data2.sort_values(by=\"Comments\",ascending=False)[\"Comment\"].head()"
   ]
  },
  {
   "cell_type": "code",
   "execution_count": 19,
   "id": "6f2e4860",
   "metadata": {
    "execution": {
     "iopub.execute_input": "2022-08-31T10:59:19.128120Z",
     "iopub.status.busy": "2022-08-31T10:59:19.127324Z",
     "iopub.status.idle": "2022-08-31T10:59:19.158750Z",
     "shell.execute_reply": "2022-08-31T10:59:19.157591Z"
    },
    "papermill": {
     "duration": 0.04659,
     "end_time": "2022-08-31T10:59:19.161427",
     "exception": false,
     "start_time": "2022-08-31T10:59:19.114837",
     "status": "completed"
    },
    "tags": []
   },
   "outputs": [
    {
     "data": {
      "text/html": [
       "<div>\n",
       "<style scoped>\n",
       "    .dataframe tbody tr th:only-of-type {\n",
       "        vertical-align: middle;\n",
       "    }\n",
       "\n",
       "    .dataframe tbody tr th {\n",
       "        vertical-align: top;\n",
       "    }\n",
       "\n",
       "    .dataframe thead th {\n",
       "        text-align: right;\n",
       "    }\n",
       "</style>\n",
       "<table border=\"1\" class=\"dataframe\">\n",
       "  <thead>\n",
       "    <tr style=\"text-align: right;\">\n",
       "      <th></th>\n",
       "      <th>Likes_x</th>\n",
       "      <th>Comments</th>\n",
       "      <th>Views</th>\n",
       "      <th>Likes_y</th>\n",
       "      <th>Sentiment</th>\n",
       "    </tr>\n",
       "  </thead>\n",
       "  <tbody>\n",
       "    <tr>\n",
       "      <th>count</th>\n",
       "      <td>1.836700e+04</td>\n",
       "      <td>18367.000000</td>\n",
       "      <td>1.836700e+04</td>\n",
       "      <td>18387.000000</td>\n",
       "      <td>18387.000000</td>\n",
       "    </tr>\n",
       "    <tr>\n",
       "      <th>mean</th>\n",
       "      <td>1.758958e+05</td>\n",
       "      <td>8115.041651</td>\n",
       "      <td>1.184928e+07</td>\n",
       "      <td>1051.613423</td>\n",
       "      <td>1.492794</td>\n",
       "    </tr>\n",
       "    <tr>\n",
       "      <th>std</th>\n",
       "      <td>8.089415e+05</td>\n",
       "      <td>38402.575655</td>\n",
       "      <td>1.096406e+08</td>\n",
       "      <td>10678.606026</td>\n",
       "      <td>0.710284</td>\n",
       "    </tr>\n",
       "    <tr>\n",
       "      <th>min</th>\n",
       "      <td>-1.000000e+00</td>\n",
       "      <td>-1.000000</td>\n",
       "      <td>2.500000e+01</td>\n",
       "      <td>0.000000</td>\n",
       "      <td>0.000000</td>\n",
       "    </tr>\n",
       "    <tr>\n",
       "      <th>25%</th>\n",
       "      <td>2.923000e+03</td>\n",
       "      <td>219.000000</td>\n",
       "      <td>9.363300e+04</td>\n",
       "      <td>5.000000</td>\n",
       "      <td>1.000000</td>\n",
       "    </tr>\n",
       "    <tr>\n",
       "      <th>50%</th>\n",
       "      <td>1.542500e+04</td>\n",
       "      <td>864.000000</td>\n",
       "      <td>6.137570e+05</td>\n",
       "      <td>29.000000</td>\n",
       "      <td>2.000000</td>\n",
       "    </tr>\n",
       "    <tr>\n",
       "      <th>75%</th>\n",
       "      <td>6.200900e+04</td>\n",
       "      <td>3491.000000</td>\n",
       "      <td>2.872679e+06</td>\n",
       "      <td>192.000000</td>\n",
       "      <td>2.000000</td>\n",
       "    </tr>\n",
       "    <tr>\n",
       "      <th>max</th>\n",
       "      <td>1.644556e+07</td>\n",
       "      <td>732818.000000</td>\n",
       "      <td>4.034122e+09</td>\n",
       "      <td>891372.000000</td>\n",
       "      <td>2.000000</td>\n",
       "    </tr>\n",
       "  </tbody>\n",
       "</table>\n",
       "</div>"
      ],
      "text/plain": [
       "            Likes_x       Comments         Views        Likes_y     Sentiment\n",
       "count  1.836700e+04   18367.000000  1.836700e+04   18387.000000  18387.000000\n",
       "mean   1.758958e+05    8115.041651  1.184928e+07    1051.613423      1.492794\n",
       "std    8.089415e+05   38402.575655  1.096406e+08   10678.606026      0.710284\n",
       "min   -1.000000e+00      -1.000000  2.500000e+01       0.000000      0.000000\n",
       "25%    2.923000e+03     219.000000  9.363300e+04       5.000000      1.000000\n",
       "50%    1.542500e+04     864.000000  6.137570e+05      29.000000      2.000000\n",
       "75%    6.200900e+04    3491.000000  2.872679e+06     192.000000      2.000000\n",
       "max    1.644556e+07  732818.000000  4.034122e+09  891372.000000      2.000000"
      ]
     },
     "execution_count": 19,
     "metadata": {},
     "output_type": "execute_result"
    }
   ],
   "source": [
    "data2.describe()"
   ]
  },
  {
   "cell_type": "code",
   "execution_count": 20,
   "id": "69806e30",
   "metadata": {
    "execution": {
     "iopub.execute_input": "2022-08-31T10:59:19.186882Z",
     "iopub.status.busy": "2022-08-31T10:59:19.185917Z",
     "iopub.status.idle": "2022-08-31T10:59:19.200308Z",
     "shell.execute_reply": "2022-08-31T10:59:19.198934Z"
    },
    "papermill": {
     "duration": 0.030425,
     "end_time": "2022-08-31T10:59:19.203235",
     "exception": false,
     "start_time": "2022-08-31T10:59:19.172810",
     "status": "completed"
    },
    "tags": []
   },
   "outputs": [],
   "source": [
    "scale = MinMaxScaler()\n",
    "data2[[\"Likes_x\",\"Comments\",\"Views\",\"Likes_y\",\"Sentiment\"]]= scale.fit_transform(data2[[\"Likes_x\",\"Comments\",\"Views\",\"Likes_y\",\"Sentiment\"]])"
   ]
  },
  {
   "cell_type": "code",
   "execution_count": 21,
   "id": "ad5f85cc",
   "metadata": {
    "execution": {
     "iopub.execute_input": "2022-08-31T10:59:19.228547Z",
     "iopub.status.busy": "2022-08-31T10:59:19.228123Z",
     "iopub.status.idle": "2022-08-31T10:59:19.244552Z",
     "shell.execute_reply": "2022-08-31T10:59:19.243706Z"
    },
    "papermill": {
     "duration": 0.031602,
     "end_time": "2022-08-31T10:59:19.246920",
     "exception": false,
     "start_time": "2022-08-31T10:59:19.215318",
     "status": "completed"
    },
    "tags": []
   },
   "outputs": [
    {
     "data": {
      "text/html": [
       "<div>\n",
       "<style scoped>\n",
       "    .dataframe tbody tr th:only-of-type {\n",
       "        vertical-align: middle;\n",
       "    }\n",
       "\n",
       "    .dataframe tbody tr th {\n",
       "        vertical-align: top;\n",
       "    }\n",
       "\n",
       "    .dataframe thead th {\n",
       "        text-align: right;\n",
       "    }\n",
       "</style>\n",
       "<table border=\"1\" class=\"dataframe\">\n",
       "  <thead>\n",
       "    <tr style=\"text-align: right;\">\n",
       "      <th></th>\n",
       "      <th>Title</th>\n",
       "      <th>Video ID</th>\n",
       "      <th>Published At</th>\n",
       "      <th>Keyword</th>\n",
       "      <th>Likes_x</th>\n",
       "      <th>Comments</th>\n",
       "      <th>Views</th>\n",
       "      <th>Comment</th>\n",
       "      <th>Likes_y</th>\n",
       "      <th>Sentiment</th>\n",
       "    </tr>\n",
       "  </thead>\n",
       "  <tbody>\n",
       "    <tr>\n",
       "      <th>0</th>\n",
       "      <td>Apple Pay Is Killing the Physical Wallet After...</td>\n",
       "      <td>wAZZ-UWGVHI</td>\n",
       "      <td>2022-08-23</td>\n",
       "      <td>tech</td>\n",
       "      <td>0.000207</td>\n",
       "      <td>0.000918</td>\n",
       "      <td>0.000034</td>\n",
       "      <td>Let's not forget that Apple Pay in 2014 requir...</td>\n",
       "      <td>0.000107</td>\n",
       "      <td>0.5</td>\n",
       "    </tr>\n",
       "    <tr>\n",
       "      <th>1</th>\n",
       "      <td>Apple Pay Is Killing the Physical Wallet After...</td>\n",
       "      <td>wAZZ-UWGVHI</td>\n",
       "      <td>2022-08-23</td>\n",
       "      <td>tech</td>\n",
       "      <td>0.000207</td>\n",
       "      <td>0.000918</td>\n",
       "      <td>0.000034</td>\n",
       "      <td>Here in NZ 50% of retailers don’t even have co...</td>\n",
       "      <td>0.000021</td>\n",
       "      <td>0.0</td>\n",
       "    </tr>\n",
       "    <tr>\n",
       "      <th>2</th>\n",
       "      <td>Apple Pay Is Killing the Physical Wallet After...</td>\n",
       "      <td>wAZZ-UWGVHI</td>\n",
       "      <td>2022-08-23</td>\n",
       "      <td>tech</td>\n",
       "      <td>0.000207</td>\n",
       "      <td>0.000918</td>\n",
       "      <td>0.000034</td>\n",
       "      <td>I will forever acknowledge this channel with t...</td>\n",
       "      <td>0.000181</td>\n",
       "      <td>1.0</td>\n",
       "    </tr>\n",
       "    <tr>\n",
       "      <th>3</th>\n",
       "      <td>Apple Pay Is Killing the Physical Wallet After...</td>\n",
       "      <td>wAZZ-UWGVHI</td>\n",
       "      <td>2022-08-23</td>\n",
       "      <td>tech</td>\n",
       "      <td>0.000207</td>\n",
       "      <td>0.000918</td>\n",
       "      <td>0.000034</td>\n",
       "      <td>Whenever I go to a place that doesn’t take App...</td>\n",
       "      <td>0.000009</td>\n",
       "      <td>0.0</td>\n",
       "    </tr>\n",
       "    <tr>\n",
       "      <th>4</th>\n",
       "      <td>Apple Pay Is Killing the Physical Wallet After...</td>\n",
       "      <td>wAZZ-UWGVHI</td>\n",
       "      <td>2022-08-23</td>\n",
       "      <td>tech</td>\n",
       "      <td>0.000207</td>\n",
       "      <td>0.000918</td>\n",
       "      <td>0.000034</td>\n",
       "      <td>Apple Pay is so convenient, secure, and easy t...</td>\n",
       "      <td>0.000038</td>\n",
       "      <td>1.0</td>\n",
       "    </tr>\n",
       "  </tbody>\n",
       "</table>\n",
       "</div>"
      ],
      "text/plain": [
       "                                               Title     Video ID  \\\n",
       "0  Apple Pay Is Killing the Physical Wallet After...  wAZZ-UWGVHI   \n",
       "1  Apple Pay Is Killing the Physical Wallet After...  wAZZ-UWGVHI   \n",
       "2  Apple Pay Is Killing the Physical Wallet After...  wAZZ-UWGVHI   \n",
       "3  Apple Pay Is Killing the Physical Wallet After...  wAZZ-UWGVHI   \n",
       "4  Apple Pay Is Killing the Physical Wallet After...  wAZZ-UWGVHI   \n",
       "\n",
       "  Published At Keyword   Likes_x  Comments     Views  \\\n",
       "0   2022-08-23    tech  0.000207  0.000918  0.000034   \n",
       "1   2022-08-23    tech  0.000207  0.000918  0.000034   \n",
       "2   2022-08-23    tech  0.000207  0.000918  0.000034   \n",
       "3   2022-08-23    tech  0.000207  0.000918  0.000034   \n",
       "4   2022-08-23    tech  0.000207  0.000918  0.000034   \n",
       "\n",
       "                                             Comment   Likes_y  Sentiment  \n",
       "0  Let's not forget that Apple Pay in 2014 requir...  0.000107        0.5  \n",
       "1  Here in NZ 50% of retailers don’t even have co...  0.000021        0.0  \n",
       "2  I will forever acknowledge this channel with t...  0.000181        1.0  \n",
       "3  Whenever I go to a place that doesn’t take App...  0.000009        0.0  \n",
       "4  Apple Pay is so convenient, secure, and easy t...  0.000038        1.0  "
      ]
     },
     "execution_count": 21,
     "metadata": {},
     "output_type": "execute_result"
    }
   ],
   "source": [
    "data2.head()"
   ]
  },
  {
   "cell_type": "code",
   "execution_count": 22,
   "id": "a5049175",
   "metadata": {
    "execution": {
     "iopub.execute_input": "2022-08-31T10:59:19.272174Z",
     "iopub.status.busy": "2022-08-31T10:59:19.271693Z",
     "iopub.status.idle": "2022-08-31T10:59:19.301780Z",
     "shell.execute_reply": "2022-08-31T10:59:19.301002Z"
    },
    "papermill": {
     "duration": 0.045338,
     "end_time": "2022-08-31T10:59:19.304099",
     "exception": false,
     "start_time": "2022-08-31T10:59:19.258761",
     "status": "completed"
    },
    "tags": []
   },
   "outputs": [
    {
     "data": {
      "text/html": [
       "<div>\n",
       "<style scoped>\n",
       "    .dataframe tbody tr th:only-of-type {\n",
       "        vertical-align: middle;\n",
       "    }\n",
       "\n",
       "    .dataframe tbody tr th {\n",
       "        vertical-align: top;\n",
       "    }\n",
       "\n",
       "    .dataframe thead th {\n",
       "        text-align: right;\n",
       "    }\n",
       "</style>\n",
       "<table border=\"1\" class=\"dataframe\">\n",
       "  <thead>\n",
       "    <tr style=\"text-align: right;\">\n",
       "      <th></th>\n",
       "      <th>Likes_x</th>\n",
       "      <th>Comments</th>\n",
       "      <th>Views</th>\n",
       "      <th>Likes_y</th>\n",
       "      <th>Sentiment</th>\n",
       "    </tr>\n",
       "  </thead>\n",
       "  <tbody>\n",
       "    <tr>\n",
       "      <th>count</th>\n",
       "      <td>18367.000000</td>\n",
       "      <td>18367.000000</td>\n",
       "      <td>18367.000000</td>\n",
       "      <td>18387.000000</td>\n",
       "      <td>18387.000000</td>\n",
       "    </tr>\n",
       "    <tr>\n",
       "      <th>mean</th>\n",
       "      <td>0.010696</td>\n",
       "      <td>0.011075</td>\n",
       "      <td>0.002937</td>\n",
       "      <td>0.001180</td>\n",
       "      <td>0.746397</td>\n",
       "    </tr>\n",
       "    <tr>\n",
       "      <th>std</th>\n",
       "      <td>0.049189</td>\n",
       "      <td>0.052404</td>\n",
       "      <td>0.027178</td>\n",
       "      <td>0.011980</td>\n",
       "      <td>0.355142</td>\n",
       "    </tr>\n",
       "    <tr>\n",
       "      <th>min</th>\n",
       "      <td>0.000000</td>\n",
       "      <td>0.000000</td>\n",
       "      <td>0.000000</td>\n",
       "      <td>0.000000</td>\n",
       "      <td>0.000000</td>\n",
       "    </tr>\n",
       "    <tr>\n",
       "      <th>25%</th>\n",
       "      <td>0.000178</td>\n",
       "      <td>0.000300</td>\n",
       "      <td>0.000023</td>\n",
       "      <td>0.000006</td>\n",
       "      <td>0.500000</td>\n",
       "    </tr>\n",
       "    <tr>\n",
       "      <th>50%</th>\n",
       "      <td>0.000938</td>\n",
       "      <td>0.001180</td>\n",
       "      <td>0.000152</td>\n",
       "      <td>0.000033</td>\n",
       "      <td>1.000000</td>\n",
       "    </tr>\n",
       "    <tr>\n",
       "      <th>75%</th>\n",
       "      <td>0.003771</td>\n",
       "      <td>0.004765</td>\n",
       "      <td>0.000712</td>\n",
       "      <td>0.000215</td>\n",
       "      <td>1.000000</td>\n",
       "    </tr>\n",
       "    <tr>\n",
       "      <th>max</th>\n",
       "      <td>1.000000</td>\n",
       "      <td>1.000000</td>\n",
       "      <td>1.000000</td>\n",
       "      <td>1.000000</td>\n",
       "      <td>1.000000</td>\n",
       "    </tr>\n",
       "  </tbody>\n",
       "</table>\n",
       "</div>"
      ],
      "text/plain": [
       "            Likes_x      Comments         Views       Likes_y     Sentiment\n",
       "count  18367.000000  18367.000000  18367.000000  18387.000000  18387.000000\n",
       "mean       0.010696      0.011075      0.002937      0.001180      0.746397\n",
       "std        0.049189      0.052404      0.027178      0.011980      0.355142\n",
       "min        0.000000      0.000000      0.000000      0.000000      0.000000\n",
       "25%        0.000178      0.000300      0.000023      0.000006      0.500000\n",
       "50%        0.000938      0.001180      0.000152      0.000033      1.000000\n",
       "75%        0.003771      0.004765      0.000712      0.000215      1.000000\n",
       "max        1.000000      1.000000      1.000000      1.000000      1.000000"
      ]
     },
     "execution_count": 22,
     "metadata": {},
     "output_type": "execute_result"
    }
   ],
   "source": [
    "data2.describe()"
   ]
  },
  {
   "cell_type": "code",
   "execution_count": 23,
   "id": "241f969d",
   "metadata": {
    "execution": {
     "iopub.execute_input": "2022-08-31T10:59:19.330689Z",
     "iopub.status.busy": "2022-08-31T10:59:19.329953Z",
     "iopub.status.idle": "2022-08-31T10:59:19.336430Z",
     "shell.execute_reply": "2022-08-31T10:59:19.335440Z"
    },
    "papermill": {
     "duration": 0.021779,
     "end_time": "2022-08-31T10:59:19.338694",
     "exception": false,
     "start_time": "2022-08-31T10:59:19.316915",
     "status": "completed"
    },
    "tags": []
   },
   "outputs": [
    {
     "data": {
      "text/plain": [
       "(18387, 10)"
      ]
     },
     "execution_count": 23,
     "metadata": {},
     "output_type": "execute_result"
    }
   ],
   "source": [
    "data2.shape"
   ]
  },
  {
   "cell_type": "code",
   "execution_count": 24,
   "id": "c9cb431e",
   "metadata": {
    "execution": {
     "iopub.execute_input": "2022-08-31T10:59:19.364633Z",
     "iopub.status.busy": "2022-08-31T10:59:19.364224Z",
     "iopub.status.idle": "2022-08-31T10:59:19.374934Z",
     "shell.execute_reply": "2022-08-31T10:59:19.373821Z"
    },
    "papermill": {
     "duration": 0.026397,
     "end_time": "2022-08-31T10:59:19.377562",
     "exception": false,
     "start_time": "2022-08-31T10:59:19.351165",
     "status": "completed"
    },
    "tags": []
   },
   "outputs": [
    {
     "data": {
      "text/plain": [
       "2022-08-24    2722\n",
       "2022-08-23    1742\n",
       "2022-08-22     366\n",
       "2022-08-20     361\n",
       "2022-08-21     347\n",
       "Name: Published At, dtype: int64"
      ]
     },
     "execution_count": 24,
     "metadata": {},
     "output_type": "execute_result"
    }
   ],
   "source": [
    "# Max video Upload date\n",
    "data2[\"Published At\"].value_counts().sort_values(ascending=False).head()"
   ]
  },
  {
   "cell_type": "code",
   "execution_count": 25,
   "id": "782cd179",
   "metadata": {
    "execution": {
     "iopub.execute_input": "2022-08-31T10:59:19.403975Z",
     "iopub.status.busy": "2022-08-31T10:59:19.403140Z",
     "iopub.status.idle": "2022-08-31T10:59:19.412484Z",
     "shell.execute_reply": "2022-08-31T10:59:19.411595Z"
    },
    "papermill": {
     "duration": 0.025207,
     "end_time": "2022-08-31T10:59:19.414776",
     "exception": false,
     "start_time": "2022-08-31T10:59:19.389569",
     "status": "completed"
    },
    "tags": []
   },
   "outputs": [
    {
     "data": {
      "text/plain": [
       "1456270.0    2\n",
       "95826.0      2\n",
       "14537.0      2\n",
       "51885.0      2\n",
       "1564007.0    2\n",
       "Name: Views, dtype: int64"
      ]
     },
     "execution_count": 25,
     "metadata": {},
     "output_type": "execute_result"
    }
   ],
   "source": [
    "# Max View data\n",
    "data[\"Views\"].value_counts().sort_values(ascending=False).head()"
   ]
  },
  {
   "cell_type": "code",
   "execution_count": 26,
   "id": "f27e5b75",
   "metadata": {
    "execution": {
     "iopub.execute_input": "2022-08-31T10:59:19.441415Z",
     "iopub.status.busy": "2022-08-31T10:59:19.440641Z",
     "iopub.status.idle": "2022-08-31T10:59:19.449713Z",
     "shell.execute_reply": "2022-08-31T10:59:19.448246Z"
    },
    "papermill": {
     "duration": 0.025359,
     "end_time": "2022-08-31T10:59:19.452278",
     "exception": false,
     "start_time": "2022-08-31T10:59:19.426919",
     "status": "completed"
    },
    "tags": []
   },
   "outputs": [
    {
     "data": {
      "text/plain": [
       "0        Apple Pay Is Killing the Physical Wallet After...\n",
       "1        Apple Pay Is Killing the Physical Wallet After...\n",
       "2        Apple Pay Is Killing the Physical Wallet After...\n",
       "3        Apple Pay Is Killing the Physical Wallet After...\n",
       "4        Apple Pay Is Killing the Physical Wallet After...\n",
       "                               ...                        \n",
       "18382                     Don&#39;t learn machine learning\n",
       "18383                     Don&#39;t learn machine learning\n",
       "18384                     Don&#39;t learn machine learning\n",
       "18385                     Don&#39;t learn machine learning\n",
       "18386                     Don&#39;t learn machine learning\n",
       "Name: Title, Length: 18387, dtype: object"
      ]
     },
     "execution_count": 26,
     "metadata": {},
     "output_type": "execute_result"
    }
   ],
   "source": [
    "data2[\"Title\"]"
   ]
  },
  {
   "cell_type": "code",
   "execution_count": 27,
   "id": "9434ce85",
   "metadata": {
    "execution": {
     "iopub.execute_input": "2022-08-31T10:59:19.479295Z",
     "iopub.status.busy": "2022-08-31T10:59:19.478451Z",
     "iopub.status.idle": "2022-08-31T10:59:19.499797Z",
     "shell.execute_reply": "2022-08-31T10:59:19.498553Z"
    },
    "papermill": {
     "duration": 0.037849,
     "end_time": "2022-08-31T10:59:19.502421",
     "exception": false,
     "start_time": "2022-08-31T10:59:19.464572",
     "status": "completed"
    },
    "tags": []
   },
   "outputs": [
    {
     "data": {
      "text/plain": [
       "Title                                                                                                Views   \n",
       "BLACKPINK - ‘Pink Venom’ DANCE PRACTICE VIDEO                                                        0.005909    36\n",
       "ASMR Gaming 😴 Fortnite 1 Kill = 1 Trigger Relaxing Mouth Sounds 🎮🎧 Controller Sounds + Whispering 💤  0.000004    22\n",
       "20 Minecraft Block Facts You Maybe Didn&#39;t Know                                                   0.000298    22\n",
       "🚨 DÉPÊCHEZ-VOUS 🚨 Ces PROMOS disparaissent bientôt du PS Store, Xbox Store, Nintendo eShop...        0.000003    20\n",
       "How to Solve a Rubik&#39;s Cube | WIRED                                                              0.007413    20\n",
       "Name: Views, dtype: int64"
      ]
     },
     "execution_count": 27,
     "metadata": {},
     "output_type": "execute_result"
    }
   ],
   "source": [
    "# Max Views video Title\n",
    "data2.groupby(\"Title\")[\"Views\"].value_counts().sort_values(ascending=False).head()"
   ]
  },
  {
   "cell_type": "code",
   "execution_count": 28,
   "id": "2a269e58",
   "metadata": {
    "execution": {
     "iopub.execute_input": "2022-08-31T10:59:19.529173Z",
     "iopub.status.busy": "2022-08-31T10:59:19.528618Z",
     "iopub.status.idle": "2022-08-31T10:59:19.546904Z",
     "shell.execute_reply": "2022-08-31T10:59:19.545637Z"
    },
    "papermill": {
     "duration": 0.034537,
     "end_time": "2022-08-31T10:59:19.549220",
     "exception": false,
     "start_time": "2022-08-31T10:59:19.514683",
     "status": "completed"
    },
    "tags": []
   },
   "outputs": [
    {
     "data": {
      "text/html": [
       "<div>\n",
       "<style scoped>\n",
       "    .dataframe tbody tr th:only-of-type {\n",
       "        vertical-align: middle;\n",
       "    }\n",
       "\n",
       "    .dataframe tbody tr th {\n",
       "        vertical-align: top;\n",
       "    }\n",
       "\n",
       "    .dataframe thead th {\n",
       "        text-align: right;\n",
       "    }\n",
       "</style>\n",
       "<table border=\"1\" class=\"dataframe\">\n",
       "  <thead>\n",
       "    <tr style=\"text-align: right;\">\n",
       "      <th></th>\n",
       "      <th>Title</th>\n",
       "      <th>Video ID</th>\n",
       "      <th>Published At</th>\n",
       "      <th>Keyword</th>\n",
       "      <th>Likes_x</th>\n",
       "      <th>Comments</th>\n",
       "      <th>Views</th>\n",
       "      <th>Comment</th>\n",
       "      <th>Likes_y</th>\n",
       "      <th>Sentiment</th>\n",
       "    </tr>\n",
       "  </thead>\n",
       "  <tbody>\n",
       "    <tr>\n",
       "      <th>0</th>\n",
       "      <td>Apple Pay Is Killing the Physical Wallet After...</td>\n",
       "      <td>wAZZ-UWGVHI</td>\n",
       "      <td>2022-08-23</td>\n",
       "      <td>tech</td>\n",
       "      <td>0.000207</td>\n",
       "      <td>0.000918</td>\n",
       "      <td>0.000034</td>\n",
       "      <td>Let's not forget that Apple Pay in 2014 requir...</td>\n",
       "      <td>0.000107</td>\n",
       "      <td>0.5</td>\n",
       "    </tr>\n",
       "    <tr>\n",
       "      <th>1</th>\n",
       "      <td>Apple Pay Is Killing the Physical Wallet After...</td>\n",
       "      <td>wAZZ-UWGVHI</td>\n",
       "      <td>2022-08-23</td>\n",
       "      <td>tech</td>\n",
       "      <td>0.000207</td>\n",
       "      <td>0.000918</td>\n",
       "      <td>0.000034</td>\n",
       "      <td>Here in NZ 50% of retailers don’t even have co...</td>\n",
       "      <td>0.000021</td>\n",
       "      <td>0.0</td>\n",
       "    </tr>\n",
       "  </tbody>\n",
       "</table>\n",
       "</div>"
      ],
      "text/plain": [
       "                                               Title     Video ID  \\\n",
       "0  Apple Pay Is Killing the Physical Wallet After...  wAZZ-UWGVHI   \n",
       "1  Apple Pay Is Killing the Physical Wallet After...  wAZZ-UWGVHI   \n",
       "\n",
       "  Published At Keyword   Likes_x  Comments     Views  \\\n",
       "0   2022-08-23    tech  0.000207  0.000918  0.000034   \n",
       "1   2022-08-23    tech  0.000207  0.000918  0.000034   \n",
       "\n",
       "                                             Comment   Likes_y  Sentiment  \n",
       "0  Let's not forget that Apple Pay in 2014 requir...  0.000107        0.5  \n",
       "1  Here in NZ 50% of retailers don’t even have co...  0.000021        0.0  "
      ]
     },
     "execution_count": 28,
     "metadata": {},
     "output_type": "execute_result"
    }
   ],
   "source": [
    "data2.head(2)"
   ]
  },
  {
   "cell_type": "code",
   "execution_count": 29,
   "id": "29a92acd",
   "metadata": {
    "execution": {
     "iopub.execute_input": "2022-08-31T10:59:19.576532Z",
     "iopub.status.busy": "2022-08-31T10:59:19.576043Z",
     "iopub.status.idle": "2022-08-31T10:59:19.581177Z",
     "shell.execute_reply": "2022-08-31T10:59:19.579924Z"
    },
    "papermill": {
     "duration": 0.021719,
     "end_time": "2022-08-31T10:59:19.583323",
     "exception": false,
     "start_time": "2022-08-31T10:59:19.561604",
     "status": "completed"
    },
    "tags": []
   },
   "outputs": [],
   "source": [
    "# for i in data2.columns:\n",
    "#     print(i.dtype)"
   ]
  },
  {
   "cell_type": "code",
   "execution_count": null,
   "id": "2d96d297",
   "metadata": {
    "papermill": {
     "duration": 0.012717,
     "end_time": "2022-08-31T10:59:19.608330",
     "exception": false,
     "start_time": "2022-08-31T10:59:19.595613",
     "status": "completed"
    },
    "tags": []
   },
   "outputs": [],
   "source": []
  }
 ],
 "metadata": {
  "kernelspec": {
   "display_name": "Python 3",
   "language": "python",
   "name": "python3"
  },
  "language_info": {
   "codemirror_mode": {
    "name": "ipython",
    "version": 3
   },
   "file_extension": ".py",
   "mimetype": "text/x-python",
   "name": "python",
   "nbconvert_exporter": "python",
   "pygments_lexer": "ipython3",
   "version": "3.7.12"
  },
  "papermill": {
   "default_parameters": {},
   "duration": 17.741533,
   "end_time": "2022-08-31T10:59:20.647151",
   "environment_variables": {},
   "exception": null,
   "input_path": "__notebook__.ipynb",
   "output_path": "__notebook__.ipynb",
   "parameters": {},
   "start_time": "2022-08-31T10:59:02.905618",
   "version": "2.3.4"
  }
 },
 "nbformat": 4,
 "nbformat_minor": 5
}
