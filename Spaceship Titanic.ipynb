{
 "cells": [
  {
   "cell_type": "code",
   "execution_count": 1,
   "id": "3ee4c9a3",
   "metadata": {
    "_cell_guid": "b1076dfc-b9ad-4769-8c92-a6c4dae69d19",
    "_uuid": "8f2839f25d086af736a60e9eeb907d3b93b6e0e5",
    "execution": {
     "iopub.execute_input": "2022-07-26T16:30:58.035386Z",
     "iopub.status.busy": "2022-07-26T16:30:58.034609Z",
     "iopub.status.idle": "2022-07-26T16:30:58.050498Z",
     "shell.execute_reply": "2022-07-26T16:30:58.049077Z"
    },
    "papermill": {
     "duration": 0.034265,
     "end_time": "2022-07-26T16:30:58.052973",
     "exception": false,
     "start_time": "2022-07-26T16:30:58.018708",
     "status": "completed"
    },
    "tags": []
   },
   "outputs": [
    {
     "name": "stdout",
     "output_type": "stream",
     "text": [
      "/kaggle/input/spaceship-titanic/sample_submission.csv\n",
      "/kaggle/input/spaceship-titanic/train.csv\n",
      "/kaggle/input/spaceship-titanic/test.csv\n"
     ]
    }
   ],
   "source": [
    "# This Python 3 environment comes with many helpful analytics libraries installed\n",
    "# It is defined by the kaggle/python Docker image: https://github.com/kaggle/docker-python\n",
    "# For example, here's several helpful packages to load\n",
    "\n",
    "import numpy as np # linear algebra\n",
    "import pandas as pd # data processing, CSV file I/O (e.g. pd.read_csv)\n",
    "\n",
    "# Input data files are available in the read-only \"../input/\" directory\n",
    "# For example, running this (by clicking run or pressing Shift+Enter) will list all files under the input directory\n",
    "\n",
    "import os\n",
    "for dirname, _, filenames in os.walk('/kaggle/input'):\n",
    "    for filename in filenames:\n",
    "        print(os.path.join(dirname, filename))\n",
    "\n",
    "# You can write up to 20GB to the current directory (/kaggle/working/) that gets preserved as output when you create a version using \"Save & Run All\" \n",
    "# You can also write temporary files to /kaggle/temp/, but they won't be saved outside of the current session"
   ]
  },
  {
   "cell_type": "code",
   "execution_count": 2,
   "id": "3046c4fe",
   "metadata": {
    "execution": {
     "iopub.execute_input": "2022-07-26T16:30:58.081382Z",
     "iopub.status.busy": "2022-07-26T16:30:58.080975Z",
     "iopub.status.idle": "2022-07-26T16:30:58.160081Z",
     "shell.execute_reply": "2022-07-26T16:30:58.158963Z"
    },
    "papermill": {
     "duration": 0.096103,
     "end_time": "2022-07-26T16:30:58.162648",
     "exception": false,
     "start_time": "2022-07-26T16:30:58.066545",
     "status": "completed"
    },
    "tags": []
   },
   "outputs": [
    {
     "data": {
      "text/html": [
       "<div>\n",
       "<style scoped>\n",
       "    .dataframe tbody tr th:only-of-type {\n",
       "        vertical-align: middle;\n",
       "    }\n",
       "\n",
       "    .dataframe tbody tr th {\n",
       "        vertical-align: top;\n",
       "    }\n",
       "\n",
       "    .dataframe thead th {\n",
       "        text-align: right;\n",
       "    }\n",
       "</style>\n",
       "<table border=\"1\" class=\"dataframe\">\n",
       "  <thead>\n",
       "    <tr style=\"text-align: right;\">\n",
       "      <th></th>\n",
       "      <th>PassengerId</th>\n",
       "      <th>HomePlanet</th>\n",
       "      <th>CryoSleep</th>\n",
       "      <th>Cabin</th>\n",
       "      <th>Destination</th>\n",
       "      <th>Age</th>\n",
       "      <th>VIP</th>\n",
       "      <th>RoomService</th>\n",
       "      <th>FoodCourt</th>\n",
       "      <th>ShoppingMall</th>\n",
       "      <th>Spa</th>\n",
       "      <th>VRDeck</th>\n",
       "      <th>Name</th>\n",
       "      <th>Transported</th>\n",
       "    </tr>\n",
       "  </thead>\n",
       "  <tbody>\n",
       "    <tr>\n",
       "      <th>0</th>\n",
       "      <td>0001_01</td>\n",
       "      <td>Europa</td>\n",
       "      <td>False</td>\n",
       "      <td>B/0/P</td>\n",
       "      <td>TRAPPIST-1e</td>\n",
       "      <td>39.0</td>\n",
       "      <td>False</td>\n",
       "      <td>0.0</td>\n",
       "      <td>0.0</td>\n",
       "      <td>0.0</td>\n",
       "      <td>0.0</td>\n",
       "      <td>0.0</td>\n",
       "      <td>Maham Ofracculy</td>\n",
       "      <td>False</td>\n",
       "    </tr>\n",
       "    <tr>\n",
       "      <th>1</th>\n",
       "      <td>0002_01</td>\n",
       "      <td>Earth</td>\n",
       "      <td>False</td>\n",
       "      <td>F/0/S</td>\n",
       "      <td>TRAPPIST-1e</td>\n",
       "      <td>24.0</td>\n",
       "      <td>False</td>\n",
       "      <td>109.0</td>\n",
       "      <td>9.0</td>\n",
       "      <td>25.0</td>\n",
       "      <td>549.0</td>\n",
       "      <td>44.0</td>\n",
       "      <td>Juanna Vines</td>\n",
       "      <td>True</td>\n",
       "    </tr>\n",
       "    <tr>\n",
       "      <th>2</th>\n",
       "      <td>0003_01</td>\n",
       "      <td>Europa</td>\n",
       "      <td>False</td>\n",
       "      <td>A/0/S</td>\n",
       "      <td>TRAPPIST-1e</td>\n",
       "      <td>58.0</td>\n",
       "      <td>True</td>\n",
       "      <td>43.0</td>\n",
       "      <td>3576.0</td>\n",
       "      <td>0.0</td>\n",
       "      <td>6715.0</td>\n",
       "      <td>49.0</td>\n",
       "      <td>Altark Susent</td>\n",
       "      <td>False</td>\n",
       "    </tr>\n",
       "    <tr>\n",
       "      <th>3</th>\n",
       "      <td>0003_02</td>\n",
       "      <td>Europa</td>\n",
       "      <td>False</td>\n",
       "      <td>A/0/S</td>\n",
       "      <td>TRAPPIST-1e</td>\n",
       "      <td>33.0</td>\n",
       "      <td>False</td>\n",
       "      <td>0.0</td>\n",
       "      <td>1283.0</td>\n",
       "      <td>371.0</td>\n",
       "      <td>3329.0</td>\n",
       "      <td>193.0</td>\n",
       "      <td>Solam Susent</td>\n",
       "      <td>False</td>\n",
       "    </tr>\n",
       "    <tr>\n",
       "      <th>4</th>\n",
       "      <td>0004_01</td>\n",
       "      <td>Earth</td>\n",
       "      <td>False</td>\n",
       "      <td>F/1/S</td>\n",
       "      <td>TRAPPIST-1e</td>\n",
       "      <td>16.0</td>\n",
       "      <td>False</td>\n",
       "      <td>303.0</td>\n",
       "      <td>70.0</td>\n",
       "      <td>151.0</td>\n",
       "      <td>565.0</td>\n",
       "      <td>2.0</td>\n",
       "      <td>Willy Santantines</td>\n",
       "      <td>True</td>\n",
       "    </tr>\n",
       "  </tbody>\n",
       "</table>\n",
       "</div>"
      ],
      "text/plain": [
       "  PassengerId HomePlanet CryoSleep  Cabin  Destination   Age    VIP  \\\n",
       "0     0001_01     Europa     False  B/0/P  TRAPPIST-1e  39.0  False   \n",
       "1     0002_01      Earth     False  F/0/S  TRAPPIST-1e  24.0  False   \n",
       "2     0003_01     Europa     False  A/0/S  TRAPPIST-1e  58.0   True   \n",
       "3     0003_02     Europa     False  A/0/S  TRAPPIST-1e  33.0  False   \n",
       "4     0004_01      Earth     False  F/1/S  TRAPPIST-1e  16.0  False   \n",
       "\n",
       "   RoomService  FoodCourt  ShoppingMall     Spa  VRDeck               Name  \\\n",
       "0          0.0        0.0           0.0     0.0     0.0    Maham Ofracculy   \n",
       "1        109.0        9.0          25.0   549.0    44.0       Juanna Vines   \n",
       "2         43.0     3576.0           0.0  6715.0    49.0      Altark Susent   \n",
       "3          0.0     1283.0         371.0  3329.0   193.0       Solam Susent   \n",
       "4        303.0       70.0         151.0   565.0     2.0  Willy Santantines   \n",
       "\n",
       "   Transported  \n",
       "0        False  \n",
       "1         True  \n",
       "2        False  \n",
       "3        False  \n",
       "4         True  "
      ]
     },
     "execution_count": 2,
     "metadata": {},
     "output_type": "execute_result"
    }
   ],
   "source": [
    "data = pd.read_csv(\"/kaggle/input/spaceship-titanic/train.csv\")\n",
    "data.head()"
   ]
  },
  {
   "cell_type": "code",
   "execution_count": 3,
   "id": "ef58777e",
   "metadata": {
    "execution": {
     "iopub.execute_input": "2022-07-26T16:30:58.193747Z",
     "iopub.status.busy": "2022-07-26T16:30:58.193373Z",
     "iopub.status.idle": "2022-07-26T16:30:58.205636Z",
     "shell.execute_reply": "2022-07-26T16:30:58.204824Z"
    },
    "papermill": {
     "duration": 0.0302,
     "end_time": "2022-07-26T16:30:58.207578",
     "exception": false,
     "start_time": "2022-07-26T16:30:58.177378",
     "status": "completed"
    },
    "tags": []
   },
   "outputs": [
    {
     "data": {
      "text/plain": [
       "True     4378\n",
       "False    4315\n",
       "Name: Transported, dtype: int64"
      ]
     },
     "execution_count": 3,
     "metadata": {},
     "output_type": "execute_result"
    }
   ],
   "source": [
    "data[\"Transported\"].value_counts()"
   ]
  },
  {
   "cell_type": "code",
   "execution_count": 4,
   "id": "2c1ed68c",
   "metadata": {
    "execution": {
     "iopub.execute_input": "2022-07-26T16:30:58.238242Z",
     "iopub.status.busy": "2022-07-26T16:30:58.237558Z",
     "iopub.status.idle": "2022-07-26T16:30:58.264410Z",
     "shell.execute_reply": "2022-07-26T16:30:58.262944Z"
    },
    "papermill": {
     "duration": 0.044278,
     "end_time": "2022-07-26T16:30:58.266635",
     "exception": false,
     "start_time": "2022-07-26T16:30:58.222357",
     "status": "completed"
    },
    "tags": []
   },
   "outputs": [
    {
     "name": "stdout",
     "output_type": "stream",
     "text": [
      "<class 'pandas.core.frame.DataFrame'>\n",
      "RangeIndex: 8693 entries, 0 to 8692\n",
      "Data columns (total 14 columns):\n",
      " #   Column        Non-Null Count  Dtype  \n",
      "---  ------        --------------  -----  \n",
      " 0   PassengerId   8693 non-null   object \n",
      " 1   HomePlanet    8492 non-null   object \n",
      " 2   CryoSleep     8476 non-null   object \n",
      " 3   Cabin         8494 non-null   object \n",
      " 4   Destination   8511 non-null   object \n",
      " 5   Age           8514 non-null   float64\n",
      " 6   VIP           8490 non-null   object \n",
      " 7   RoomService   8512 non-null   float64\n",
      " 8   FoodCourt     8510 non-null   float64\n",
      " 9   ShoppingMall  8485 non-null   float64\n",
      " 10  Spa           8510 non-null   float64\n",
      " 11  VRDeck        8505 non-null   float64\n",
      " 12  Name          8493 non-null   object \n",
      " 13  Transported   8693 non-null   bool   \n",
      "dtypes: bool(1), float64(6), object(7)\n",
      "memory usage: 891.5+ KB\n"
     ]
    }
   ],
   "source": [
    "data.info()"
   ]
  },
  {
   "cell_type": "code",
   "execution_count": 5,
   "id": "09889f2a",
   "metadata": {
    "execution": {
     "iopub.execute_input": "2022-07-26T16:30:58.296175Z",
     "iopub.status.busy": "2022-07-26T16:30:58.295483Z",
     "iopub.status.idle": "2022-07-26T16:30:58.329428Z",
     "shell.execute_reply": "2022-07-26T16:30:58.328221Z"
    },
    "papermill": {
     "duration": 0.051505,
     "end_time": "2022-07-26T16:30:58.331866",
     "exception": false,
     "start_time": "2022-07-26T16:30:58.280361",
     "status": "completed"
    },
    "tags": []
   },
   "outputs": [
    {
     "data": {
      "text/html": [
       "<div>\n",
       "<style scoped>\n",
       "    .dataframe tbody tr th:only-of-type {\n",
       "        vertical-align: middle;\n",
       "    }\n",
       "\n",
       "    .dataframe tbody tr th {\n",
       "        vertical-align: top;\n",
       "    }\n",
       "\n",
       "    .dataframe thead th {\n",
       "        text-align: right;\n",
       "    }\n",
       "</style>\n",
       "<table border=\"1\" class=\"dataframe\">\n",
       "  <thead>\n",
       "    <tr style=\"text-align: right;\">\n",
       "      <th></th>\n",
       "      <th>Age</th>\n",
       "      <th>RoomService</th>\n",
       "      <th>FoodCourt</th>\n",
       "      <th>ShoppingMall</th>\n",
       "      <th>Spa</th>\n",
       "      <th>VRDeck</th>\n",
       "    </tr>\n",
       "  </thead>\n",
       "  <tbody>\n",
       "    <tr>\n",
       "      <th>count</th>\n",
       "      <td>8514.000000</td>\n",
       "      <td>8512.000000</td>\n",
       "      <td>8510.000000</td>\n",
       "      <td>8485.000000</td>\n",
       "      <td>8510.000000</td>\n",
       "      <td>8505.000000</td>\n",
       "    </tr>\n",
       "    <tr>\n",
       "      <th>mean</th>\n",
       "      <td>28.827930</td>\n",
       "      <td>224.687617</td>\n",
       "      <td>458.077203</td>\n",
       "      <td>173.729169</td>\n",
       "      <td>311.138778</td>\n",
       "      <td>304.854791</td>\n",
       "    </tr>\n",
       "    <tr>\n",
       "      <th>std</th>\n",
       "      <td>14.489021</td>\n",
       "      <td>666.717663</td>\n",
       "      <td>1611.489240</td>\n",
       "      <td>604.696458</td>\n",
       "      <td>1136.705535</td>\n",
       "      <td>1145.717189</td>\n",
       "    </tr>\n",
       "    <tr>\n",
       "      <th>min</th>\n",
       "      <td>0.000000</td>\n",
       "      <td>0.000000</td>\n",
       "      <td>0.000000</td>\n",
       "      <td>0.000000</td>\n",
       "      <td>0.000000</td>\n",
       "      <td>0.000000</td>\n",
       "    </tr>\n",
       "    <tr>\n",
       "      <th>25%</th>\n",
       "      <td>19.000000</td>\n",
       "      <td>0.000000</td>\n",
       "      <td>0.000000</td>\n",
       "      <td>0.000000</td>\n",
       "      <td>0.000000</td>\n",
       "      <td>0.000000</td>\n",
       "    </tr>\n",
       "    <tr>\n",
       "      <th>50%</th>\n",
       "      <td>27.000000</td>\n",
       "      <td>0.000000</td>\n",
       "      <td>0.000000</td>\n",
       "      <td>0.000000</td>\n",
       "      <td>0.000000</td>\n",
       "      <td>0.000000</td>\n",
       "    </tr>\n",
       "    <tr>\n",
       "      <th>75%</th>\n",
       "      <td>38.000000</td>\n",
       "      <td>47.000000</td>\n",
       "      <td>76.000000</td>\n",
       "      <td>27.000000</td>\n",
       "      <td>59.000000</td>\n",
       "      <td>46.000000</td>\n",
       "    </tr>\n",
       "    <tr>\n",
       "      <th>max</th>\n",
       "      <td>79.000000</td>\n",
       "      <td>14327.000000</td>\n",
       "      <td>29813.000000</td>\n",
       "      <td>23492.000000</td>\n",
       "      <td>22408.000000</td>\n",
       "      <td>24133.000000</td>\n",
       "    </tr>\n",
       "  </tbody>\n",
       "</table>\n",
       "</div>"
      ],
      "text/plain": [
       "               Age   RoomService     FoodCourt  ShoppingMall           Spa  \\\n",
       "count  8514.000000   8512.000000   8510.000000   8485.000000   8510.000000   \n",
       "mean     28.827930    224.687617    458.077203    173.729169    311.138778   \n",
       "std      14.489021    666.717663   1611.489240    604.696458   1136.705535   \n",
       "min       0.000000      0.000000      0.000000      0.000000      0.000000   \n",
       "25%      19.000000      0.000000      0.000000      0.000000      0.000000   \n",
       "50%      27.000000      0.000000      0.000000      0.000000      0.000000   \n",
       "75%      38.000000     47.000000     76.000000     27.000000     59.000000   \n",
       "max      79.000000  14327.000000  29813.000000  23492.000000  22408.000000   \n",
       "\n",
       "             VRDeck  \n",
       "count   8505.000000  \n",
       "mean     304.854791  \n",
       "std     1145.717189  \n",
       "min        0.000000  \n",
       "25%        0.000000  \n",
       "50%        0.000000  \n",
       "75%       46.000000  \n",
       "max    24133.000000  "
      ]
     },
     "execution_count": 5,
     "metadata": {},
     "output_type": "execute_result"
    }
   ],
   "source": [
    "data.describe()"
   ]
  },
  {
   "cell_type": "code",
   "execution_count": 6,
   "id": "baca9728",
   "metadata": {
    "execution": {
     "iopub.execute_input": "2022-07-26T16:30:58.363705Z",
     "iopub.status.busy": "2022-07-26T16:30:58.362767Z",
     "iopub.status.idle": "2022-07-26T16:30:58.374351Z",
     "shell.execute_reply": "2022-07-26T16:30:58.373277Z"
    },
    "papermill": {
     "duration": 0.029911,
     "end_time": "2022-07-26T16:30:58.376524",
     "exception": false,
     "start_time": "2022-07-26T16:30:58.346613",
     "status": "completed"
    },
    "tags": []
   },
   "outputs": [
    {
     "data": {
      "text/plain": [
       "Age            -0.075026\n",
       "RoomService    -0.244611\n",
       "FoodCourt       0.046566\n",
       "ShoppingMall    0.010141\n",
       "Spa            -0.221131\n",
       "VRDeck         -0.207075\n",
       "Transported     1.000000\n",
       "Name: Transported, dtype: float64"
      ]
     },
     "execution_count": 6,
     "metadata": {},
     "output_type": "execute_result"
    }
   ],
   "source": [
    "data.corr()[\"Transported\"]"
   ]
  },
  {
   "cell_type": "code",
   "execution_count": 7,
   "id": "8d5dfa7a",
   "metadata": {
    "execution": {
     "iopub.execute_input": "2022-07-26T16:30:58.407762Z",
     "iopub.status.busy": "2022-07-26T16:30:58.407200Z",
     "iopub.status.idle": "2022-07-26T16:30:58.421975Z",
     "shell.execute_reply": "2022-07-26T16:30:58.421189Z"
    },
    "papermill": {
     "duration": 0.032956,
     "end_time": "2022-07-26T16:30:58.424118",
     "exception": false,
     "start_time": "2022-07-26T16:30:58.391162",
     "status": "completed"
    },
    "tags": []
   },
   "outputs": [
    {
     "data": {
      "text/plain": [
       "PassengerId       0\n",
       "HomePlanet      201\n",
       "CryoSleep       217\n",
       "Cabin           199\n",
       "Destination     182\n",
       "Age             179\n",
       "VIP             203\n",
       "RoomService     181\n",
       "FoodCourt       183\n",
       "ShoppingMall    208\n",
       "Spa             183\n",
       "VRDeck          188\n",
       "Name            200\n",
       "Transported       0\n",
       "dtype: int64"
      ]
     },
     "execution_count": 7,
     "metadata": {},
     "output_type": "execute_result"
    }
   ],
   "source": [
    "data.isnull().sum()"
   ]
  },
  {
   "cell_type": "code",
   "execution_count": 8,
   "id": "6cc26197",
   "metadata": {
    "execution": {
     "iopub.execute_input": "2022-07-26T16:30:58.457394Z",
     "iopub.status.busy": "2022-07-26T16:30:58.456687Z",
     "iopub.status.idle": "2022-07-26T16:30:58.463066Z",
     "shell.execute_reply": "2022-07-26T16:30:58.462208Z"
    },
    "papermill": {
     "duration": 0.024762,
     "end_time": "2022-07-26T16:30:58.465125",
     "exception": false,
     "start_time": "2022-07-26T16:30:58.440363",
     "status": "completed"
    },
    "tags": []
   },
   "outputs": [
    {
     "data": {
      "text/plain": [
       "28.82793046746535"
      ]
     },
     "execution_count": 8,
     "metadata": {},
     "output_type": "execute_result"
    }
   ],
   "source": [
    "data[\"Age\"].mean()"
   ]
  },
  {
   "cell_type": "code",
   "execution_count": 9,
   "id": "360a7d13",
   "metadata": {
    "execution": {
     "iopub.execute_input": "2022-07-26T16:30:58.497863Z",
     "iopub.status.busy": "2022-07-26T16:30:58.497214Z",
     "iopub.status.idle": "2022-07-26T16:30:58.503747Z",
     "shell.execute_reply": "2022-07-26T16:30:58.503059Z"
    },
    "papermill": {
     "duration": 0.024667,
     "end_time": "2022-07-26T16:30:58.505726",
     "exception": false,
     "start_time": "2022-07-26T16:30:58.481059",
     "status": "completed"
    },
    "tags": []
   },
   "outputs": [
    {
     "data": {
      "text/plain": [
       "27.0"
      ]
     },
     "execution_count": 9,
     "metadata": {},
     "output_type": "execute_result"
    }
   ],
   "source": [
    "data[\"Age\"].median()"
   ]
  },
  {
   "cell_type": "code",
   "execution_count": 10,
   "id": "d22e492f",
   "metadata": {
    "execution": {
     "iopub.execute_input": "2022-07-26T16:30:58.539200Z",
     "iopub.status.busy": "2022-07-26T16:30:58.538521Z",
     "iopub.status.idle": "2022-07-26T16:30:58.555869Z",
     "shell.execute_reply": "2022-07-26T16:30:58.555128Z"
    },
    "papermill": {
     "duration": 0.037608,
     "end_time": "2022-07-26T16:30:58.557944",
     "exception": false,
     "start_time": "2022-07-26T16:30:58.520336",
     "status": "completed"
    },
    "tags": []
   },
   "outputs": [
    {
     "data": {
      "text/html": [
       "<div>\n",
       "<style scoped>\n",
       "    .dataframe tbody tr th:only-of-type {\n",
       "        vertical-align: middle;\n",
       "    }\n",
       "\n",
       "    .dataframe tbody tr th {\n",
       "        vertical-align: top;\n",
       "    }\n",
       "\n",
       "    .dataframe thead th {\n",
       "        text-align: right;\n",
       "    }\n",
       "</style>\n",
       "<table border=\"1\" class=\"dataframe\">\n",
       "  <thead>\n",
       "    <tr style=\"text-align: right;\">\n",
       "      <th></th>\n",
       "      <th>PassengerId</th>\n",
       "      <th>CryoSleep</th>\n",
       "      <th>Cabin</th>\n",
       "      <th>Destination</th>\n",
       "      <th>Age</th>\n",
       "      <th>VIP</th>\n",
       "      <th>VRDeck</th>\n",
       "      <th>Name</th>\n",
       "      <th>Transported</th>\n",
       "    </tr>\n",
       "  </thead>\n",
       "  <tbody>\n",
       "    <tr>\n",
       "      <th>0</th>\n",
       "      <td>0001_01</td>\n",
       "      <td>False</td>\n",
       "      <td>B/0/P</td>\n",
       "      <td>TRAPPIST-1e</td>\n",
       "      <td>39.0</td>\n",
       "      <td>False</td>\n",
       "      <td>0.0</td>\n",
       "      <td>Maham Ofracculy</td>\n",
       "      <td>False</td>\n",
       "    </tr>\n",
       "    <tr>\n",
       "      <th>1</th>\n",
       "      <td>0002_01</td>\n",
       "      <td>False</td>\n",
       "      <td>F/0/S</td>\n",
       "      <td>TRAPPIST-1e</td>\n",
       "      <td>24.0</td>\n",
       "      <td>False</td>\n",
       "      <td>44.0</td>\n",
       "      <td>Juanna Vines</td>\n",
       "      <td>True</td>\n",
       "    </tr>\n",
       "    <tr>\n",
       "      <th>2</th>\n",
       "      <td>0003_01</td>\n",
       "      <td>False</td>\n",
       "      <td>A/0/S</td>\n",
       "      <td>TRAPPIST-1e</td>\n",
       "      <td>58.0</td>\n",
       "      <td>True</td>\n",
       "      <td>49.0</td>\n",
       "      <td>Altark Susent</td>\n",
       "      <td>False</td>\n",
       "    </tr>\n",
       "    <tr>\n",
       "      <th>3</th>\n",
       "      <td>0003_02</td>\n",
       "      <td>False</td>\n",
       "      <td>A/0/S</td>\n",
       "      <td>TRAPPIST-1e</td>\n",
       "      <td>33.0</td>\n",
       "      <td>False</td>\n",
       "      <td>193.0</td>\n",
       "      <td>Solam Susent</td>\n",
       "      <td>False</td>\n",
       "    </tr>\n",
       "    <tr>\n",
       "      <th>4</th>\n",
       "      <td>0004_01</td>\n",
       "      <td>False</td>\n",
       "      <td>F/1/S</td>\n",
       "      <td>TRAPPIST-1e</td>\n",
       "      <td>16.0</td>\n",
       "      <td>False</td>\n",
       "      <td>2.0</td>\n",
       "      <td>Willy Santantines</td>\n",
       "      <td>True</td>\n",
       "    </tr>\n",
       "  </tbody>\n",
       "</table>\n",
       "</div>"
      ],
      "text/plain": [
       "  PassengerId CryoSleep  Cabin  Destination   Age    VIP  VRDeck  \\\n",
       "0     0001_01     False  B/0/P  TRAPPIST-1e  39.0  False     0.0   \n",
       "1     0002_01     False  F/0/S  TRAPPIST-1e  24.0  False    44.0   \n",
       "2     0003_01     False  A/0/S  TRAPPIST-1e  58.0   True    49.0   \n",
       "3     0003_02     False  A/0/S  TRAPPIST-1e  33.0  False   193.0   \n",
       "4     0004_01     False  F/1/S  TRAPPIST-1e  16.0  False     2.0   \n",
       "\n",
       "                Name  Transported  \n",
       "0    Maham Ofracculy        False  \n",
       "1       Juanna Vines         True  \n",
       "2      Altark Susent        False  \n",
       "3       Solam Susent        False  \n",
       "4  Willy Santantines         True  "
      ]
     },
     "execution_count": 10,
     "metadata": {},
     "output_type": "execute_result"
    }
   ],
   "source": [
    "df2 = data.drop([\"Spa\",\"HomePlanet\",\"RoomService\",\"FoodCourt\",\"ShoppingMall\"],axis=1)\n",
    "df2.head()"
   ]
  },
  {
   "cell_type": "code",
   "execution_count": 11,
   "id": "9908052e",
   "metadata": {
    "execution": {
     "iopub.execute_input": "2022-07-26T16:30:58.589220Z",
     "iopub.status.busy": "2022-07-26T16:30:58.588815Z",
     "iopub.status.idle": "2022-07-26T16:30:58.604771Z",
     "shell.execute_reply": "2022-07-26T16:30:58.603449Z"
    },
    "papermill": {
     "duration": 0.0355,
     "end_time": "2022-07-26T16:30:58.608019",
     "exception": false,
     "start_time": "2022-07-26T16:30:58.572519",
     "status": "completed"
    },
    "tags": []
   },
   "outputs": [
    {
     "data": {
      "text/plain": [
       "PassengerId      0\n",
       "CryoSleep      217\n",
       "Cabin          199\n",
       "Destination    182\n",
       "Age            179\n",
       "VIP            203\n",
       "VRDeck         188\n",
       "Name           200\n",
       "Transported      0\n",
       "dtype: int64"
      ]
     },
     "execution_count": 11,
     "metadata": {},
     "output_type": "execute_result"
    }
   ],
   "source": [
    "df2.isnull().sum()"
   ]
  },
  {
   "cell_type": "code",
   "execution_count": 12,
   "id": "afa1eb92",
   "metadata": {
    "execution": {
     "iopub.execute_input": "2022-07-26T16:30:58.649075Z",
     "iopub.status.busy": "2022-07-26T16:30:58.648426Z",
     "iopub.status.idle": "2022-07-26T16:30:58.661174Z",
     "shell.execute_reply": "2022-07-26T16:30:58.659830Z"
    },
    "papermill": {
     "duration": 0.039115,
     "end_time": "2022-07-26T16:30:58.664177",
     "exception": false,
     "start_time": "2022-07-26T16:30:58.625062",
     "status": "completed"
    },
    "tags": []
   },
   "outputs": [
    {
     "data": {
      "text/plain": [
       "False    5439\n",
       "True     3037\n",
       "Name: CryoSleep, dtype: int64"
      ]
     },
     "execution_count": 12,
     "metadata": {},
     "output_type": "execute_result"
    }
   ],
   "source": [
    "df2[\"CryoSleep\"].value_counts()"
   ]
  },
  {
   "cell_type": "code",
   "execution_count": 13,
   "id": "77e5c484",
   "metadata": {
    "execution": {
     "iopub.execute_input": "2022-07-26T16:30:58.704370Z",
     "iopub.status.busy": "2022-07-26T16:30:58.703166Z",
     "iopub.status.idle": "2022-07-26T16:30:58.711164Z",
     "shell.execute_reply": "2022-07-26T16:30:58.710387Z"
    },
    "papermill": {
     "duration": 0.029702,
     "end_time": "2022-07-26T16:30:58.713437",
     "exception": false,
     "start_time": "2022-07-26T16:30:58.683735",
     "status": "completed"
    },
    "tags": []
   },
   "outputs": [],
   "source": [
    "#Max is False so Fill null value to False\n",
    "df2[\"CryoSleep\"].fillna(False,inplace=True)"
   ]
  },
  {
   "cell_type": "code",
   "execution_count": 14,
   "id": "e0d154b3",
   "metadata": {
    "execution": {
     "iopub.execute_input": "2022-07-26T16:30:58.745371Z",
     "iopub.status.busy": "2022-07-26T16:30:58.744963Z",
     "iopub.status.idle": "2022-07-26T16:30:58.756943Z",
     "shell.execute_reply": "2022-07-26T16:30:58.755900Z"
    },
    "papermill": {
     "duration": 0.030582,
     "end_time": "2022-07-26T16:30:58.759184",
     "exception": false,
     "start_time": "2022-07-26T16:30:58.728602",
     "status": "completed"
    },
    "tags": []
   },
   "outputs": [
    {
     "data": {
      "text/plain": [
       "6560"
      ]
     },
     "execution_count": 14,
     "metadata": {},
     "output_type": "execute_result"
    }
   ],
   "source": [
    "len(df2[\"Cabin\"].value_counts())"
   ]
  },
  {
   "cell_type": "code",
   "execution_count": 15,
   "id": "e55da592",
   "metadata": {
    "execution": {
     "iopub.execute_input": "2022-07-26T16:30:58.790971Z",
     "iopub.status.busy": "2022-07-26T16:30:58.790623Z",
     "iopub.status.idle": "2022-07-26T16:30:58.800512Z",
     "shell.execute_reply": "2022-07-26T16:30:58.799561Z"
    },
    "papermill": {
     "duration": 0.028568,
     "end_time": "2022-07-26T16:30:58.802974",
     "exception": false,
     "start_time": "2022-07-26T16:30:58.774406",
     "status": "completed"
    },
    "tags": []
   },
   "outputs": [],
   "source": [
    "#null leagth is less so remove it\n",
    "df2.dropna(subset=[\"Cabin\",] ,inplace=True)"
   ]
  },
  {
   "cell_type": "code",
   "execution_count": 16,
   "id": "a42097d4",
   "metadata": {
    "execution": {
     "iopub.execute_input": "2022-07-26T16:30:58.835256Z",
     "iopub.status.busy": "2022-07-26T16:30:58.834616Z",
     "iopub.status.idle": "2022-07-26T16:30:58.844967Z",
     "shell.execute_reply": "2022-07-26T16:30:58.843934Z"
    },
    "papermill": {
     "duration": 0.0293,
     "end_time": "2022-07-26T16:30:58.847262",
     "exception": false,
     "start_time": "2022-07-26T16:30:58.817962",
     "status": "completed"
    },
    "tags": []
   },
   "outputs": [
    {
     "data": {
      "text/plain": [
       "TRAPPIST-1e      5788\n",
       "55 Cancri e      1750\n",
       "PSO J318.5-22     778\n",
       "Name: Destination, dtype: int64"
      ]
     },
     "execution_count": 16,
     "metadata": {},
     "output_type": "execute_result"
    }
   ],
   "source": [
    "df2[\"Destination\"].value_counts()"
   ]
  },
  {
   "cell_type": "code",
   "execution_count": 17,
   "id": "bde265ab",
   "metadata": {
    "execution": {
     "iopub.execute_input": "2022-07-26T16:30:58.878985Z",
     "iopub.status.busy": "2022-07-26T16:30:58.878626Z",
     "iopub.status.idle": "2022-07-26T16:30:58.887867Z",
     "shell.execute_reply": "2022-07-26T16:30:58.886983Z"
    },
    "papermill": {
     "duration": 0.028029,
     "end_time": "2022-07-26T16:30:58.890383",
     "exception": false,
     "start_time": "2022-07-26T16:30:58.862354",
     "status": "completed"
    },
    "tags": []
   },
   "outputs": [],
   "source": [
    "df2[\"Destination\"].fillna(method=\"ffill\",inplace=True)"
   ]
  },
  {
   "cell_type": "code",
   "execution_count": 18,
   "id": "06b26458",
   "metadata": {
    "execution": {
     "iopub.execute_input": "2022-07-26T16:30:58.923846Z",
     "iopub.status.busy": "2022-07-26T16:30:58.923290Z",
     "iopub.status.idle": "2022-07-26T16:30:58.931177Z",
     "shell.execute_reply": "2022-07-26T16:30:58.930411Z"
    },
    "papermill": {
     "duration": 0.027178,
     "end_time": "2022-07-26T16:30:58.933250",
     "exception": false,
     "start_time": "2022-07-26T16:30:58.906072",
     "status": "completed"
    },
    "tags": []
   },
   "outputs": [
    {
     "data": {
      "text/plain": [
       "False    8104\n",
       "True      193\n",
       "Name: VIP, dtype: int64"
      ]
     },
     "execution_count": 18,
     "metadata": {},
     "output_type": "execute_result"
    }
   ],
   "source": [
    "df2[\"VIP\"].value_counts()"
   ]
  },
  {
   "cell_type": "code",
   "execution_count": 19,
   "id": "49da7f7d",
   "metadata": {
    "execution": {
     "iopub.execute_input": "2022-07-26T16:30:58.965844Z",
     "iopub.status.busy": "2022-07-26T16:30:58.965258Z",
     "iopub.status.idle": "2022-07-26T16:30:58.971001Z",
     "shell.execute_reply": "2022-07-26T16:30:58.970220Z"
    },
    "papermill": {
     "duration": 0.02427,
     "end_time": "2022-07-26T16:30:58.973093",
     "exception": false,
     "start_time": "2022-07-26T16:30:58.948823",
     "status": "completed"
    },
    "tags": []
   },
   "outputs": [],
   "source": [
    "#Max is False so Fill null value to False\n",
    "df2[\"VIP\"].fillna(\"True\",inplace=True)"
   ]
  },
  {
   "cell_type": "code",
   "execution_count": 20,
   "id": "67a094d1",
   "metadata": {
    "execution": {
     "iopub.execute_input": "2022-07-26T16:30:59.006978Z",
     "iopub.status.busy": "2022-07-26T16:30:59.006411Z",
     "iopub.status.idle": "2022-07-26T16:30:59.015582Z",
     "shell.execute_reply": "2022-07-26T16:30:59.014765Z"
    },
    "papermill": {
     "duration": 0.028463,
     "end_time": "2022-07-26T16:30:59.017793",
     "exception": false,
     "start_time": "2022-07-26T16:30:58.989330",
     "status": "completed"
    },
    "tags": []
   },
   "outputs": [],
   "source": [
    "df2[\"VRDeck\"].isnull().sum()\n",
    "df2.dropna(subset=[\"Name\",\"VRDeck\"] ,inplace=True)"
   ]
  },
  {
   "cell_type": "code",
   "execution_count": 21,
   "id": "d9a2282d",
   "metadata": {
    "execution": {
     "iopub.execute_input": "2022-07-26T16:30:59.049417Z",
     "iopub.status.busy": "2022-07-26T16:30:59.048763Z",
     "iopub.status.idle": "2022-07-26T16:30:59.055910Z",
     "shell.execute_reply": "2022-07-26T16:30:59.055188Z"
    },
    "papermill": {
     "duration": 0.025293,
     "end_time": "2022-07-26T16:30:59.057952",
     "exception": false,
     "start_time": "2022-07-26T16:30:59.032659",
     "status": "completed"
    },
    "tags": []
   },
   "outputs": [
    {
     "data": {
      "text/plain": [
       "27.0"
      ]
     },
     "execution_count": 21,
     "metadata": {},
     "output_type": "execute_result"
    }
   ],
   "source": [
    "df2[\"Age\"].median() # middale Value"
   ]
  },
  {
   "cell_type": "code",
   "execution_count": 22,
   "id": "5a66c037",
   "metadata": {
    "execution": {
     "iopub.execute_input": "2022-07-26T16:30:59.090214Z",
     "iopub.status.busy": "2022-07-26T16:30:59.089302Z",
     "iopub.status.idle": "2022-07-26T16:30:59.099935Z",
     "shell.execute_reply": "2022-07-26T16:30:59.098923Z"
    },
    "papermill": {
     "duration": 0.029005,
     "end_time": "2022-07-26T16:30:59.102075",
     "exception": false,
     "start_time": "2022-07-26T16:30:59.073070",
     "status": "completed"
    },
    "tags": []
   },
   "outputs": [
    {
     "data": {
      "text/plain": [
       "0    24.0\n",
       "dtype: float64"
      ]
     },
     "execution_count": 22,
     "metadata": {},
     "output_type": "execute_result"
    }
   ],
   "source": [
    "df2[\"Age\"].mode() # most repeted value"
   ]
  },
  {
   "cell_type": "code",
   "execution_count": 23,
   "id": "2a22bfd7",
   "metadata": {
    "execution": {
     "iopub.execute_input": "2022-07-26T16:30:59.136310Z",
     "iopub.status.busy": "2022-07-26T16:30:59.135015Z",
     "iopub.status.idle": "2022-07-26T16:30:59.142167Z",
     "shell.execute_reply": "2022-07-26T16:30:59.141081Z"
    },
    "papermill": {
     "duration": 0.026831,
     "end_time": "2022-07-26T16:30:59.144446",
     "exception": false,
     "start_time": "2022-07-26T16:30:59.117615",
     "status": "completed"
    },
    "tags": []
   },
   "outputs": [
    {
     "data": {
      "text/plain": [
       "28.861457153642885"
      ]
     },
     "execution_count": 23,
     "metadata": {},
     "output_type": "execute_result"
    }
   ],
   "source": [
    "df2[\"Age\"].mean() # average value"
   ]
  },
  {
   "cell_type": "code",
   "execution_count": 24,
   "id": "5dca0bc5",
   "metadata": {
    "execution": {
     "iopub.execute_input": "2022-07-26T16:30:59.176902Z",
     "iopub.status.busy": "2022-07-26T16:30:59.176172Z",
     "iopub.status.idle": "2022-07-26T16:30:59.182616Z",
     "shell.execute_reply": "2022-07-26T16:30:59.181550Z"
    },
    "papermill": {
     "duration": 0.025554,
     "end_time": "2022-07-26T16:30:59.185351",
     "exception": false,
     "start_time": "2022-07-26T16:30:59.159797",
     "status": "completed"
    },
    "tags": []
   },
   "outputs": [],
   "source": [
    "df2[\"Age\"].fillna(df2[\"Age\"].mean(),inplace=True)"
   ]
  },
  {
   "cell_type": "code",
   "execution_count": 25,
   "id": "8cac76ce",
   "metadata": {
    "execution": {
     "iopub.execute_input": "2022-07-26T16:30:59.217661Z",
     "iopub.status.busy": "2022-07-26T16:30:59.217311Z",
     "iopub.status.idle": "2022-07-26T16:30:59.231383Z",
     "shell.execute_reply": "2022-07-26T16:30:59.230393Z"
    },
    "papermill": {
     "duration": 0.032778,
     "end_time": "2022-07-26T16:30:59.233448",
     "exception": false,
     "start_time": "2022-07-26T16:30:59.200670",
     "status": "completed"
    },
    "tags": []
   },
   "outputs": [
    {
     "data": {
      "text/plain": [
       "PassengerId    0\n",
       "CryoSleep      0\n",
       "Cabin          0\n",
       "Destination    0\n",
       "Age            0\n",
       "VIP            0\n",
       "VRDeck         0\n",
       "Name           0\n",
       "Transported    0\n",
       "dtype: int64"
      ]
     },
     "execution_count": 25,
     "metadata": {},
     "output_type": "execute_result"
    }
   ],
   "source": [
    "df2.isnull().sum()"
   ]
  },
  {
   "cell_type": "code",
   "execution_count": 26,
   "id": "108e4087",
   "metadata": {
    "execution": {
     "iopub.execute_input": "2022-07-26T16:30:59.266103Z",
     "iopub.status.busy": "2022-07-26T16:30:59.265456Z",
     "iopub.status.idle": "2022-07-26T16:30:59.281592Z",
     "shell.execute_reply": "2022-07-26T16:30:59.280535Z"
    },
    "papermill": {
     "duration": 0.036035,
     "end_time": "2022-07-26T16:30:59.284790",
     "exception": false,
     "start_time": "2022-07-26T16:30:59.248755",
     "status": "completed"
    },
    "tags": []
   },
   "outputs": [
    {
     "name": "stdout",
     "output_type": "stream",
     "text": [
      "<class 'pandas.core.frame.DataFrame'>\n",
      "Int64Index: 8116 entries, 0 to 8692\n",
      "Data columns (total 9 columns):\n",
      " #   Column       Non-Null Count  Dtype  \n",
      "---  ------       --------------  -----  \n",
      " 0   PassengerId  8116 non-null   object \n",
      " 1   CryoSleep    8116 non-null   bool   \n",
      " 2   Cabin        8116 non-null   object \n",
      " 3   Destination  8116 non-null   object \n",
      " 4   Age          8116 non-null   float64\n",
      " 5   VIP          8116 non-null   object \n",
      " 6   VRDeck       8116 non-null   float64\n",
      " 7   Name         8116 non-null   object \n",
      " 8   Transported  8116 non-null   bool   \n",
      "dtypes: bool(2), float64(2), object(5)\n",
      "memory usage: 523.1+ KB\n"
     ]
    }
   ],
   "source": [
    "df2.info()"
   ]
  },
  {
   "cell_type": "code",
   "execution_count": 27,
   "id": "8915f96f",
   "metadata": {
    "execution": {
     "iopub.execute_input": "2022-07-26T16:30:59.318284Z",
     "iopub.status.busy": "2022-07-26T16:30:59.317921Z",
     "iopub.status.idle": "2022-07-26T16:30:59.325950Z",
     "shell.execute_reply": "2022-07-26T16:30:59.325197Z"
    },
    "papermill": {
     "duration": 0.026755,
     "end_time": "2022-07-26T16:30:59.327881",
     "exception": false,
     "start_time": "2022-07-26T16:30:59.301126",
     "status": "completed"
    },
    "tags": []
   },
   "outputs": [
    {
     "data": {
      "text/plain": [
       "False    7735\n",
       "True      195\n",
       "True      186\n",
       "Name: VIP, dtype: int64"
      ]
     },
     "execution_count": 27,
     "metadata": {},
     "output_type": "execute_result"
    }
   ],
   "source": [
    "df2[\"VIP\"].value_counts()"
   ]
  },
  {
   "cell_type": "code",
   "execution_count": 28,
   "id": "8a2c304c",
   "metadata": {
    "execution": {
     "iopub.execute_input": "2022-07-26T16:30:59.362295Z",
     "iopub.status.busy": "2022-07-26T16:30:59.361283Z",
     "iopub.status.idle": "2022-07-26T16:30:59.373255Z",
     "shell.execute_reply": "2022-07-26T16:30:59.372109Z"
    },
    "papermill": {
     "duration": 0.031911,
     "end_time": "2022-07-26T16:30:59.375633",
     "exception": false,
     "start_time": "2022-07-26T16:30:59.343722",
     "status": "completed"
    },
    "tags": []
   },
   "outputs": [],
   "source": [
    "df2[\"VIP\"].replace({False:0,\"True\":1,True:1},inplace=True)"
   ]
  },
  {
   "cell_type": "code",
   "execution_count": 29,
   "id": "c40e0383",
   "metadata": {
    "execution": {
     "iopub.execute_input": "2022-07-26T16:30:59.409482Z",
     "iopub.status.busy": "2022-07-26T16:30:59.409080Z",
     "iopub.status.idle": "2022-07-26T16:30:59.424203Z",
     "shell.execute_reply": "2022-07-26T16:30:59.423068Z"
    },
    "papermill": {
     "duration": 0.035122,
     "end_time": "2022-07-26T16:30:59.426978",
     "exception": false,
     "start_time": "2022-07-26T16:30:59.391856",
     "status": "completed"
    },
    "tags": []
   },
   "outputs": [],
   "source": [
    "df2[\"Destination\"].value_counts()\n",
    "df2[\"Destination\"].replace({\"TRAPPIST-1e\":0,\"55 Cancri e\":1,\"PSO J318.5-22\":2},inplace=True)"
   ]
  },
  {
   "cell_type": "code",
   "execution_count": 30,
   "id": "713cb7b9",
   "metadata": {
    "execution": {
     "iopub.execute_input": "2022-07-26T16:30:59.460995Z",
     "iopub.status.busy": "2022-07-26T16:30:59.460631Z",
     "iopub.status.idle": "2022-07-26T16:30:59.483057Z",
     "shell.execute_reply": "2022-07-26T16:30:59.481994Z"
    },
    "papermill": {
     "duration": 0.042609,
     "end_time": "2022-07-26T16:30:59.485444",
     "exception": false,
     "start_time": "2022-07-26T16:30:59.442835",
     "status": "completed"
    },
    "tags": []
   },
   "outputs": [],
   "source": [
    "df2[\"Cabin\"] = df2[\"Cabin\"].apply(lambda x : x.split(\"/\")[2])\n",
    "df2[\"Cabin\"].head()\n",
    "df2[\"Cabin\"].replace({\"P\":0,\"S\":1},inplace=True)"
   ]
  },
  {
   "cell_type": "code",
   "execution_count": 31,
   "id": "9222e67c",
   "metadata": {
    "execution": {
     "iopub.execute_input": "2022-07-26T16:30:59.519949Z",
     "iopub.status.busy": "2022-07-26T16:30:59.519566Z",
     "iopub.status.idle": "2022-07-26T16:30:59.530464Z",
     "shell.execute_reply": "2022-07-26T16:30:59.529363Z"
    },
    "papermill": {
     "duration": 0.030949,
     "end_time": "2022-07-26T16:30:59.532706",
     "exception": false,
     "start_time": "2022-07-26T16:30:59.501757",
     "status": "completed"
    },
    "tags": []
   },
   "outputs": [],
   "source": [
    "df2[\"CryoSleep\"].value_counts()\n",
    "df2[\"CryoSleep\"].replace({False:0,True:1},inplace=True)"
   ]
  },
  {
   "cell_type": "code",
   "execution_count": 32,
   "id": "08c4ce41",
   "metadata": {
    "execution": {
     "iopub.execute_input": "2022-07-26T16:30:59.565650Z",
     "iopub.status.busy": "2022-07-26T16:30:59.565256Z",
     "iopub.status.idle": "2022-07-26T16:30:59.581572Z",
     "shell.execute_reply": "2022-07-26T16:30:59.580197Z"
    },
    "papermill": {
     "duration": 0.036003,
     "end_time": "2022-07-26T16:30:59.584499",
     "exception": false,
     "start_time": "2022-07-26T16:30:59.548496",
     "status": "completed"
    },
    "tags": []
   },
   "outputs": [
    {
     "name": "stdout",
     "output_type": "stream",
     "text": [
      "<class 'pandas.core.frame.DataFrame'>\n",
      "Int64Index: 8116 entries, 0 to 8692\n",
      "Data columns (total 9 columns):\n",
      " #   Column       Non-Null Count  Dtype  \n",
      "---  ------       --------------  -----  \n",
      " 0   PassengerId  8116 non-null   object \n",
      " 1   CryoSleep    8116 non-null   int64  \n",
      " 2   Cabin        8116 non-null   int64  \n",
      " 3   Destination  8116 non-null   int64  \n",
      " 4   Age          8116 non-null   float64\n",
      " 5   VIP          8116 non-null   int64  \n",
      " 6   VRDeck       8116 non-null   float64\n",
      " 7   Name         8116 non-null   object \n",
      " 8   Transported  8116 non-null   bool   \n",
      "dtypes: bool(1), float64(2), int64(4), object(2)\n",
      "memory usage: 578.6+ KB\n"
     ]
    }
   ],
   "source": [
    "df2.info()"
   ]
  },
  {
   "cell_type": "code",
   "execution_count": 33,
   "id": "00024ebf",
   "metadata": {
    "execution": {
     "iopub.execute_input": "2022-07-26T16:30:59.618848Z",
     "iopub.status.busy": "2022-07-26T16:30:59.618149Z",
     "iopub.status.idle": "2022-07-26T16:30:59.628461Z",
     "shell.execute_reply": "2022-07-26T16:30:59.627562Z"
    },
    "papermill": {
     "duration": 0.029737,
     "end_time": "2022-07-26T16:30:59.630509",
     "exception": false,
     "start_time": "2022-07-26T16:30:59.600772",
     "status": "completed"
    },
    "tags": []
   },
   "outputs": [
    {
     "data": {
      "text/plain": [
       "CryoSleep      0.460592\n",
       "Cabin          0.104440\n",
       "Destination    0.074736\n",
       "Age           -0.078522\n",
       "VIP           -0.025251\n",
       "VRDeck        -0.210417\n",
       "Transported    1.000000\n",
       "Name: Transported, dtype: float64"
      ]
     },
     "execution_count": 33,
     "metadata": {},
     "output_type": "execute_result"
    }
   ],
   "source": [
    "df2.corr()[\"Transported\"]"
   ]
  },
  {
   "cell_type": "code",
   "execution_count": 34,
   "id": "8ca5be0d",
   "metadata": {
    "execution": {
     "iopub.execute_input": "2022-07-26T16:30:59.664429Z",
     "iopub.status.busy": "2022-07-26T16:30:59.664068Z",
     "iopub.status.idle": "2022-07-26T16:31:00.713652Z",
     "shell.execute_reply": "2022-07-26T16:31:00.712569Z"
    },
    "papermill": {
     "duration": 1.069445,
     "end_time": "2022-07-26T16:31:00.716314",
     "exception": false,
     "start_time": "2022-07-26T16:30:59.646869",
     "status": "completed"
    },
    "tags": []
   },
   "outputs": [],
   "source": [
    "import seaborn as sns"
   ]
  },
  {
   "cell_type": "code",
   "execution_count": 35,
   "id": "94a4e1f5",
   "metadata": {
    "execution": {
     "iopub.execute_input": "2022-07-26T16:31:00.751816Z",
     "iopub.status.busy": "2022-07-26T16:31:00.751247Z",
     "iopub.status.idle": "2022-07-26T16:31:01.092255Z",
     "shell.execute_reply": "2022-07-26T16:31:01.091049Z"
    },
    "papermill": {
     "duration": 0.362108,
     "end_time": "2022-07-26T16:31:01.094389",
     "exception": false,
     "start_time": "2022-07-26T16:31:00.732281",
     "status": "completed"
    },
    "tags": []
   },
   "outputs": [
    {
     "data": {
      "text/plain": [
       "<AxesSubplot:xlabel='CryoSleep', ylabel='Transported'>"
      ]
     },
     "execution_count": 35,
     "metadata": {},
     "output_type": "execute_result"
    },
    {
     "data": {
      "image/png": "[encoded data removed]",
      "text/plain": [
       "<Figure size 432x288 with 1 Axes>"
      ]
     },
     "metadata": {
      "needs_background": "light"
     },
     "output_type": "display_data"
    }
   ],
   "source": [
    "sns.barplot(x=df2[\"CryoSleep\"], y=df2[\"Transported\"])"
   ]
  },
  {
   "cell_type": "code",
   "execution_count": 36,
   "id": "2365f2ab",
   "metadata": {
    "execution": {
     "iopub.execute_input": "2022-07-26T16:31:01.129923Z",
     "iopub.status.busy": "2022-07-26T16:31:01.129273Z",
     "iopub.status.idle": "2022-07-26T16:31:01.431269Z",
     "shell.execute_reply": "2022-07-26T16:31:01.430444Z"
    },
    "papermill": {
     "duration": 0.322389,
     "end_time": "2022-07-26T16:31:01.433659",
     "exception": false,
     "start_time": "2022-07-26T16:31:01.111270",
     "status": "completed"
    },
    "tags": []
   },
   "outputs": [
    {
     "data": {
      "text/plain": [
       "<AxesSubplot:xlabel='Cabin', ylabel='Transported'>"
      ]
     },
     "execution_count": 36,
     "metadata": {},
     "output_type": "execute_result"
    },
    {
     "data": {
      "image/png": "[encoded data removed]",
      "text/plain": [
       "<Figure size 432x288 with 1 Axes>"
      ]
     },
     "metadata": {
      "needs_background": "light"
     },
     "output_type": "display_data"
    }
   ],
   "source": [
    "sns.barplot(x=df2[\"Cabin\"], y=df2[\"Transported\"])"
   ]
  },
  {
   "cell_type": "code",
   "execution_count": 37,
   "id": "8a79983a",
   "metadata": {
    "execution": {
     "iopub.execute_input": "2022-07-26T16:31:01.471426Z",
     "iopub.status.busy": "2022-07-26T16:31:01.470672Z",
     "iopub.status.idle": "2022-07-26T16:31:01.478974Z",
     "shell.execute_reply": "2022-07-26T16:31:01.477982Z"
    },
    "papermill": {
     "duration": 0.029929,
     "end_time": "2022-07-26T16:31:01.481550",
     "exception": false,
     "start_time": "2022-07-26T16:31:01.451621",
     "status": "completed"
    },
    "tags": []
   },
   "outputs": [
    {
     "name": "stdout",
     "output_type": "stream",
     "text": [
      "(8116, 6) (8116,)\n"
     ]
    }
   ],
   "source": [
    "x = df2.drop([\"Transported\",\"PassengerId\",\"Name\"],axis=1)\n",
    "y = df2[\"Transported\"]\n",
    "print(x.shape, y.shape)"
   ]
  },
  {
   "cell_type": "code",
   "execution_count": 38,
   "id": "398ca282",
   "metadata": {
    "execution": {
     "iopub.execute_input": "2022-07-26T16:31:01.518447Z",
     "iopub.status.busy": "2022-07-26T16:31:01.517226Z",
     "iopub.status.idle": "2022-07-26T16:31:01.706010Z",
     "shell.execute_reply": "2022-07-26T16:31:01.704940Z"
    },
    "papermill": {
     "duration": 0.209322,
     "end_time": "2022-07-26T16:31:01.708519",
     "exception": false,
     "start_time": "2022-07-26T16:31:01.499197",
     "status": "completed"
    },
    "tags": []
   },
   "outputs": [],
   "source": [
    "from sklearn.model_selection import train_test_split\n",
    "x_train,x_test, y_train,y_test = train_test_split(x,y,test_size=0.3)"
   ]
  },
  {
   "cell_type": "code",
   "execution_count": 39,
   "id": "93a7d930",
   "metadata": {
    "execution": {
     "iopub.execute_input": "2022-07-26T16:31:01.744195Z",
     "iopub.status.busy": "2022-07-26T16:31:01.743729Z",
     "iopub.status.idle": "2022-07-26T16:31:01.822271Z",
     "shell.execute_reply": "2022-07-26T16:31:01.821209Z"
    },
    "papermill": {
     "duration": 0.099693,
     "end_time": "2022-07-26T16:31:01.825233",
     "exception": false,
     "start_time": "2022-07-26T16:31:01.725540",
     "status": "completed"
    },
    "tags": []
   },
   "outputs": [],
   "source": [
    "from sklearn.linear_model import LogisticRegression\n",
    "lr = LogisticRegression()"
   ]
  },
  {
   "cell_type": "code",
   "execution_count": 40,
   "id": "8d7d2c5e",
   "metadata": {
    "execution": {
     "iopub.execute_input": "2022-07-26T16:31:01.861114Z",
     "iopub.status.busy": "2022-07-26T16:31:01.860445Z",
     "iopub.status.idle": "2022-07-26T16:31:01.987743Z",
     "shell.execute_reply": "2022-07-26T16:31:01.986440Z"
    },
    "papermill": {
     "duration": 0.149089,
     "end_time": "2022-07-26T16:31:01.991283",
     "exception": false,
     "start_time": "2022-07-26T16:31:01.842194",
     "status": "completed"
    },
    "tags": []
   },
   "outputs": [
    {
     "data": {
      "text/plain": [
       "LogisticRegression()"
      ]
     },
     "execution_count": 40,
     "metadata": {},
     "output_type": "execute_result"
    }
   ],
   "source": [
    "lr.fit(x_train,y_train)"
   ]
  },
  {
   "cell_type": "code",
   "execution_count": 41,
   "id": "2364afe2",
   "metadata": {
    "execution": {
     "iopub.execute_input": "2022-07-26T16:31:02.058952Z",
     "iopub.status.busy": "2022-07-26T16:31:02.058385Z",
     "iopub.status.idle": "2022-07-26T16:31:02.077856Z",
     "shell.execute_reply": "2022-07-26T16:31:02.076648Z"
    },
    "papermill": {
     "duration": 0.057321,
     "end_time": "2022-07-26T16:31:02.081583",
     "exception": false,
     "start_time": "2022-07-26T16:31:02.024262",
     "status": "completed"
    },
    "tags": []
   },
   "outputs": [
    {
     "data": {
      "text/plain": [
       "0.708829568788501"
      ]
     },
     "execution_count": 41,
     "metadata": {},
     "output_type": "execute_result"
    }
   ],
   "source": [
    "lr.score(x_test,y_test)"
   ]
  },
  {
   "cell_type": "code",
   "execution_count": 42,
   "id": "8fc4cbf2",
   "metadata": {
    "execution": {
     "iopub.execute_input": "2022-07-26T16:31:02.148067Z",
     "iopub.status.busy": "2022-07-26T16:31:02.147511Z",
     "iopub.status.idle": "2022-07-26T16:31:02.166656Z",
     "shell.execute_reply": "2022-07-26T16:31:02.165391Z"
    },
    "papermill": {
     "duration": 0.056341,
     "end_time": "2022-07-26T16:31:02.170526",
     "exception": false,
     "start_time": "2022-07-26T16:31:02.114185",
     "status": "completed"
    },
    "tags": []
   },
   "outputs": [
    {
     "data": {
      "text/plain": [
       "0.7213518746699524"
      ]
     },
     "execution_count": 42,
     "metadata": {},
     "output_type": "execute_result"
    }
   ],
   "source": [
    "lr.score(x_train,y_train)"
   ]
  },
  {
   "cell_type": "code",
   "execution_count": 43,
   "id": "4cec4458",
   "metadata": {
    "execution": {
     "iopub.execute_input": "2022-07-26T16:31:02.236383Z",
     "iopub.status.busy": "2022-07-26T16:31:02.235811Z",
     "iopub.status.idle": "2022-07-26T16:31:02.252694Z",
     "shell.execute_reply": "2022-07-26T16:31:02.251451Z"
    },
    "papermill": {
     "duration": 0.058856,
     "end_time": "2022-07-26T16:31:02.261327",
     "exception": false,
     "start_time": "2022-07-26T16:31:02.202471",
     "status": "completed"
    },
    "tags": []
   },
   "outputs": [
    {
     "name": "stdout",
     "output_type": "stream",
     "text": [
      "[False False  True  True  True] 3353     True\n",
      "1809     True\n",
      "6738     True\n",
      "2877    False\n",
      "7865     True\n",
      "Name: Transported, dtype: bool\n"
     ]
    }
   ],
   "source": [
    "y_pred = lr.predict(x_test)\n",
    "print(y_pred[:5] , y_test.head())"
   ]
  },
  {
   "cell_type": "code",
   "execution_count": 44,
   "id": "d083a002",
   "metadata": {
    "execution": {
     "iopub.execute_input": "2022-07-26T16:31:02.327883Z",
     "iopub.status.busy": "2022-07-26T16:31:02.327077Z",
     "iopub.status.idle": "2022-07-26T16:31:03.262768Z",
     "shell.execute_reply": "2022-07-26T16:31:03.260498Z"
    },
    "papermill": {
     "duration": 0.972414,
     "end_time": "2022-07-26T16:31:03.265295",
     "exception": false,
     "start_time": "2022-07-26T16:31:02.292881",
     "status": "completed"
    },
    "tags": []
   },
   "outputs": [
    {
     "name": "stdout",
     "output_type": "stream",
     "text": [
      "0.5950646310627266\n"
     ]
    }
   ],
   "source": [
    "from sklearn.ensemble import RandomForestRegressor\n",
    "regr = RandomForestRegressor(random_state=400,)\n",
    "regr.fit(x_train,y_train)\n",
    "print(regr.score(x_train,y_train))"
   ]
  },
  {
   "cell_type": "code",
   "execution_count": 45,
   "id": "c499154d",
   "metadata": {
    "execution": {
     "iopub.execute_input": "2022-07-26T16:31:03.302420Z",
     "iopub.status.busy": "2022-07-26T16:31:03.301313Z",
     "iopub.status.idle": "2022-07-26T16:31:03.325782Z",
     "shell.execute_reply": "2022-07-26T16:31:03.324511Z"
    },
    "papermill": {
     "duration": 0.047168,
     "end_time": "2022-07-26T16:31:03.330035",
     "exception": false,
     "start_time": "2022-07-26T16:31:03.282867",
     "status": "completed"
    },
    "tags": []
   },
   "outputs": [
    {
     "name": "stdout",
     "output_type": "stream",
     "text": [
      "0.6139957671503816\n",
      "[0.5        0.         0.96428571 0.66666667 0.83333333] 3353     True\n",
      "1809     True\n",
      "6738     True\n",
      "2877    False\n",
      "7865     True\n",
      "Name: Transported, dtype: bool\n"
     ]
    }
   ],
   "source": [
    "from sklearn.tree import DecisionTreeRegressor\n",
    "dr = DecisionTreeRegressor(random_state=200,max_depth=20, )\n",
    "dr.fit(x_train,y_train)\n",
    "print(dr.score(x_train,y_train))\n",
    "y_pred = dr.predict(x_test)\n",
    "print(y_pred[:5] , y_test.head())"
   ]
  },
  {
   "cell_type": "code",
   "execution_count": 46,
   "id": "98164df5",
   "metadata": {
    "execution": {
     "iopub.execute_input": "2022-07-26T16:31:03.369388Z",
     "iopub.status.busy": "2022-07-26T16:31:03.368436Z",
     "iopub.status.idle": "2022-07-26T16:31:03.693771Z",
     "shell.execute_reply": "2022-07-26T16:31:03.692587Z"
    },
    "papermill": {
     "duration": 0.348957,
     "end_time": "2022-07-26T16:31:03.697432",
     "exception": false,
     "start_time": "2022-07-26T16:31:03.348475",
     "status": "completed"
    },
    "tags": []
   },
   "outputs": [
    {
     "name": "stdout",
     "output_type": "stream",
     "text": [
      "0.6685831622176591\n",
      "0.7679985917972189\n"
     ]
    }
   ],
   "source": [
    "from sklearn.metrics import accuracy_score\n",
    "from sklearn.neighbors import KNeighborsClassifier\n",
    "neigh = KNeighborsClassifier(n_neighbors=3)\n",
    "neigh.fit(x_train,y_train)\n",
    "print(accuracy_score(neigh.predict(x_test),y_test))\n",
    "print(accuracy_score(neigh.predict(x_train),y_train))"
   ]
  },
  {
   "cell_type": "code",
   "execution_count": null,
   "id": "ac02e151",
   "metadata": {
    "papermill": {
     "duration": 0.01705,
     "end_time": "2022-07-26T16:31:03.733316",
     "exception": false,
     "start_time": "2022-07-26T16:31:03.716266",
     "status": "completed"
    },
    "tags": []
   },
   "outputs": [],
   "source": []
  },
  {
   "cell_type": "markdown",
   "id": "9c9dbc37",
   "metadata": {
    "papermill": {
     "duration": 0.018516,
     "end_time": "2022-07-26T16:31:03.770940",
     "exception": false,
     "start_time": "2022-07-26T16:31:03.752424",
     "status": "completed"
    },
    "tags": []
   },
   "source": [
    "# to find the percentage of null:"
   ]
  },
  {
   "cell_type": "code",
   "execution_count": 47,
   "id": "4a263b00",
   "metadata": {
    "execution": {
     "iopub.execute_input": "2022-07-26T16:31:03.809936Z",
     "iopub.status.busy": "2022-07-26T16:31:03.809198Z",
     "iopub.status.idle": "2022-07-26T16:31:03.816855Z",
     "shell.execute_reply": "2022-07-26T16:31:03.815849Z"
    },
    "papermill": {
     "duration": 0.030331,
     "end_time": "2022-07-26T16:31:03.819268",
     "exception": false,
     "start_time": "2022-07-26T16:31:03.788937",
     "status": "completed"
    },
    "tags": []
   },
   "outputs": [],
   "source": [
    "def percentagenull(df):\n",
    "    percentage= ((df.isna().sum()/df.isna().count())*100).sort_values(ascending=False)\n",
    "    count= df.isna().sum().sort_values(ascending=False)\n",
    "    dfff= pd.concat([count, percentage], axis=1,keys=['the Count', 'Percentage of null'])\n",
    "    return dfff"
   ]
  },
  {
   "cell_type": "code",
   "execution_count": null,
   "id": "1949a64b",
   "metadata": {
    "papermill": {
     "duration": 0.018827,
     "end_time": "2022-07-26T16:31:03.856985",
     "exception": false,
     "start_time": "2022-07-26T16:31:03.838158",
     "status": "completed"
    },
    "tags": []
   },
   "outputs": [],
   "source": []
  },
  {
   "cell_type": "code",
   "execution_count": null,
   "id": "e4cbe663",
   "metadata": {
    "papermill": {
     "duration": 0.017371,
     "end_time": "2022-07-26T16:31:03.893287",
     "exception": false,
     "start_time": "2022-07-26T16:31:03.875916",
     "status": "completed"
    },
    "tags": []
   },
   "outputs": [],
   "source": []
  }
 ],
 "metadata": {
  "kernelspec": {
   "display_name": "Python 3",
   "language": "python",
   "name": "python3"
  },
  "language_info": {
   "codemirror_mode": {
    "name": "ipython",
    "version": 3
   },
   "file_extension": ".py",
   "mimetype": "text/x-python",
   "name": "python",
   "nbconvert_exporter": "python",
   "pygments_lexer": "ipython3",
   "version": "3.7.12"
  },
  "papermill": {
   "default_parameters": {},
   "duration": 16.370866,
   "end_time": "2022-07-26T16:31:04.632604",
   "environment_variables": {},
   "exception": null,
   "input_path": "__notebook__.ipynb",
   "output_path": "__notebook__.ipynb",
   "parameters": {},
   "start_time": "2022-07-26T16:30:48.261738",
   "version": "2.3.4"
  }
 },
 "nbformat": 4,
 "nbformat_minor": 5
}
