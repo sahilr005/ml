{
 "cells": [
  {
   "cell_type": "code",
   "execution_count": 1,
   "id": "00ba7091",
   "metadata": {
    "_cell_guid": "b1076dfc-b9ad-4769-8c92-a6c4dae69d19",
    "_uuid": "8f2839f25d086af736a60e9eeb907d3b93b6e0e5",
    "execution": {
     "iopub.execute_input": "2022-07-25T18:17:28.420291Z",
     "iopub.status.busy": "2022-07-25T18:17:28.419861Z",
     "iopub.status.idle": "2022-07-25T18:17:28.435341Z",
     "shell.execute_reply": "2022-07-25T18:17:28.434109Z"
    },
    "papermill": {
     "duration": 0.034475,
     "end_time": "2022-07-25T18:17:28.438092",
     "exception": false,
     "start_time": "2022-07-25T18:17:28.403617",
     "status": "completed"
    },
    "tags": []
   },
   "outputs": [
    {
     "name": "stdout",
     "output_type": "stream",
     "text": [
      "/kaggle/input/spaceship-titanic/sample_submission.csv\n",
      "/kaggle/input/spaceship-titanic/train.csv\n",
      "/kaggle/input/spaceship-titanic/test.csv\n"
     ]
    }
   ],
   "source": [
    "# This Python 3 environment comes with many helpful analytics libraries installed\n",
    "# It is defined by the kaggle/python Docker image: https://github.com/kaggle/docker-python\n",
    "# For example, here's several helpful packages to load\n",
    "\n",
    "import numpy as np # linear algebra\n",
    "import pandas as pd # data processing, CSV file I/O (e.g. pd.read_csv)\n",
    "\n",
    "# Input data files are available in the read-only \"../input/\" directory\n",
    "# For example, running this (by clicking run or pressing Shift+Enter) will list all files under the input directory\n",
    "\n",
    "import os\n",
    "for dirname, _, filenames in os.walk('/kaggle/input'):\n",
    "    for filename in filenames:\n",
    "        print(os.path.join(dirname, filename))\n",
    "\n",
    "# You can write up to 20GB to the current directory (/kaggle/working/) that gets preserved as output when you create a version using \"Save & Run All\" \n",
    "# You can also write temporary files to /kaggle/temp/, but they won't be saved outside of the current session"
   ]
  },
  {
   "cell_type": "code",
   "execution_count": 2,
   "id": "ffecd6b4",
   "metadata": {
    "execution": {
     "iopub.execute_input": "2022-07-25T18:17:28.466721Z",
     "iopub.status.busy": "2022-07-25T18:17:28.466277Z",
     "iopub.status.idle": "2022-07-25T18:17:28.553165Z",
     "shell.execute_reply": "2022-07-25T18:17:28.551923Z"
    },
    "papermill": {
     "duration": 0.104211,
     "end_time": "2022-07-25T18:17:28.555799",
     "exception": false,
     "start_time": "2022-07-25T18:17:28.451588",
     "status": "completed"
    },
    "tags": []
   },
   "outputs": [
    {
     "data": {
      "text/html": [
       "<div>\n",
       "<style scoped>\n",
       "    .dataframe tbody tr th:only-of-type {\n",
       "        vertical-align: middle;\n",
       "    }\n",
       "\n",
       "    .dataframe tbody tr th {\n",
       "        vertical-align: top;\n",
       "    }\n",
       "\n",
       "    .dataframe thead th {\n",
       "        text-align: right;\n",
       "    }\n",
       "</style>\n",
       "<table border=\"1\" class=\"dataframe\">\n",
       "  <thead>\n",
       "    <tr style=\"text-align: right;\">\n",
       "      <th></th>\n",
       "      <th>PassengerId</th>\n",
       "      <th>HomePlanet</th>\n",
       "      <th>CryoSleep</th>\n",
       "      <th>Cabin</th>\n",
       "      <th>Destination</th>\n",
       "      <th>Age</th>\n",
       "      <th>VIP</th>\n",
       "      <th>RoomService</th>\n",
       "      <th>FoodCourt</th>\n",
       "      <th>ShoppingMall</th>\n",
       "      <th>Spa</th>\n",
       "      <th>VRDeck</th>\n",
       "      <th>Name</th>\n",
       "      <th>Transported</th>\n",
       "    </tr>\n",
       "  </thead>\n",
       "  <tbody>\n",
       "    <tr>\n",
       "      <th>0</th>\n",
       "      <td>0001_01</td>\n",
       "      <td>Europa</td>\n",
       "      <td>False</td>\n",
       "      <td>B/0/P</td>\n",
       "      <td>TRAPPIST-1e</td>\n",
       "      <td>39.0</td>\n",
       "      <td>False</td>\n",
       "      <td>0.0</td>\n",
       "      <td>0.0</td>\n",
       "      <td>0.0</td>\n",
       "      <td>0.0</td>\n",
       "      <td>0.0</td>\n",
       "      <td>Maham Ofracculy</td>\n",
       "      <td>False</td>\n",
       "    </tr>\n",
       "    <tr>\n",
       "      <th>1</th>\n",
       "      <td>0002_01</td>\n",
       "      <td>Earth</td>\n",
       "      <td>False</td>\n",
       "      <td>F/0/S</td>\n",
       "      <td>TRAPPIST-1e</td>\n",
       "      <td>24.0</td>\n",
       "      <td>False</td>\n",
       "      <td>109.0</td>\n",
       "      <td>9.0</td>\n",
       "      <td>25.0</td>\n",
       "      <td>549.0</td>\n",
       "      <td>44.0</td>\n",
       "      <td>Juanna Vines</td>\n",
       "      <td>True</td>\n",
       "    </tr>\n",
       "    <tr>\n",
       "      <th>2</th>\n",
       "      <td>0003_01</td>\n",
       "      <td>Europa</td>\n",
       "      <td>False</td>\n",
       "      <td>A/0/S</td>\n",
       "      <td>TRAPPIST-1e</td>\n",
       "      <td>58.0</td>\n",
       "      <td>True</td>\n",
       "      <td>43.0</td>\n",
       "      <td>3576.0</td>\n",
       "      <td>0.0</td>\n",
       "      <td>6715.0</td>\n",
       "      <td>49.0</td>\n",
       "      <td>Altark Susent</td>\n",
       "      <td>False</td>\n",
       "    </tr>\n",
       "    <tr>\n",
       "      <th>3</th>\n",
       "      <td>0003_02</td>\n",
       "      <td>Europa</td>\n",
       "      <td>False</td>\n",
       "      <td>A/0/S</td>\n",
       "      <td>TRAPPIST-1e</td>\n",
       "      <td>33.0</td>\n",
       "      <td>False</td>\n",
       "      <td>0.0</td>\n",
       "      <td>1283.0</td>\n",
       "      <td>371.0</td>\n",
       "      <td>3329.0</td>\n",
       "      <td>193.0</td>\n",
       "      <td>Solam Susent</td>\n",
       "      <td>False</td>\n",
       "    </tr>\n",
       "    <tr>\n",
       "      <th>4</th>\n",
       "      <td>0004_01</td>\n",
       "      <td>Earth</td>\n",
       "      <td>False</td>\n",
       "      <td>F/1/S</td>\n",
       "      <td>TRAPPIST-1e</td>\n",
       "      <td>16.0</td>\n",
       "      <td>False</td>\n",
       "      <td>303.0</td>\n",
       "      <td>70.0</td>\n",
       "      <td>151.0</td>\n",
       "      <td>565.0</td>\n",
       "      <td>2.0</td>\n",
       "      <td>Willy Santantines</td>\n",
       "      <td>True</td>\n",
       "    </tr>\n",
       "  </tbody>\n",
       "</table>\n",
       "</div>"
      ],
      "text/plain": [
       "  PassengerId HomePlanet CryoSleep  Cabin  Destination   Age    VIP  \\\n",
       "0     0001_01     Europa     False  B/0/P  TRAPPIST-1e  39.0  False   \n",
       "1     0002_01      Earth     False  F/0/S  TRAPPIST-1e  24.0  False   \n",
       "2     0003_01     Europa     False  A/0/S  TRAPPIST-1e  58.0   True   \n",
       "3     0003_02     Europa     False  A/0/S  TRAPPIST-1e  33.0  False   \n",
       "4     0004_01      Earth     False  F/1/S  TRAPPIST-1e  16.0  False   \n",
       "\n",
       "   RoomService  FoodCourt  ShoppingMall     Spa  VRDeck               Name  \\\n",
       "0          0.0        0.0           0.0     0.0     0.0    Maham Ofracculy   \n",
       "1        109.0        9.0          25.0   549.0    44.0       Juanna Vines   \n",
       "2         43.0     3576.0           0.0  6715.0    49.0      Altark Susent   \n",
       "3          0.0     1283.0         371.0  3329.0   193.0       Solam Susent   \n",
       "4        303.0       70.0         151.0   565.0     2.0  Willy Santantines   \n",
       "\n",
       "   Transported  \n",
       "0        False  \n",
       "1         True  \n",
       "2        False  \n",
       "3        False  \n",
       "4         True  "
      ]
     },
     "execution_count": 2,
     "metadata": {},
     "output_type": "execute_result"
    }
   ],
   "source": [
    "data = pd.read_csv(\"/kaggle/input/spaceship-titanic/train.csv\")\n",
    "data.head()"
   ]
  },
  {
   "cell_type": "code",
   "execution_count": 3,
   "id": "0e1cea7a",
   "metadata": {
    "execution": {
     "iopub.execute_input": "2022-07-25T18:17:28.584378Z",
     "iopub.status.busy": "2022-07-25T18:17:28.583218Z",
     "iopub.status.idle": "2022-07-25T18:17:28.598780Z",
     "shell.execute_reply": "2022-07-25T18:17:28.597044Z"
    },
    "papermill": {
     "duration": 0.032998,
     "end_time": "2022-07-25T18:17:28.601631",
     "exception": false,
     "start_time": "2022-07-25T18:17:28.568633",
     "status": "completed"
    },
    "tags": []
   },
   "outputs": [
    {
     "data": {
      "text/plain": [
       "True     4378\n",
       "False    4315\n",
       "Name: Transported, dtype: int64"
      ]
     },
     "execution_count": 3,
     "metadata": {},
     "output_type": "execute_result"
    }
   ],
   "source": [
    "data[\"Transported\"].value_counts()"
   ]
  },
  {
   "cell_type": "code",
   "execution_count": 4,
   "id": "8b57489f",
   "metadata": {
    "execution": {
     "iopub.execute_input": "2022-07-25T18:17:28.632238Z",
     "iopub.status.busy": "2022-07-25T18:17:28.631864Z",
     "iopub.status.idle": "2022-07-25T18:17:28.665089Z",
     "shell.execute_reply": "2022-07-25T18:17:28.663358Z"
    },
    "papermill": {
     "duration": 0.052111,
     "end_time": "2022-07-25T18:17:28.668673",
     "exception": false,
     "start_time": "2022-07-25T18:17:28.616562",
     "status": "completed"
    },
    "tags": []
   },
   "outputs": [
    {
     "name": "stdout",
     "output_type": "stream",
     "text": [
      "<class 'pandas.core.frame.DataFrame'>\n",
      "RangeIndex: 8693 entries, 0 to 8692\n",
      "Data columns (total 14 columns):\n",
      " #   Column        Non-Null Count  Dtype  \n",
      "---  ------        --------------  -----  \n",
      " 0   PassengerId   8693 non-null   object \n",
      " 1   HomePlanet    8492 non-null   object \n",
      " 2   CryoSleep     8476 non-null   object \n",
      " 3   Cabin         8494 non-null   object \n",
      " 4   Destination   8511 non-null   object \n",
      " 5   Age           8514 non-null   float64\n",
      " 6   VIP           8490 non-null   object \n",
      " 7   RoomService   8512 non-null   float64\n",
      " 8   FoodCourt     8510 non-null   float64\n",
      " 9   ShoppingMall  8485 non-null   float64\n",
      " 10  Spa           8510 non-null   float64\n",
      " 11  VRDeck        8505 non-null   float64\n",
      " 12  Name          8493 non-null   object \n",
      " 13  Transported   8693 non-null   bool   \n",
      "dtypes: bool(1), float64(6), object(7)\n",
      "memory usage: 891.5+ KB\n"
     ]
    }
   ],
   "source": [
    "data.info()"
   ]
  },
  {
   "cell_type": "code",
   "execution_count": 5,
   "id": "5207759f",
   "metadata": {
    "execution": {
     "iopub.execute_input": "2022-07-25T18:17:28.699474Z",
     "iopub.status.busy": "2022-07-25T18:17:28.699124Z",
     "iopub.status.idle": "2022-07-25T18:17:28.736017Z",
     "shell.execute_reply": "2022-07-25T18:17:28.734750Z"
    },
    "papermill": {
     "duration": 0.05604,
     "end_time": "2022-07-25T18:17:28.738829",
     "exception": false,
     "start_time": "2022-07-25T18:17:28.682789",
     "status": "completed"
    },
    "tags": []
   },
   "outputs": [
    {
     "data": {
      "text/html": [
       "<div>\n",
       "<style scoped>\n",
       "    .dataframe tbody tr th:only-of-type {\n",
       "        vertical-align: middle;\n",
       "    }\n",
       "\n",
       "    .dataframe tbody tr th {\n",
       "        vertical-align: top;\n",
       "    }\n",
       "\n",
       "    .dataframe thead th {\n",
       "        text-align: right;\n",
       "    }\n",
       "</style>\n",
       "<table border=\"1\" class=\"dataframe\">\n",
       "  <thead>\n",
       "    <tr style=\"text-align: right;\">\n",
       "      <th></th>\n",
       "      <th>Age</th>\n",
       "      <th>RoomService</th>\n",
       "      <th>FoodCourt</th>\n",
       "      <th>ShoppingMall</th>\n",
       "      <th>Spa</th>\n",
       "      <th>VRDeck</th>\n",
       "    </tr>\n",
       "  </thead>\n",
       "  <tbody>\n",
       "    <tr>\n",
       "      <th>count</th>\n",
       "      <td>8514.000000</td>\n",
       "      <td>8512.000000</td>\n",
       "      <td>8510.000000</td>\n",
       "      <td>8485.000000</td>\n",
       "      <td>8510.000000</td>\n",
       "      <td>8505.000000</td>\n",
       "    </tr>\n",
       "    <tr>\n",
       "      <th>mean</th>\n",
       "      <td>28.827930</td>\n",
       "      <td>224.687617</td>\n",
       "      <td>458.077203</td>\n",
       "      <td>173.729169</td>\n",
       "      <td>311.138778</td>\n",
       "      <td>304.854791</td>\n",
       "    </tr>\n",
       "    <tr>\n",
       "      <th>std</th>\n",
       "      <td>14.489021</td>\n",
       "      <td>666.717663</td>\n",
       "      <td>1611.489240</td>\n",
       "      <td>604.696458</td>\n",
       "      <td>1136.705535</td>\n",
       "      <td>1145.717189</td>\n",
       "    </tr>\n",
       "    <tr>\n",
       "      <th>min</th>\n",
       "      <td>0.000000</td>\n",
       "      <td>0.000000</td>\n",
       "      <td>0.000000</td>\n",
       "      <td>0.000000</td>\n",
       "      <td>0.000000</td>\n",
       "      <td>0.000000</td>\n",
       "    </tr>\n",
       "    <tr>\n",
       "      <th>25%</th>\n",
       "      <td>19.000000</td>\n",
       "      <td>0.000000</td>\n",
       "      <td>0.000000</td>\n",
       "      <td>0.000000</td>\n",
       "      <td>0.000000</td>\n",
       "      <td>0.000000</td>\n",
       "    </tr>\n",
       "    <tr>\n",
       "      <th>50%</th>\n",
       "      <td>27.000000</td>\n",
       "      <td>0.000000</td>\n",
       "      <td>0.000000</td>\n",
       "      <td>0.000000</td>\n",
       "      <td>0.000000</td>\n",
       "      <td>0.000000</td>\n",
       "    </tr>\n",
       "    <tr>\n",
       "      <th>75%</th>\n",
       "      <td>38.000000</td>\n",
       "      <td>47.000000</td>\n",
       "      <td>76.000000</td>\n",
       "      <td>27.000000</td>\n",
       "      <td>59.000000</td>\n",
       "      <td>46.000000</td>\n",
       "    </tr>\n",
       "    <tr>\n",
       "      <th>max</th>\n",
       "      <td>79.000000</td>\n",
       "      <td>14327.000000</td>\n",
       "      <td>29813.000000</td>\n",
       "      <td>23492.000000</td>\n",
       "      <td>22408.000000</td>\n",
       "      <td>24133.000000</td>\n",
       "    </tr>\n",
       "  </tbody>\n",
       "</table>\n",
       "</div>"
      ],
      "text/plain": [
       "               Age   RoomService     FoodCourt  ShoppingMall           Spa  \\\n",
       "count  8514.000000   8512.000000   8510.000000   8485.000000   8510.000000   \n",
       "mean     28.827930    224.687617    458.077203    173.729169    311.138778   \n",
       "std      14.489021    666.717663   1611.489240    604.696458   1136.705535   \n",
       "min       0.000000      0.000000      0.000000      0.000000      0.000000   \n",
       "25%      19.000000      0.000000      0.000000      0.000000      0.000000   \n",
       "50%      27.000000      0.000000      0.000000      0.000000      0.000000   \n",
       "75%      38.000000     47.000000     76.000000     27.000000     59.000000   \n",
       "max      79.000000  14327.000000  29813.000000  23492.000000  22408.000000   \n",
       "\n",
       "             VRDeck  \n",
       "count   8505.000000  \n",
       "mean     304.854791  \n",
       "std     1145.717189  \n",
       "min        0.000000  \n",
       "25%        0.000000  \n",
       "50%        0.000000  \n",
       "75%       46.000000  \n",
       "max    24133.000000  "
      ]
     },
     "execution_count": 5,
     "metadata": {},
     "output_type": "execute_result"
    }
   ],
   "source": [
    "data.describe()"
   ]
  },
  {
   "cell_type": "code",
   "execution_count": 6,
   "id": "1a17537c",
   "metadata": {
    "execution": {
     "iopub.execute_input": "2022-07-25T18:17:28.767339Z",
     "iopub.status.busy": "2022-07-25T18:17:28.766964Z",
     "iopub.status.idle": "2022-07-25T18:17:28.779249Z",
     "shell.execute_reply": "2022-07-25T18:17:28.778133Z"
    },
    "papermill": {
     "duration": 0.029265,
     "end_time": "2022-07-25T18:17:28.781481",
     "exception": false,
     "start_time": "2022-07-25T18:17:28.752216",
     "status": "completed"
    },
    "tags": []
   },
   "outputs": [
    {
     "data": {
      "text/plain": [
       "Age            -0.075026\n",
       "RoomService    -0.244611\n",
       "FoodCourt       0.046566\n",
       "ShoppingMall    0.010141\n",
       "Spa            -0.221131\n",
       "VRDeck         -0.207075\n",
       "Transported     1.000000\n",
       "Name: Transported, dtype: float64"
      ]
     },
     "execution_count": 6,
     "metadata": {},
     "output_type": "execute_result"
    }
   ],
   "source": [
    "data.corr()[\"Transported\"]"
   ]
  },
  {
   "cell_type": "code",
   "execution_count": 7,
   "id": "d39d3348",
   "metadata": {
    "execution": {
     "iopub.execute_input": "2022-07-25T18:17:28.810284Z",
     "iopub.status.busy": "2022-07-25T18:17:28.809647Z",
     "iopub.status.idle": "2022-07-25T18:17:28.826988Z",
     "shell.execute_reply": "2022-07-25T18:17:28.825749Z"
    },
    "papermill": {
     "duration": 0.034328,
     "end_time": "2022-07-25T18:17:28.829115",
     "exception": false,
     "start_time": "2022-07-25T18:17:28.794787",
     "status": "completed"
    },
    "tags": []
   },
   "outputs": [
    {
     "data": {
      "text/plain": [
       "PassengerId       0\n",
       "HomePlanet      201\n",
       "CryoSleep       217\n",
       "Cabin           199\n",
       "Destination     182\n",
       "Age             179\n",
       "VIP             203\n",
       "RoomService     181\n",
       "FoodCourt       183\n",
       "ShoppingMall    208\n",
       "Spa             183\n",
       "VRDeck          188\n",
       "Name            200\n",
       "Transported       0\n",
       "dtype: int64"
      ]
     },
     "execution_count": 7,
     "metadata": {},
     "output_type": "execute_result"
    }
   ],
   "source": [
    "data.isnull().sum()"
   ]
  },
  {
   "cell_type": "code",
   "execution_count": 8,
   "id": "7db72344",
   "metadata": {
    "execution": {
     "iopub.execute_input": "2022-07-25T18:17:28.859887Z",
     "iopub.status.busy": "2022-07-25T18:17:28.859176Z",
     "iopub.status.idle": "2022-07-25T18:17:28.867385Z",
     "shell.execute_reply": "2022-07-25T18:17:28.866509Z"
    },
    "papermill": {
     "duration": 0.025379,
     "end_time": "2022-07-25T18:17:28.869555",
     "exception": false,
     "start_time": "2022-07-25T18:17:28.844176",
     "status": "completed"
    },
    "tags": []
   },
   "outputs": [
    {
     "data": {
      "text/plain": [
       "28.82793046746535"
      ]
     },
     "execution_count": 8,
     "metadata": {},
     "output_type": "execute_result"
    }
   ],
   "source": [
    "data[\"Age\"].mean()"
   ]
  },
  {
   "cell_type": "code",
   "execution_count": 9,
   "id": "33b5907c",
   "metadata": {
    "execution": {
     "iopub.execute_input": "2022-07-25T18:17:28.900346Z",
     "iopub.status.busy": "2022-07-25T18:17:28.899021Z",
     "iopub.status.idle": "2022-07-25T18:17:28.907934Z",
     "shell.execute_reply": "2022-07-25T18:17:28.906988Z"
    },
    "papermill": {
     "duration": 0.026871,
     "end_time": "2022-07-25T18:17:28.910056",
     "exception": false,
     "start_time": "2022-07-25T18:17:28.883185",
     "status": "completed"
    },
    "tags": []
   },
   "outputs": [
    {
     "data": {
      "text/plain": [
       "27.0"
      ]
     },
     "execution_count": 9,
     "metadata": {},
     "output_type": "execute_result"
    }
   ],
   "source": [
    "data[\"Age\"].median()"
   ]
  },
  {
   "cell_type": "code",
   "execution_count": 10,
   "id": "6b5568f4",
   "metadata": {
    "execution": {
     "iopub.execute_input": "2022-07-25T18:17:28.941679Z",
     "iopub.status.busy": "2022-07-25T18:17:28.940433Z",
     "iopub.status.idle": "2022-07-25T18:17:28.959909Z",
     "shell.execute_reply": "2022-07-25T18:17:28.958688Z"
    },
    "papermill": {
     "duration": 0.037462,
     "end_time": "2022-07-25T18:17:28.962353",
     "exception": false,
     "start_time": "2022-07-25T18:17:28.924891",
     "status": "completed"
    },
    "tags": []
   },
   "outputs": [
    {
     "data": {
      "text/html": [
       "<div>\n",
       "<style scoped>\n",
       "    .dataframe tbody tr th:only-of-type {\n",
       "        vertical-align: middle;\n",
       "    }\n",
       "\n",
       "    .dataframe tbody tr th {\n",
       "        vertical-align: top;\n",
       "    }\n",
       "\n",
       "    .dataframe thead th {\n",
       "        text-align: right;\n",
       "    }\n",
       "</style>\n",
       "<table border=\"1\" class=\"dataframe\">\n",
       "  <thead>\n",
       "    <tr style=\"text-align: right;\">\n",
       "      <th></th>\n",
       "      <th>PassengerId</th>\n",
       "      <th>CryoSleep</th>\n",
       "      <th>Cabin</th>\n",
       "      <th>Destination</th>\n",
       "      <th>Age</th>\n",
       "      <th>VIP</th>\n",
       "      <th>VRDeck</th>\n",
       "      <th>Name</th>\n",
       "      <th>Transported</th>\n",
       "    </tr>\n",
       "  </thead>\n",
       "  <tbody>\n",
       "    <tr>\n",
       "      <th>0</th>\n",
       "      <td>0001_01</td>\n",
       "      <td>False</td>\n",
       "      <td>B/0/P</td>\n",
       "      <td>TRAPPIST-1e</td>\n",
       "      <td>39.0</td>\n",
       "      <td>False</td>\n",
       "      <td>0.0</td>\n",
       "      <td>Maham Ofracculy</td>\n",
       "      <td>False</td>\n",
       "    </tr>\n",
       "    <tr>\n",
       "      <th>1</th>\n",
       "      <td>0002_01</td>\n",
       "      <td>False</td>\n",
       "      <td>F/0/S</td>\n",
       "      <td>TRAPPIST-1e</td>\n",
       "      <td>24.0</td>\n",
       "      <td>False</td>\n",
       "      <td>44.0</td>\n",
       "      <td>Juanna Vines</td>\n",
       "      <td>True</td>\n",
       "    </tr>\n",
       "    <tr>\n",
       "      <th>2</th>\n",
       "      <td>0003_01</td>\n",
       "      <td>False</td>\n",
       "      <td>A/0/S</td>\n",
       "      <td>TRAPPIST-1e</td>\n",
       "      <td>58.0</td>\n",
       "      <td>True</td>\n",
       "      <td>49.0</td>\n",
       "      <td>Altark Susent</td>\n",
       "      <td>False</td>\n",
       "    </tr>\n",
       "    <tr>\n",
       "      <th>3</th>\n",
       "      <td>0003_02</td>\n",
       "      <td>False</td>\n",
       "      <td>A/0/S</td>\n",
       "      <td>TRAPPIST-1e</td>\n",
       "      <td>33.0</td>\n",
       "      <td>False</td>\n",
       "      <td>193.0</td>\n",
       "      <td>Solam Susent</td>\n",
       "      <td>False</td>\n",
       "    </tr>\n",
       "    <tr>\n",
       "      <th>4</th>\n",
       "      <td>0004_01</td>\n",
       "      <td>False</td>\n",
       "      <td>F/1/S</td>\n",
       "      <td>TRAPPIST-1e</td>\n",
       "      <td>16.0</td>\n",
       "      <td>False</td>\n",
       "      <td>2.0</td>\n",
       "      <td>Willy Santantines</td>\n",
       "      <td>True</td>\n",
       "    </tr>\n",
       "  </tbody>\n",
       "</table>\n",
       "</div>"
      ],
      "text/plain": [
       "  PassengerId CryoSleep  Cabin  Destination   Age    VIP  VRDeck  \\\n",
       "0     0001_01     False  B/0/P  TRAPPIST-1e  39.0  False     0.0   \n",
       "1     0002_01     False  F/0/S  TRAPPIST-1e  24.0  False    44.0   \n",
       "2     0003_01     False  A/0/S  TRAPPIST-1e  58.0   True    49.0   \n",
       "3     0003_02     False  A/0/S  TRAPPIST-1e  33.0  False   193.0   \n",
       "4     0004_01     False  F/1/S  TRAPPIST-1e  16.0  False     2.0   \n",
       "\n",
       "                Name  Transported  \n",
       "0    Maham Ofracculy        False  \n",
       "1       Juanna Vines         True  \n",
       "2      Altark Susent        False  \n",
       "3       Solam Susent        False  \n",
       "4  Willy Santantines         True  "
      ]
     },
     "execution_count": 10,
     "metadata": {},
     "output_type": "execute_result"
    }
   ],
   "source": [
    "df2 = data.drop([\"Spa\",\"HomePlanet\",\"RoomService\",\"FoodCourt\",\"ShoppingMall\"],axis=1)\n",
    "df2.head()"
   ]
  },
  {
   "cell_type": "code",
   "execution_count": 11,
   "id": "8b74bf8d",
   "metadata": {
    "execution": {
     "iopub.execute_input": "2022-07-25T18:17:28.992825Z",
     "iopub.status.busy": "2022-07-25T18:17:28.992074Z",
     "iopub.status.idle": "2022-07-25T18:17:29.007970Z",
     "shell.execute_reply": "2022-07-25T18:17:29.006574Z"
    },
    "papermill": {
     "duration": 0.033922,
     "end_time": "2022-07-25T18:17:29.010509",
     "exception": false,
     "start_time": "2022-07-25T18:17:28.976587",
     "status": "completed"
    },
    "tags": []
   },
   "outputs": [
    {
     "data": {
      "text/plain": [
       "PassengerId      0\n",
       "CryoSleep      217\n",
       "Cabin          199\n",
       "Destination    182\n",
       "Age            179\n",
       "VIP            203\n",
       "VRDeck         188\n",
       "Name           200\n",
       "Transported      0\n",
       "dtype: int64"
      ]
     },
     "execution_count": 11,
     "metadata": {},
     "output_type": "execute_result"
    }
   ],
   "source": [
    "df2.isnull().sum()"
   ]
  },
  {
   "cell_type": "code",
   "execution_count": 12,
   "id": "ed80a527",
   "metadata": {
    "execution": {
     "iopub.execute_input": "2022-07-25T18:17:29.040758Z",
     "iopub.status.busy": "2022-07-25T18:17:29.040368Z",
     "iopub.status.idle": "2022-07-25T18:17:29.050191Z",
     "shell.execute_reply": "2022-07-25T18:17:29.048892Z"
    },
    "papermill": {
     "duration": 0.027935,
     "end_time": "2022-07-25T18:17:29.052751",
     "exception": false,
     "start_time": "2022-07-25T18:17:29.024816",
     "status": "completed"
    },
    "tags": []
   },
   "outputs": [
    {
     "data": {
      "text/plain": [
       "False    5439\n",
       "True     3037\n",
       "Name: CryoSleep, dtype: int64"
      ]
     },
     "execution_count": 12,
     "metadata": {},
     "output_type": "execute_result"
    }
   ],
   "source": [
    "df2[\"CryoSleep\"].value_counts()"
   ]
  },
  {
   "cell_type": "code",
   "execution_count": 13,
   "id": "34518215",
   "metadata": {
    "execution": {
     "iopub.execute_input": "2022-07-25T18:17:29.083914Z",
     "iopub.status.busy": "2022-07-25T18:17:29.083424Z",
     "iopub.status.idle": "2022-07-25T18:17:29.092126Z",
     "shell.execute_reply": "2022-07-25T18:17:29.090663Z"
    },
    "papermill": {
     "duration": 0.027028,
     "end_time": "2022-07-25T18:17:29.094393",
     "exception": false,
     "start_time": "2022-07-25T18:17:29.067365",
     "status": "completed"
    },
    "tags": []
   },
   "outputs": [],
   "source": [
    "#Max is False so Fill null value to False\n",
    "df2[\"CryoSleep\"].fillna(False,inplace=True)"
   ]
  },
  {
   "cell_type": "code",
   "execution_count": 14,
   "id": "6ade4f3b",
   "metadata": {
    "execution": {
     "iopub.execute_input": "2022-07-25T18:17:29.124574Z",
     "iopub.status.busy": "2022-07-25T18:17:29.123978Z",
     "iopub.status.idle": "2022-07-25T18:17:29.135882Z",
     "shell.execute_reply": "2022-07-25T18:17:29.134691Z"
    },
    "papermill": {
     "duration": 0.029502,
     "end_time": "2022-07-25T18:17:29.138025",
     "exception": false,
     "start_time": "2022-07-25T18:17:29.108523",
     "status": "completed"
    },
    "tags": []
   },
   "outputs": [
    {
     "data": {
      "text/plain": [
       "6560"
      ]
     },
     "execution_count": 14,
     "metadata": {},
     "output_type": "execute_result"
    }
   ],
   "source": [
    "len(df2[\"Cabin\"].value_counts())"
   ]
  },
  {
   "cell_type": "code",
   "execution_count": 15,
   "id": "5544302c",
   "metadata": {
    "execution": {
     "iopub.execute_input": "2022-07-25T18:17:29.170780Z",
     "iopub.status.busy": "2022-07-25T18:17:29.169520Z",
     "iopub.status.idle": "2022-07-25T18:17:29.180419Z",
     "shell.execute_reply": "2022-07-25T18:17:29.179322Z"
    },
    "papermill": {
     "duration": 0.029704,
     "end_time": "2022-07-25T18:17:29.182959",
     "exception": false,
     "start_time": "2022-07-25T18:17:29.153255",
     "status": "completed"
    },
    "tags": []
   },
   "outputs": [],
   "source": [
    "#null leagth is less so remove it\n",
    "df2.dropna(subset=[\"Cabin\",] ,inplace=True)"
   ]
  },
  {
   "cell_type": "code",
   "execution_count": 16,
   "id": "dc671ad7",
   "metadata": {
    "execution": {
     "iopub.execute_input": "2022-07-25T18:17:29.213648Z",
     "iopub.status.busy": "2022-07-25T18:17:29.213152Z",
     "iopub.status.idle": "2022-07-25T18:17:29.223878Z",
     "shell.execute_reply": "2022-07-25T18:17:29.223078Z"
    },
    "papermill": {
     "duration": 0.028571,
     "end_time": "2022-07-25T18:17:29.225981",
     "exception": false,
     "start_time": "2022-07-25T18:17:29.197410",
     "status": "completed"
    },
    "tags": []
   },
   "outputs": [
    {
     "data": {
      "text/plain": [
       "TRAPPIST-1e      5788\n",
       "55 Cancri e      1750\n",
       "PSO J318.5-22     778\n",
       "Name: Destination, dtype: int64"
      ]
     },
     "execution_count": 16,
     "metadata": {},
     "output_type": "execute_result"
    }
   ],
   "source": [
    "df2[\"Destination\"].value_counts()"
   ]
  },
  {
   "cell_type": "code",
   "execution_count": 17,
   "id": "ce430d0f",
   "metadata": {
    "execution": {
     "iopub.execute_input": "2022-07-25T18:17:29.258672Z",
     "iopub.status.busy": "2022-07-25T18:17:29.257455Z",
     "iopub.status.idle": "2022-07-25T18:17:29.268262Z",
     "shell.execute_reply": "2022-07-25T18:17:29.267254Z"
    },
    "papermill": {
     "duration": 0.029813,
     "end_time": "2022-07-25T18:17:29.271015",
     "exception": false,
     "start_time": "2022-07-25T18:17:29.241202",
     "status": "completed"
    },
    "tags": []
   },
   "outputs": [],
   "source": [
    "df2[\"Destination\"].fillna(method=\"ffill\",inplace=True)"
   ]
  },
  {
   "cell_type": "code",
   "execution_count": 18,
   "id": "6af72a86",
   "metadata": {
    "execution": {
     "iopub.execute_input": "2022-07-25T18:17:29.304876Z",
     "iopub.status.busy": "2022-07-25T18:17:29.303720Z",
     "iopub.status.idle": "2022-07-25T18:17:29.314230Z",
     "shell.execute_reply": "2022-07-25T18:17:29.312937Z"
    },
    "papermill": {
     "duration": 0.029822,
     "end_time": "2022-07-25T18:17:29.316888",
     "exception": false,
     "start_time": "2022-07-25T18:17:29.287066",
     "status": "completed"
    },
    "tags": []
   },
   "outputs": [
    {
     "data": {
      "text/plain": [
       "False    8104\n",
       "True      193\n",
       "Name: VIP, dtype: int64"
      ]
     },
     "execution_count": 18,
     "metadata": {},
     "output_type": "execute_result"
    }
   ],
   "source": [
    "df2[\"VIP\"].value_counts()"
   ]
  },
  {
   "cell_type": "code",
   "execution_count": 19,
   "id": "d1272bba",
   "metadata": {
    "execution": {
     "iopub.execute_input": "2022-07-25T18:17:29.351051Z",
     "iopub.status.busy": "2022-07-25T18:17:29.350643Z",
     "iopub.status.idle": "2022-07-25T18:17:29.358426Z",
     "shell.execute_reply": "2022-07-25T18:17:29.357184Z"
    },
    "papermill": {
     "duration": 0.027604,
     "end_time": "2022-07-25T18:17:29.360750",
     "exception": false,
     "start_time": "2022-07-25T18:17:29.333146",
     "status": "completed"
    },
    "tags": []
   },
   "outputs": [],
   "source": [
    "#Max is False so Fill null value to False\n",
    "df2[\"VIP\"].fillna(\"True\",inplace=True)"
   ]
  },
  {
   "cell_type": "code",
   "execution_count": 20,
   "id": "1a71bd52",
   "metadata": {
    "execution": {
     "iopub.execute_input": "2022-07-25T18:17:29.393375Z",
     "iopub.status.busy": "2022-07-25T18:17:29.392236Z",
     "iopub.status.idle": "2022-07-25T18:17:29.404209Z",
     "shell.execute_reply": "2022-07-25T18:17:29.402990Z"
    },
    "papermill": {
     "duration": 0.030754,
     "end_time": "2022-07-25T18:17:29.406991",
     "exception": false,
     "start_time": "2022-07-25T18:17:29.376237",
     "status": "completed"
    },
    "tags": []
   },
   "outputs": [],
   "source": [
    "df2[\"VRDeck\"].isnull().sum()\n",
    "df2.dropna(subset=[\"Name\",\"VRDeck\"] ,inplace=True)"
   ]
  },
  {
   "cell_type": "code",
   "execution_count": 21,
   "id": "a6fe0428",
   "metadata": {
    "execution": {
     "iopub.execute_input": "2022-07-25T18:17:29.438214Z",
     "iopub.status.busy": "2022-07-25T18:17:29.437446Z",
     "iopub.status.idle": "2022-07-25T18:17:29.446021Z",
     "shell.execute_reply": "2022-07-25T18:17:29.445114Z"
    },
    "papermill": {
     "duration": 0.026308,
     "end_time": "2022-07-25T18:17:29.448070",
     "exception": false,
     "start_time": "2022-07-25T18:17:29.421762",
     "status": "completed"
    },
    "tags": []
   },
   "outputs": [
    {
     "data": {
      "text/plain": [
       "27.0"
      ]
     },
     "execution_count": 21,
     "metadata": {},
     "output_type": "execute_result"
    }
   ],
   "source": [
    "df2[\"Age\"].median() # middale Value"
   ]
  },
  {
   "cell_type": "code",
   "execution_count": 22,
   "id": "4ed0745f",
   "metadata": {
    "execution": {
     "iopub.execute_input": "2022-07-25T18:17:29.480052Z",
     "iopub.status.busy": "2022-07-25T18:17:29.479226Z",
     "iopub.status.idle": "2022-07-25T18:17:29.492365Z",
     "shell.execute_reply": "2022-07-25T18:17:29.491061Z"
    },
    "papermill": {
     "duration": 0.03232,
     "end_time": "2022-07-25T18:17:29.495302",
     "exception": false,
     "start_time": "2022-07-25T18:17:29.462982",
     "status": "completed"
    },
    "tags": []
   },
   "outputs": [
    {
     "data": {
      "text/plain": [
       "0    24.0\n",
       "dtype: float64"
      ]
     },
     "execution_count": 22,
     "metadata": {},
     "output_type": "execute_result"
    }
   ],
   "source": [
    "df2[\"Age\"].mode() # most repeted value"
   ]
  },
  {
   "cell_type": "code",
   "execution_count": 23,
   "id": "9d8d6724",
   "metadata": {
    "execution": {
     "iopub.execute_input": "2022-07-25T18:17:29.530739Z",
     "iopub.status.busy": "2022-07-25T18:17:29.530288Z",
     "iopub.status.idle": "2022-07-25T18:17:29.538962Z",
     "shell.execute_reply": "2022-07-25T18:17:29.537692Z"
    },
    "papermill": {
     "duration": 0.029222,
     "end_time": "2022-07-25T18:17:29.541364",
     "exception": false,
     "start_time": "2022-07-25T18:17:29.512142",
     "status": "completed"
    },
    "tags": []
   },
   "outputs": [
    {
     "data": {
      "text/plain": [
       "28.861457153642885"
      ]
     },
     "execution_count": 23,
     "metadata": {},
     "output_type": "execute_result"
    }
   ],
   "source": [
    "df2[\"Age\"].mean() # average value"
   ]
  },
  {
   "cell_type": "code",
   "execution_count": 24,
   "id": "b7c25735",
   "metadata": {
    "execution": {
     "iopub.execute_input": "2022-07-25T18:17:29.573836Z",
     "iopub.status.busy": "2022-07-25T18:17:29.572644Z",
     "iopub.status.idle": "2022-07-25T18:17:29.579291Z",
     "shell.execute_reply": "2022-07-25T18:17:29.578389Z"
    },
    "papermill": {
     "duration": 0.025753,
     "end_time": "2022-07-25T18:17:29.582214",
     "exception": false,
     "start_time": "2022-07-25T18:17:29.556461",
     "status": "completed"
    },
    "tags": []
   },
   "outputs": [],
   "source": [
    "df2[\"Age\"].fillna(df2[\"Age\"].mean(),inplace=True)"
   ]
  },
  {
   "cell_type": "code",
   "execution_count": 25,
   "id": "838df724",
   "metadata": {
    "execution": {
     "iopub.execute_input": "2022-07-25T18:17:29.616397Z",
     "iopub.status.busy": "2022-07-25T18:17:29.615429Z",
     "iopub.status.idle": "2022-07-25T18:17:29.632387Z",
     "shell.execute_reply": "2022-07-25T18:17:29.631042Z"
    },
    "papermill": {
     "duration": 0.03697,
     "end_time": "2022-07-25T18:17:29.634720",
     "exception": false,
     "start_time": "2022-07-25T18:17:29.597750",
     "status": "completed"
    },
    "tags": []
   },
   "outputs": [
    {
     "data": {
      "text/plain": [
       "PassengerId    0\n",
       "CryoSleep      0\n",
       "Cabin          0\n",
       "Destination    0\n",
       "Age            0\n",
       "VIP            0\n",
       "VRDeck         0\n",
       "Name           0\n",
       "Transported    0\n",
       "dtype: int64"
      ]
     },
     "execution_count": 25,
     "metadata": {},
     "output_type": "execute_result"
    }
   ],
   "source": [
    "df2.isnull().sum()"
   ]
  },
  {
   "cell_type": "code",
   "execution_count": 26,
   "id": "b093331c",
   "metadata": {
    "execution": {
     "iopub.execute_input": "2022-07-25T18:17:29.669023Z",
     "iopub.status.busy": "2022-07-25T18:17:29.667847Z",
     "iopub.status.idle": "2022-07-25T18:17:29.685044Z",
     "shell.execute_reply": "2022-07-25T18:17:29.683661Z"
    },
    "papermill": {
     "duration": 0.037905,
     "end_time": "2022-07-25T18:17:29.688268",
     "exception": false,
     "start_time": "2022-07-25T18:17:29.650363",
     "status": "completed"
    },
    "tags": []
   },
   "outputs": [
    {
     "name": "stdout",
     "output_type": "stream",
     "text": [
      "<class 'pandas.core.frame.DataFrame'>\n",
      "Int64Index: 8116 entries, 0 to 8692\n",
      "Data columns (total 9 columns):\n",
      " #   Column       Non-Null Count  Dtype  \n",
      "---  ------       --------------  -----  \n",
      " 0   PassengerId  8116 non-null   object \n",
      " 1   CryoSleep    8116 non-null   bool   \n",
      " 2   Cabin        8116 non-null   object \n",
      " 3   Destination  8116 non-null   object \n",
      " 4   Age          8116 non-null   float64\n",
      " 5   VIP          8116 non-null   object \n",
      " 6   VRDeck       8116 non-null   float64\n",
      " 7   Name         8116 non-null   object \n",
      " 8   Transported  8116 non-null   bool   \n",
      "dtypes: bool(2), float64(2), object(5)\n",
      "memory usage: 523.1+ KB\n"
     ]
    }
   ],
   "source": [
    "df2.info()"
   ]
  },
  {
   "cell_type": "code",
   "execution_count": 27,
   "id": "43777966",
   "metadata": {
    "execution": {
     "iopub.execute_input": "2022-07-25T18:17:29.723370Z",
     "iopub.status.busy": "2022-07-25T18:17:29.722998Z",
     "iopub.status.idle": "2022-07-25T18:17:29.732727Z",
     "shell.execute_reply": "2022-07-25T18:17:29.731671Z"
    },
    "papermill": {
     "duration": 0.029551,
     "end_time": "2022-07-25T18:17:29.735037",
     "exception": false,
     "start_time": "2022-07-25T18:17:29.705486",
     "status": "completed"
    },
    "tags": []
   },
   "outputs": [
    {
     "data": {
      "text/plain": [
       "False    7735\n",
       "True      195\n",
       "True      186\n",
       "Name: VIP, dtype: int64"
      ]
     },
     "execution_count": 27,
     "metadata": {},
     "output_type": "execute_result"
    }
   ],
   "source": [
    "df2[\"VIP\"].value_counts()"
   ]
  },
  {
   "cell_type": "code",
   "execution_count": 28,
   "id": "f2e955b0",
   "metadata": {
    "execution": {
     "iopub.execute_input": "2022-07-25T18:17:29.769235Z",
     "iopub.status.busy": "2022-07-25T18:17:29.768124Z",
     "iopub.status.idle": "2022-07-25T18:17:29.781070Z",
     "shell.execute_reply": "2022-07-25T18:17:29.779855Z"
    },
    "papermill": {
     "duration": 0.032386,
     "end_time": "2022-07-25T18:17:29.783457",
     "exception": false,
     "start_time": "2022-07-25T18:17:29.751071",
     "status": "completed"
    },
    "tags": []
   },
   "outputs": [],
   "source": [
    "df2[\"VIP\"].replace({False:0,\"True\":1,True:1},inplace=True)"
   ]
  },
  {
   "cell_type": "code",
   "execution_count": 29,
   "id": "bd8ae51d",
   "metadata": {
    "execution": {
     "iopub.execute_input": "2022-07-25T18:17:29.817326Z",
     "iopub.status.busy": "2022-07-25T18:17:29.816554Z",
     "iopub.status.idle": "2022-07-25T18:17:29.834002Z",
     "shell.execute_reply": "2022-07-25T18:17:29.832414Z"
    },
    "papermill": {
     "duration": 0.037212,
     "end_time": "2022-07-25T18:17:29.836656",
     "exception": false,
     "start_time": "2022-07-25T18:17:29.799444",
     "status": "completed"
    },
    "tags": []
   },
   "outputs": [],
   "source": [
    "df2[\"Destination\"].value_counts()\n",
    "df2[\"Destination\"].replace({\"TRAPPIST-1e\":0,\"55 Cancri e\":1,\"PSO J318.5-22\":2},inplace=True)"
   ]
  },
  {
   "cell_type": "code",
   "execution_count": 30,
   "id": "a326f3ff",
   "metadata": {
    "execution": {
     "iopub.execute_input": "2022-07-25T18:17:29.869589Z",
     "iopub.status.busy": "2022-07-25T18:17:29.868901Z",
     "iopub.status.idle": "2022-07-25T18:17:29.893273Z",
     "shell.execute_reply": "2022-07-25T18:17:29.892231Z"
    },
    "papermill": {
     "duration": 0.043807,
     "end_time": "2022-07-25T18:17:29.895778",
     "exception": false,
     "start_time": "2022-07-25T18:17:29.851971",
     "status": "completed"
    },
    "tags": []
   },
   "outputs": [],
   "source": [
    "df2[\"Cabin\"] = df2[\"Cabin\"].apply(lambda x : x.split(\"/\")[2])\n",
    "df2[\"Cabin\"].head()\n",
    "df2[\"Cabin\"].replace({\"P\":0,\"S\":1},inplace=True)"
   ]
  },
  {
   "cell_type": "code",
   "execution_count": 31,
   "id": "5e91c2df",
   "metadata": {
    "execution": {
     "iopub.execute_input": "2022-07-25T18:17:29.928756Z",
     "iopub.status.busy": "2022-07-25T18:17:29.928097Z",
     "iopub.status.idle": "2022-07-25T18:17:29.939320Z",
     "shell.execute_reply": "2022-07-25T18:17:29.937964Z"
    },
    "papermill": {
     "duration": 0.030882,
     "end_time": "2022-07-25T18:17:29.941966",
     "exception": false,
     "start_time": "2022-07-25T18:17:29.911084",
     "status": "completed"
    },
    "tags": []
   },
   "outputs": [],
   "source": [
    "df2[\"CryoSleep\"].value_counts()\n",
    "df2[\"CryoSleep\"].replace({False:0,True:1},inplace=True)"
   ]
  },
  {
   "cell_type": "code",
   "execution_count": 32,
   "id": "aad9f7e8",
   "metadata": {
    "execution": {
     "iopub.execute_input": "2022-07-25T18:17:29.975260Z",
     "iopub.status.busy": "2022-07-25T18:17:29.974362Z",
     "iopub.status.idle": "2022-07-25T18:17:29.992231Z",
     "shell.execute_reply": "2022-07-25T18:17:29.990867Z"
    },
    "papermill": {
     "duration": 0.037779,
     "end_time": "2022-07-25T18:17:29.995059",
     "exception": false,
     "start_time": "2022-07-25T18:17:29.957280",
     "status": "completed"
    },
    "tags": []
   },
   "outputs": [
    {
     "name": "stdout",
     "output_type": "stream",
     "text": [
      "<class 'pandas.core.frame.DataFrame'>\n",
      "Int64Index: 8116 entries, 0 to 8692\n",
      "Data columns (total 9 columns):\n",
      " #   Column       Non-Null Count  Dtype  \n",
      "---  ------       --------------  -----  \n",
      " 0   PassengerId  8116 non-null   object \n",
      " 1   CryoSleep    8116 non-null   int64  \n",
      " 2   Cabin        8116 non-null   int64  \n",
      " 3   Destination  8116 non-null   int64  \n",
      " 4   Age          8116 non-null   float64\n",
      " 5   VIP          8116 non-null   int64  \n",
      " 6   VRDeck       8116 non-null   float64\n",
      " 7   Name         8116 non-null   object \n",
      " 8   Transported  8116 non-null   bool   \n",
      "dtypes: bool(1), float64(2), int64(4), object(2)\n",
      "memory usage: 578.6+ KB\n"
     ]
    }
   ],
   "source": [
    "df2.info()"
   ]
  },
  {
   "cell_type": "code",
   "execution_count": 33,
   "id": "f05e7140",
   "metadata": {
    "execution": {
     "iopub.execute_input": "2022-07-25T18:17:30.027949Z",
     "iopub.status.busy": "2022-07-25T18:17:30.027244Z",
     "iopub.status.idle": "2022-07-25T18:17:30.038514Z",
     "shell.execute_reply": "2022-07-25T18:17:30.037517Z"
    },
    "papermill": {
     "duration": 0.030303,
     "end_time": "2022-07-25T18:17:30.040795",
     "exception": false,
     "start_time": "2022-07-25T18:17:30.010492",
     "status": "completed"
    },
    "tags": []
   },
   "outputs": [
    {
     "data": {
      "text/plain": [
       "CryoSleep      0.460592\n",
       "Cabin          0.104440\n",
       "Destination    0.074736\n",
       "Age           -0.078522\n",
       "VIP           -0.025251\n",
       "VRDeck        -0.210417\n",
       "Transported    1.000000\n",
       "Name: Transported, dtype: float64"
      ]
     },
     "execution_count": 33,
     "metadata": {},
     "output_type": "execute_result"
    }
   ],
   "source": [
    "df2.corr()[\"Transported\"]"
   ]
  },
  {
   "cell_type": "code",
   "execution_count": 34,
   "id": "b5a66959",
   "metadata": {
    "execution": {
     "iopub.execute_input": "2022-07-25T18:17:30.075433Z",
     "iopub.status.busy": "2022-07-25T18:17:30.074749Z",
     "iopub.status.idle": "2022-07-25T18:17:31.296059Z",
     "shell.execute_reply": "2022-07-25T18:17:31.294950Z"
    },
    "papermill": {
     "duration": 1.241675,
     "end_time": "2022-07-25T18:17:31.298946",
     "exception": false,
     "start_time": "2022-07-25T18:17:30.057271",
     "status": "completed"
    },
    "tags": []
   },
   "outputs": [],
   "source": [
    "import seaborn as sns"
   ]
  },
  {
   "cell_type": "code",
   "execution_count": 35,
   "id": "bf036fb6",
   "metadata": {
    "execution": {
     "iopub.execute_input": "2022-07-25T18:17:31.333046Z",
     "iopub.status.busy": "2022-07-25T18:17:31.332369Z",
     "iopub.status.idle": "2022-07-25T18:17:31.686480Z",
     "shell.execute_reply": "2022-07-25T18:17:31.685385Z"
    },
    "papermill": {
     "duration": 0.373862,
     "end_time": "2022-07-25T18:17:31.689162",
     "exception": false,
     "start_time": "2022-07-25T18:17:31.315300",
     "status": "completed"
    },
    "tags": []
   },
   "outputs": [
    {
     "data": {
      "text/plain": [
       "<AxesSubplot:xlabel='CryoSleep', ylabel='Transported'>"
      ]
     },
     "execution_count": 35,
     "metadata": {},
     "output_type": "execute_result"
    },
    {
     "data": {
      "image/png": "[encoded data removed]",
      "text/plain": [
       "<Figure size 432x288 with 1 Axes>"
      ]
     },
     "metadata": {
      "needs_background": "light"
     },
     "output_type": "display_data"
    }
   ],
   "source": [
    "sns.barplot(x=df2[\"CryoSleep\"], y=df2[\"Transported\"])"
   ]
  },
  {
   "cell_type": "code",
   "execution_count": 36,
   "id": "b1eaba3f",
   "metadata": {
    "execution": {
     "iopub.execute_input": "2022-07-25T18:17:31.723520Z",
     "iopub.status.busy": "2022-07-25T18:17:31.723138Z",
     "iopub.status.idle": "2022-07-25T18:17:32.028804Z",
     "shell.execute_reply": "2022-07-25T18:17:32.027421Z"
    },
    "papermill": {
     "duration": 0.326274,
     "end_time": "2022-07-25T18:17:32.031383",
     "exception": false,
     "start_time": "2022-07-25T18:17:31.705109",
     "status": "completed"
    },
    "tags": []
   },
   "outputs": [
    {
     "data": {
      "text/plain": [
       "<AxesSubplot:xlabel='Cabin', ylabel='Transported'>"
      ]
     },
     "execution_count": 36,
     "metadata": {},
     "output_type": "execute_result"
    },
    {
     "data": {
      "image/png": "[encoded data removed]",
      "text/plain": [
       "<Figure size 432x288 with 1 Axes>"
      ]
     },
     "metadata": {
      "needs_background": "light"
     },
     "output_type": "display_data"
    }
   ],
   "source": [
    "sns.barplot(x=df2[\"Cabin\"], y=df2[\"Transported\"])"
   ]
  },
  {
   "cell_type": "code",
   "execution_count": 37,
   "id": "b19c547f",
   "metadata": {
    "execution": {
     "iopub.execute_input": "2022-07-25T18:17:32.066803Z",
     "iopub.status.busy": "2022-07-25T18:17:32.065584Z",
     "iopub.status.idle": "2022-07-25T18:17:32.073799Z",
     "shell.execute_reply": "2022-07-25T18:17:32.072746Z"
    },
    "papermill": {
     "duration": 0.028221,
     "end_time": "2022-07-25T18:17:32.076307",
     "exception": false,
     "start_time": "2022-07-25T18:17:32.048086",
     "status": "completed"
    },
    "tags": []
   },
   "outputs": [
    {
     "name": "stdout",
     "output_type": "stream",
     "text": [
      "(8116, 6) (8116,)\n"
     ]
    }
   ],
   "source": [
    "x = df2.drop([\"Transported\",\"PassengerId\",\"Name\"],axis=1)\n",
    "y = df2[\"Transported\"]\n",
    "print(x.shape, y.shape)"
   ]
  },
  {
   "cell_type": "code",
   "execution_count": 38,
   "id": "910ab338",
   "metadata": {
    "execution": {
     "iopub.execute_input": "2022-07-25T18:17:32.110944Z",
     "iopub.status.busy": "2022-07-25T18:17:32.110504Z",
     "iopub.status.idle": "2022-07-25T18:17:32.331647Z",
     "shell.execute_reply": "2022-07-25T18:17:32.330417Z"
    },
    "papermill": {
     "duration": 0.241662,
     "end_time": "2022-07-25T18:17:32.334205",
     "exception": false,
     "start_time": "2022-07-25T18:17:32.092543",
     "status": "completed"
    },
    "tags": []
   },
   "outputs": [],
   "source": [
    "from sklearn.model_selection import train_test_split\n",
    "x_train,x_test, y_train,y_test = train_test_split(x,y,test_size=0.3)"
   ]
  },
  {
   "cell_type": "code",
   "execution_count": 39,
   "id": "4cf5fe38",
   "metadata": {
    "execution": {
     "iopub.execute_input": "2022-07-25T18:17:32.368378Z",
     "iopub.status.busy": "2022-07-25T18:17:32.367961Z",
     "iopub.status.idle": "2022-07-25T18:17:32.455075Z",
     "shell.execute_reply": "2022-07-25T18:17:32.454174Z"
    },
    "papermill": {
     "duration": 0.107276,
     "end_time": "2022-07-25T18:17:32.457526",
     "exception": false,
     "start_time": "2022-07-25T18:17:32.350250",
     "status": "completed"
    },
    "tags": []
   },
   "outputs": [],
   "source": [
    "from sklearn.linear_model import LogisticRegression\n",
    "lr = LogisticRegression()"
   ]
  },
  {
   "cell_type": "code",
   "execution_count": 40,
   "id": "7173d458",
   "metadata": {
    "execution": {
     "iopub.execute_input": "2022-07-25T18:17:32.491836Z",
     "iopub.status.busy": "2022-07-25T18:17:32.491178Z",
     "iopub.status.idle": "2022-07-25T18:17:32.612018Z",
     "shell.execute_reply": "2022-07-25T18:17:32.610669Z"
    },
    "papermill": {
     "duration": 0.142014,
     "end_time": "2022-07-25T18:17:32.615511",
     "exception": false,
     "start_time": "2022-07-25T18:17:32.473497",
     "status": "completed"
    },
    "tags": []
   },
   "outputs": [
    {
     "data": {
      "text/plain": [
       "LogisticRegression()"
      ]
     },
     "execution_count": 40,
     "metadata": {},
     "output_type": "execute_result"
    }
   ],
   "source": [
    "lr.fit(x_train,y_train)"
   ]
  },
  {
   "cell_type": "code",
   "execution_count": 41,
   "id": "07904b7c",
   "metadata": {
    "execution": {
     "iopub.execute_input": "2022-07-25T18:17:32.676768Z",
     "iopub.status.busy": "2022-07-25T18:17:32.676116Z",
     "iopub.status.idle": "2022-07-25T18:17:32.696681Z",
     "shell.execute_reply": "2022-07-25T18:17:32.695336Z"
    },
    "papermill": {
     "duration": 0.055981,
     "end_time": "2022-07-25T18:17:32.700965",
     "exception": false,
     "start_time": "2022-07-25T18:17:32.644984",
     "status": "completed"
    },
    "tags": []
   },
   "outputs": [
    {
     "data": {
      "text/plain": [
       "0.7071868583162217"
      ]
     },
     "execution_count": 41,
     "metadata": {},
     "output_type": "execute_result"
    }
   ],
   "source": [
    "lr.score(x_test,y_test)"
   ]
  },
  {
   "cell_type": "code",
   "execution_count": 42,
   "id": "3b1c0909",
   "metadata": {
    "execution": {
     "iopub.execute_input": "2022-07-25T18:17:32.764811Z",
     "iopub.status.busy": "2022-07-25T18:17:32.764199Z",
     "iopub.status.idle": "2022-07-25T18:17:32.784587Z",
     "shell.execute_reply": "2022-07-25T18:17:32.783205Z"
    },
    "papermill": {
     "duration": 0.05623,
     "end_time": "2022-07-25T18:17:32.788783",
     "exception": false,
     "start_time": "2022-07-25T18:17:32.732553",
     "status": "completed"
    },
    "tags": []
   },
   "outputs": [
    {
     "data": {
      "text/plain": [
       "0.7236402041894032"
      ]
     },
     "execution_count": 42,
     "metadata": {},
     "output_type": "execute_result"
    }
   ],
   "source": [
    "lr.score(x_train,y_train)"
   ]
  },
  {
   "cell_type": "code",
   "execution_count": 43,
   "id": "7cfcfc49",
   "metadata": {
    "execution": {
     "iopub.execute_input": "2022-07-25T18:17:32.851504Z",
     "iopub.status.busy": "2022-07-25T18:17:32.850952Z",
     "iopub.status.idle": "2022-07-25T18:17:32.867483Z",
     "shell.execute_reply": "2022-07-25T18:17:32.866192Z"
    },
    "papermill": {
     "duration": 0.054817,
     "end_time": "2022-07-25T18:17:32.874334",
     "exception": false,
     "start_time": "2022-07-25T18:17:32.819517",
     "status": "completed"
    },
    "tags": []
   },
   "outputs": [
    {
     "name": "stdout",
     "output_type": "stream",
     "text": [
      "[ True False False False False] 5274     True\n",
      "4974    False\n",
      "2580    False\n",
      "723     False\n",
      "8139     True\n",
      "Name: Transported, dtype: bool\n"
     ]
    }
   ],
   "source": [
    "y_pred = lr.predict(x_test)\n",
    "print(y_pred[:5] , y_test.head())"
   ]
  },
  {
   "cell_type": "code",
   "execution_count": 44,
   "id": "260979ac",
   "metadata": {
    "execution": {
     "iopub.execute_input": "2022-07-25T18:17:32.937191Z",
     "iopub.status.busy": "2022-07-25T18:17:32.936575Z",
     "iopub.status.idle": "2022-07-25T18:17:33.903959Z",
     "shell.execute_reply": "2022-07-25T18:17:33.902485Z"
    },
    "papermill": {
     "duration": 1.001905,
     "end_time": "2022-07-25T18:17:33.906665",
     "exception": false,
     "start_time": "2022-07-25T18:17:32.904760",
     "status": "completed"
    },
    "tags": []
   },
   "outputs": [
    {
     "name": "stdout",
     "output_type": "stream",
     "text": [
      "0.601360570334907\n"
     ]
    }
   ],
   "source": [
    "from sklearn.ensemble import RandomForestRegressor\n",
    "regr = RandomForestRegressor(random_state=400,)\n",
    "regr.fit(x_train,y_train)\n",
    "print(regr.score(x_train,y_train))"
   ]
  },
  {
   "cell_type": "code",
   "execution_count": 45,
   "id": "267267df",
   "metadata": {
    "execution": {
     "iopub.execute_input": "2022-07-25T18:17:33.943336Z",
     "iopub.status.busy": "2022-07-25T18:17:33.942711Z",
     "iopub.status.idle": "2022-07-25T18:17:33.967208Z",
     "shell.execute_reply": "2022-07-25T18:17:33.966158Z"
    },
    "papermill": {
     "duration": 0.047535,
     "end_time": "2022-07-25T18:17:33.970986",
     "exception": false,
     "start_time": "2022-07-25T18:17:33.923451",
     "status": "completed"
    },
    "tags": []
   },
   "outputs": [
    {
     "name": "stdout",
     "output_type": "stream",
     "text": [
      "0.6253313151798086\n",
      "[0.75       0.33333333 0.375      0.68421053 0.        ] 5274     True\n",
      "4974    False\n",
      "2580    False\n",
      "723     False\n",
      "8139     True\n",
      "Name: Transported, dtype: bool\n"
     ]
    }
   ],
   "source": [
    "from sklearn.tree import DecisionTreeRegressor\n",
    "dr = DecisionTreeRegressor(random_state=200,max_depth=20, )\n",
    "dr.fit(x_train,y_train)\n",
    "print(dr.score(x_train,y_train))\n",
    "y_pred = dr.predict(x_test)\n",
    "print(y_pred[:5] , y_test.head())"
   ]
  },
  {
   "cell_type": "code",
   "execution_count": null,
   "id": "7591c31d",
   "metadata": {
    "papermill": {
     "duration": 0.01643,
     "end_time": "2022-07-25T18:17:34.004843",
     "exception": false,
     "start_time": "2022-07-25T18:17:33.988413",
     "status": "completed"
    },
    "tags": []
   },
   "outputs": [],
   "source": []
  }
 ],
 "metadata": {
  "kernelspec": {
   "display_name": "Python 3",
   "language": "python",
   "name": "python3"
  },
  "language_info": {
   "codemirror_mode": {
    "name": "ipython",
    "version": 3
   },
   "file_extension": ".py",
   "mimetype": "text/x-python",
   "name": "python",
   "nbconvert_exporter": "python",
   "pygments_lexer": "ipython3",
   "version": "3.7.12"
  },
  "papermill": {
   "default_parameters": {},
   "duration": 16.756216,
   "end_time": "2022-07-25T18:17:34.744712",
   "environment_variables": {},
   "exception": null,
   "input_path": "__notebook__.ipynb",
   "output_path": "__notebook__.ipynb",
   "parameters": {},
   "start_time": "2022-07-25T18:17:17.988496",
   "version": "2.3.4"
  }
 },
 "nbformat": 4,
 "nbformat_minor": 5
}
